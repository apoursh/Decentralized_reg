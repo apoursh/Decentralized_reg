{
 "cells": [
  {
   "cell_type": "code",
   "execution_count": 1,
   "metadata": {
    "collapsed": false
   },
   "outputs": [
    {
     "name": "stderr",
     "output_type": "stream",
     "text": [
      "/Users/armin/miniconda/lib/python2.7/site-packages/IPython/config.py:13: ShimWarning: The `IPython.config` package has been deprecated. You should import from traitlets.config instead.\n",
      "  \"You should import from traitlets.config instead.\", ShimWarning)\n",
      "/Users/armin/miniconda/lib/python2.7/site-packages/IPython/utils/traitlets.py:5: UserWarning: IPython.utils.traitlets has moved to a top-level traitlets package.\n",
      "  warn(\"IPython.utils.traitlets has moved to a top-level traitlets package.\")\n"
     ]
    }
   ],
   "source": [
    "%load_ext ipycache"
   ]
  },
  {
   "cell_type": "code",
   "execution_count": 2,
   "metadata": {
    "collapsed": false
   },
   "outputs": [],
   "source": [
    "# utility libraries\n",
    "import numpy as np\n",
    "from utils import *\n",
    "from sklearn.linear_model import LogisticRegression\n",
    "import pandas as pd\n",
    "import pdb\n",
    "import imp \n",
    "import time \n",
    "from sklearn.linear_model import LogisticRegression\n",
    "from time import time\n",
    "#parallelizing \n",
    "from joblib import Parallel, delayed\n",
    "from pathos import multiprocessing \n",
    "from pathos.multiprocessing import Pool\n",
    "import warnings\n",
    "warnings.filterwarnings('ignore')\n",
    "import sys\n",
    "\n",
    "\n",
    "# Plotting libraries\n",
    "%matplotlib inline\n",
    "import seaborn as sns\n",
    "import matplotlib.pyplot as plt\n",
    "import matplotlib.patches\n",
    "colors = np.array([\"#9b59b6\", \"#3498db\", \"#95a5a6\", \"#e74c3c\", \"#34495e\", \"#2ecc71\",\"#650021\"])\n",
    "figSaveFile = \"fig/\"\n",
    "sns.set_style(\"whitegrid\", {'axes.grid' : False})\n",
    "sns.set_style(\"ticks\")\n",
    "\n",
    "\n"
   ]
  },
  {
   "cell_type": "code",
   "execution_count": 3,
   "metadata": {
    "collapsed": true
   },
   "outputs": [],
   "source": [
    "# Constants \n",
    "\n",
    "red = (0.7686274509803922, 0.3058823529411765, 0.3215686274509804)\n",
    "blue = (0.2980392156862745, 0.4470588235294118, 0.6901960784313725)\n",
    "green = (0.3333333333333333, 0.6588235294117647, 0.40784313725490196)\n",
    "orange = (0.8, 0.7254901960784313, 0.4549019607843137)\n",
    "totDOs = 5"
   ]
  },
  {
   "cell_type": "markdown",
   "metadata": {},
   "source": [
    "# Determine step-size"
   ]
  },
  {
   "cell_type": "code",
   "execution_count": 4,
   "metadata": {
    "collapsed": true
   },
   "outputs": [],
   "source": [
    "def batch_stepsize_test(totCount, dim, totDOs,f, bs, hs,x, eta, dtype='m'): # f is for fraction of categorical covariates \n",
    "    np.random.seed(982451653*x%1235641343)\n",
    "    beta = np.random.normal(0,1,dim + 1)\n",
    "    num = None\n",
    "    # check that no DO gets less than 10% of the data \n",
    "    while (num == None or any(num < totCount/10.0)):\n",
    "        num = np.random.poisson(totCount/float(totDOs), totDOs-1)\n",
    "        num = np.append(num,totCount - sum(num))\n",
    "    center = DataCenter(dim)\n",
    "    for i, n in enumerate(num):\n",
    "        DataRepo(n, dtype, dim, beta, center, f)\n",
    "    center.count_data()\n",
    "    center.scale()\n",
    "    betaL,cost,roc, zeroone = all_regression(center)\n",
    "    betas = np.zeros((5, betaL.shape[0]))\n",
    "    \n",
    "    betas[0,:] = center.SQN(50,10,eta,bs,hs, max_iters=1000).ravel() #SQN beta\n",
    "    betas[1,:] = center.batch_SGD(bs,0.0001, max_iters=1000, step=eta)[0]      # simple sgd \n",
    "    betas[2,:] = center.batch_SGD(bs,0.0001, max_iters=1000, stepAlg=1, step=eta)[0]    #adagrad \n",
    "    betas[3,:] = center.batch_SGD(bs,0.0001, max_iters=1000, stepAlg=2, step=eta)[0]     #rms prop \n",
    "    betas[4,:] = center.batch_SGD(bs,0.0001, max_iters=1000, stepAlg=3, step=eta)[0]     #adadelta \n",
    "    \n",
    "    costs = np.zeros((6,3))\n",
    "    for i in xrange(5):\n",
    "        costs[i,:] = center.evaluate(betas[i,:])\n",
    "    costs[5,:] = cost, roc, zeroone\n",
    "    return costs"
   ]
  },
  {
   "cell_type": "code",
   "execution_count": 5,
   "metadata": {
    "collapsed": false
   },
   "outputs": [
    {
     "name": "stdout",
     "output_type": "stream",
     "text": [
      "[Skipped the cell's code and loaded variables stepsizemixedData from file '/Users/armin/Documents/Bust_lab/online-regression/Decentralized_reg/logstepsize.pkl'.]\n",
      "6640.23932981\n"
     ]
    }
   ],
   "source": [
    "%%cache logstepsize.pkl stepsizemixedData \n",
    "all_etas = [[0.01,0.05,0.1,0.5,1.0,5.0,10.0,50.0],\n",
    "        [0.01,0.05,0.1,0.5,1.0,5.0,10.0,50.0],\n",
    "        [0.05,0.1,0.5,1.0,5.0,10.0,50.0,100.0]]\n",
    "s = \"steps\"\n",
    "seed = int(''.join(str(ord(c)) for c in s))%4294967295\n",
    "reps = 100\n",
    "stepsizemixedData = []\n",
    "Ns = [100,1000, 10000]\n",
    "bs = [0.1] * len(Ns)\n",
    "hs = [0.3] * len(Ns)\n",
    "pnum = 5\n",
    "p = Pool(4)\n",
    "inputs=range(1,reps+1)\n",
    "\n",
    "\n",
    "t0 = time()\n",
    "for i in xrange(3):\n",
    "    etas = all_etas[i]\n",
    "    for eta in etas:\n",
    "        nnum= Ns[i]\n",
    "        f = lambda x: batch_stepsize_test(x[1],x[2],5,0.5, x[3], x[4],x[0],x[5])\n",
    "        keywords = zip([int(j*hs[i]*nnum*seed) for j in inputs],[nnum]*reps, \n",
    "                       [pnum]*reps, [bs[i]]*reps, [hs[i]]*reps,[eta]*reps)\n",
    "        results=p.map(f, keywords)\n",
    "        stepsizemixedData.append(results)\n",
    "print time()-t0"
   ]
  },
  {
   "cell_type": "code",
   "execution_count": 6,
   "metadata": {
    "collapsed": false
   },
   "outputs": [
    {
     "name": "stdout",
     "output_type": "stream",
     "text": [
      "[[ 0.31863574  0.58303721  0.47005499  0.22753048  0.22816116  0.22476603]\n",
      " [ 0.2249053   0.41613062  0.29293712  0.2264303   0.22635976  0.22476603]\n",
      " [ 0.22510643  0.35122722  0.25217883  0.22827156  0.22801226  0.22476603]\n",
      " [ 0.2265382   0.26081258  0.22623464  0.24957348  0.24617139  0.22476603]\n",
      " [ 0.22873381  0.24277777  0.22591247  0.28941583  0.28024407  0.22476603]\n",
      " [        nan  0.22688009  0.23042682  0.86085385  0.76683446  0.22476603]\n",
      " [        nan  0.22543528  0.23664192  1.62739265  1.46950521  0.22476603]\n",
      " [        nan  0.22514887  0.33380018  3.82297481  3.63656854  0.22476603]]\n"
     ]
    }
   ],
   "source": [
    "print np.mean(np.array(stepsizemixedData)[8:16,:,:,0], axis = 1)"
   ]
  },
  {
   "cell_type": "code",
   "execution_count": 7,
   "metadata": {
    "collapsed": false
   },
   "outputs": [
    {
     "data": {
      "text/plain": [
       "array([[ 0.30813515,  0.57489399,  0.48314412,  0.21936033,  0.22056175,\n",
       "         0.20044146],\n",
       "       [ 0.20485518,  0.40248662,  0.29329687,  0.21111738,  0.20976139,\n",
       "         0.20044146],\n",
       "       [        nan,  0.33698464,  0.24684116,  0.21713327,  0.21394898,\n",
       "         0.20044146],\n",
       "       [        nan,  0.24566293,  0.21010627,  0.28412777,  0.26747207,\n",
       "         0.20044146],\n",
       "       [        nan,  0.22669953,  0.20884419,  0.40133201,  0.36777932,\n",
       "         0.20044146],\n",
       "       [        nan,  0.20804075,  0.22299286,  1.65162857,  1.44081952,\n",
       "         0.20044146],\n",
       "       [        nan,  0.20629913,  0.26183121,  3.02423183,  2.95706397,\n",
       "         0.20044146],\n",
       "       [        nan,  0.23035407,  3.08276002,  5.19062566,  5.5105741 ,\n",
       "         0.20044146],\n",
       "       [ 0.31863574,  0.58303721,  0.47005499,  0.22753048,  0.22816116,\n",
       "         0.22476603]])"
      ]
     },
     "execution_count": 7,
     "metadata": {},
     "output_type": "execute_result"
    }
   ],
   "source": [
    "np.mean(np.array(stepsizemixedData)[:9,:,:,0], axis = 1)"
   ]
  },
  {
   "cell_type": "code",
   "execution_count": 8,
   "metadata": {
    "collapsed": false
   },
   "outputs": [
    {
     "ename": "NameError",
     "evalue": "name 'all_etas' is not defined",
     "output_type": "error",
     "traceback": [
      "\u001b[0;31m---------------------------------------------------------------------------\u001b[0m",
      "\u001b[0;31mNameError\u001b[0m                                 Traceback (most recent call last)",
      "\u001b[0;32m<ipython-input-8-8ffe1fae9058>\u001b[0m in \u001b[0;36m<module>\u001b[0;34m()\u001b[0m\n\u001b[0;32m----> 1\u001b[0;31m \u001b[0;34m[\u001b[0m\u001b[0mall_etas\u001b[0m\u001b[0;34m[\u001b[0m\u001b[0;36m0\u001b[0m\u001b[0;34m]\u001b[0m\u001b[0;34m[\u001b[0m\u001b[0mi\u001b[0m\u001b[0;34m]\u001b[0m \u001b[0;32mfor\u001b[0m \u001b[0mi\u001b[0m \u001b[0;32min\u001b[0m \u001b[0mnp\u001b[0m\u001b[0;34m.\u001b[0m\u001b[0mnanargmin\u001b[0m\u001b[0;34m(\u001b[0m\u001b[0mnp\u001b[0m\u001b[0;34m.\u001b[0m\u001b[0mmean\u001b[0m\u001b[0;34m(\u001b[0m\u001b[0mnp\u001b[0m\u001b[0;34m.\u001b[0m\u001b[0marray\u001b[0m\u001b[0;34m(\u001b[0m\u001b[0mstepsizemixedData\u001b[0m\u001b[0;34m)\u001b[0m\u001b[0;34m[\u001b[0m\u001b[0;34m:\u001b[0m\u001b[0;36m8\u001b[0m\u001b[0;34m,\u001b[0m\u001b[0;34m:\u001b[0m\u001b[0;34m,\u001b[0m\u001b[0;34m:\u001b[0m\u001b[0;34m,\u001b[0m\u001b[0;36m0\u001b[0m\u001b[0;34m]\u001b[0m\u001b[0;34m,\u001b[0m \u001b[0maxis\u001b[0m \u001b[0;34m=\u001b[0m \u001b[0;36m1\u001b[0m\u001b[0;34m)\u001b[0m\u001b[0;34m,\u001b[0m \u001b[0maxis\u001b[0m\u001b[0;34m=\u001b[0m\u001b[0;36m0\u001b[0m\u001b[0;34m)\u001b[0m\u001b[0;34m]\u001b[0m\u001b[0;34m\u001b[0m\u001b[0m\n\u001b[0m",
      "\u001b[0;31mNameError\u001b[0m: name 'all_etas' is not defined"
     ]
    }
   ],
   "source": [
    "[all_etas[0][i] for i in np.nanargmin(np.mean(np.array(stepsizemixedData)[:8,:,:,0], axis = 1), axis=0)]"
   ]
  },
  {
   "cell_type": "code",
   "execution_count": 88,
   "metadata": {
    "collapsed": false
   },
   "outputs": [
    {
     "data": {
      "text/plain": [
       "[0.05, 50.0, 1.0, 0.05, 0.05, 0.01]"
      ]
     },
     "execution_count": 88,
     "metadata": {},
     "output_type": "execute_result"
    }
   ],
   "source": [
    "[all_etas[1][i] for i in np.nanargmin(np.mean(np.array(stepsizemixedData)[8:16,:,:,0], axis = 1), axis=0)]"
   ]
  },
  {
   "cell_type": "code",
   "execution_count": 89,
   "metadata": {
    "collapsed": false
   },
   "outputs": [
    {
     "data": {
      "text/plain": [
       "[0.05, 50.0, 1.0, 0.05, 0.05, 0.05]"
      ]
     },
     "execution_count": 89,
     "metadata": {},
     "output_type": "execute_result"
    }
   ],
   "source": [
    "[all_etas[2][i] for i in np.nanargmin(np.mean(np.array(stepsizemixedData)[16:,:,:,0], axis = 1), axis=0)]"
   ]
  },
  {
   "cell_type": "code",
   "execution_count": 91,
   "metadata": {
    "collapsed": false
   },
   "outputs": [
    {
     "data": {
      "text/plain": [
       "array([ 0.57489399,  0.40248662,  0.33698464,  0.24566293,  0.22669953,\n",
       "        0.20804075,  0.20629913,  0.23035407])"
      ]
     },
     "execution_count": 91,
     "metadata": {},
     "output_type": "execute_result"
    }
   ],
   "source": [
    "np.mean(np.array(stepsizemixedData)[:8,:,1,0], axis=1)"
   ]
  },
  {
   "cell_type": "code",
   "execution_count": 92,
   "metadata": {
    "collapsed": false
   },
   "outputs": [
    {
     "name": "stdout",
     "output_type": "stream",
     "text": [
      "[[ 0.30813515  0.57489399  0.48314412  0.21936033  0.22056175  0.20044146]\n",
      " [ 0.20485518  0.40248662  0.29329687  0.21111738  0.20976139  0.20044146]\n",
      " [        nan  0.33698464  0.24684116  0.21713327  0.21394898  0.20044146]\n",
      " [        nan  0.24566293  0.21010627  0.28412777  0.26747207  0.20044146]\n",
      " [        nan  0.22669953  0.20884419  0.40133201  0.36777932  0.20044146]\n",
      " [        nan  0.20804075  0.22299286  1.65162857  1.44081952  0.20044146]\n",
      " [        nan  0.20629913  0.26183121  3.02423183  2.95706397  0.20044146]\n",
      " [        nan  0.23035407  3.08276002  5.19062566  5.5105741   0.20044146]\n",
      " [ 0.31863574  0.58303721  0.47005499  0.22753048  0.22816116  0.22476603]\n",
      " [ 0.2249053   0.41613062  0.29293712  0.2264303   0.22635976  0.22476603]\n",
      " [ 0.22510643  0.35122722  0.25217883  0.22827156  0.22801226  0.22476603]\n",
      " [ 0.2265382   0.26081258  0.22623464  0.24957348  0.24617139  0.22476603]\n",
      " [ 0.22873381  0.24277777  0.22591247  0.28941583  0.28024407  0.22476603]\n",
      " [        nan  0.22688009  0.23042682  0.86085385  0.76683446  0.22476603]\n",
      " [        nan  0.22543528  0.23664192  1.62739265  1.46950521  0.22476603]\n",
      " [        nan  0.22514887  0.33380018  3.82297481  3.63656854  0.22476603]\n",
      " [ 0.22421667  0.41901704  0.29125891  0.22474688  0.22461167  0.22420212]\n",
      " [ 0.22422835  0.35309533  0.24980429  0.22537627  0.22506615  0.22420212]\n",
      " [ 0.22436917  0.25975572  0.22504239  0.23630646  0.23424459  0.22420212]\n",
      " [ 0.22455694  0.24126851  0.22456849  0.26667169  0.2645986   0.22420212]\n",
      " [        nan  0.22593492  0.22586122  0.75760288  0.72831702  0.22420212]\n",
      " [        nan  0.22467354  0.2276282   1.49256425  1.31598398  0.22420212]\n",
      " [        nan  0.22423819  0.29443614  3.62294742  3.51627713  0.22420212]\n",
      " [        nan  0.22427083  0.49565105  4.22189193  4.20022715  0.22420212]]\n"
     ]
    }
   ],
   "source": [
    "print np.mean(np.array(stepsizemixedData)[:,:,:,0], axis = 1) "
   ]
  },
  {
   "cell_type": "code",
   "execution_count": 93,
   "metadata": {
    "collapsed": false
   },
   "outputs": [
    {
     "name": "stdout",
     "output_type": "stream",
     "text": [
      "0.206299134008\n",
      "0.224238188688\n"
     ]
    }
   ],
   "source": [
    "print np.min(np.mean(np.array(stepsizemixedData)[:9,:,1,0], axis = 1))\n",
    "print np.min(np.mean(np.array(stepsizemixedData)[9:,:,1,0], axis = 1))"
   ]
  },
  {
   "cell_type": "markdown",
   "metadata": {
    "collapsed": false
   },
   "source": [
    "# simulations"
   ]
  },
  {
   "cell_type": "markdown",
   "metadata": {},
   "source": [
    "## Number of covariates "
   ]
  },
  {
   "cell_type": "code",
   "execution_count": 192,
   "metadata": {
    "collapsed": true
   },
   "outputs": [],
   "source": [
    "totDOs = 5\n",
    "def all_algs(totCount, dim, totDOs,f, bs, hs,x, dtype='m'): # f is for fraction of categorical covariates \n",
    "    np.random.seed(982451653*x%1235641343)\n",
    "    beta = np.random.normal(0,1,dim + 1)\n",
    "    num = None\n",
    "    # check that no DO gets less than 10% of the data \n",
    "    while (num == None or any(num < totCount/10.0)):\n",
    "        num = np.random.poisson(totCount/float(totDOs), totDOs-1)\n",
    "        num = np.append(num,totCount - sum(num))\n",
    "    center = DataCenter(dim)\n",
    "    for i,n in enumerate(num):\n",
    "        DataRepo(n, dtype, dim, beta, center, f)\n",
    "    center.count_data()\n",
    "    center.scale()\n",
    "    betaL, cost, roc, zeroone = all_regression(center)\n",
    "    betas = np.zeros((7,betaL.shape[0]))\n",
    "    if totCount < 500 and totCount > 50:\n",
    "        etas = [0.05, 10.0, 1.0, 0.05, 0.05]\n",
    "    elif totCount < 5000 and totCount > 500:\n",
    "        etas = [0.05, 50.0, 1.0, 0.05, 0.05]\n",
    "    elif totCount > 5000 and totCount < 5e4:\n",
    "        etas = [0.05, 50.0, 1.0, 0.05, 0.05]\n",
    "    \n",
    "    betas[0,:] = center.avgLogistic()     # averaging \n",
    "    betas[1,:] = center.SQN(50,10,etas[0],bs,hs, max_iters=1000).ravel()   #SQN beta\n",
    "    betas[2,:] = center.batch_SGD(bs,0.0001, max_iters=1000, step=etas[1])[0]      # simple sgd \n",
    "    betas[3,:] = center.batch_SGD(bs,0.0001, max_iters=1000, stepAlg=1, step=etas[2])[0]    #adagrad \n",
    "    betas[4,:] = center.batch_SGD(bs,0.0001, max_iters=1000, stepAlg=2, step=etas[3])[0]     #rms prop \n",
    "    betas[5,:] = center.batch_SGD(bs,0.0001, max_iters=1000, stepAlg=3, step=etas[4])[0]     #adadelta \n",
    "    betas[6,:] = center.ADMM(1.0, max_iters=1000)    # admm \n",
    "    costs = np.zeros((8,3))\n",
    "    for i in xrange(7):\n",
    "        costs[i,:] = center.evaluate(betas[i,:])\n",
    "    costs[7,:] = cost, roc, zeroone\n",
    "    return costs"
   ]
  },
  {
   "cell_type": "code",
   "execution_count": 182,
   "metadata": {
    "collapsed": false
   },
   "outputs": [
    {
     "name": "stdout",
     "output_type": "stream",
     "text": [
      "400.595676899\n"
     ]
    }
   ],
   "source": [
    "#%%cache PN0Results.pkl datapn0\n",
    "s = \"time0\"\n",
    "seed = int(''.join(str(ord(c)) for c in s))%4294967295\n",
    "reps = 10\n",
    "datapn0 = []\n",
    "Ns = [100,1000, 10000]\n",
    "bs = [0.1, .1,.1]\n",
    "hs = [0.3, .3,.3]\n",
    "Ps = [1,2,5,10]\n",
    "p = Pool(4)\n",
    "inputs=range(1,reps+1)\n",
    "\n",
    "\n",
    "t0 = time()\n",
    "for i in xrange(3):\n",
    "    for pnum in Ps:\n",
    "        nnum= Ns[i]\n",
    "        f = lambda x: all_algs(x[1],x[2],5,0, x[3], x[4],x[0])\n",
    "        keywords = zip([int(j*hs[i]*nnum*seed) for j in inputs],[nnum]*reps, \n",
    "                       [pnum]*reps, [bs[i]]*reps, [hs[i]]*reps)\n",
    "        results=p.map(f, keywords)\n",
    "        datapn0.append(results)\n",
    "print time()-t0\n"
   ]
  },
  {
   "cell_type": "code",
   "execution_count": 162,
   "metadata": {
    "collapsed": false
   },
   "outputs": [
    {
     "name": "stdout",
     "output_type": "stream",
     "text": [
      "[Skipped the cell's code and loaded variables datapn1 from file '/Users/armin/Documents/Bust_lab/online-regression/Decentralized_reg/PN1Results.pkl'.]\n",
      "4359.94717097\n"
     ]
    }
   ],
   "source": [
    "%%cache PN1Results.pkl datapn1\n",
    "s = \"PNexp1\"\n",
    "seed = int(''.join(str(ord(c)) for c in s))%4294967295\n",
    "reps = 100\n",
    "datapn1 = []\n",
    "Ns = [100,1000, 10000]\n",
    "bs = [0.1, .1,.1]\n",
    "hs = [0.3, .3,.3]\n",
    "Ps = [1,2,5,10]\n",
    "p = Pool(4)\n",
    "inputs=range(1,reps+1)\n",
    "\n",
    "\n",
    "t0 = time()\n",
    "for i in xrange(3):\n",
    "    for pnum in Ps:\n",
    "        nnum= Ns[i]\n",
    "        f = lambda x: all_algs(x[1], x[2],5, 1.0, x[3], x[4], x[0])\n",
    "        keywords = zip([int(j*hs[i]*nnum*seed) for j in inputs],[nnum]*reps, \n",
    "                       [pnum]*reps, [bs[i]]*reps, [hs[i]]*reps)\n",
    "        results=p.map(f, keywords)\n",
    "        datapn1.append(results)\n",
    "print time()-t0"
   ]
  },
  {
   "cell_type": "code",
   "execution_count": 30,
   "metadata": {
    "collapsed": false
   },
   "outputs": [
    {
     "name": "stdout",
     "output_type": "stream",
     "text": [
      "[Saved variables datapn05 to file '/Users/armin/Documents/Bust_lab/online-regression/Decentralized_reg/PN05Results.pkl'.]\n",
      "7597.29314303\n"
     ]
    }
   ],
   "source": [
    "%%cache PN05Results.pkl datapn05\n",
    "s = \"PNexp05\"\n",
    "seed = int(''.join(str(ord(c)) for c in s))%4294967295\n",
    "reps = 100\n",
    "datapn05 = []\n",
    "Ns = [100,1000, 10000]\n",
    "bs = [0.1, .1,.1]\n",
    "hs = [0.3, .3,.3]\n",
    "Ps = [1,2,5,10]\n",
    "p = Pool(4)\n",
    "inputs=range(1,reps+1)\n",
    "\n",
    "\n",
    "t0 = time()\n",
    "for i in xrange(3):\n",
    "    for pnum in Ps:\n",
    "        nnum= Ns[i]\n",
    "        f = lambda x: all_algs(x[1], x[2],5, 0.5, x[3], x[4], x[0])\n",
    "        keywords = zip([int(j*hs[i]*nnum*seed) for j in inputs],[nnum]*reps, \n",
    "                       [pnum]*reps, [bs[i]]*reps, [hs[i]]*reps)\n",
    "        results=p.map(f, keywords)\n",
    "        datapn05.append(results)\n",
    "print time()-t0"
   ]
  },
  {
   "cell_type": "code",
   "execution_count": 26,
   "metadata": {
    "collapsed": false
   },
   "outputs": [
    {
     "data": {
      "image/png": "[encoded data removed]",
      "text/plain": [
       "<matplotlib.figure.Figure at 0x1079eeb90>"
      ]
     },
     "metadata": {},
     "output_type": "display_data"
    }
   ],
   "source": [
    "P = [2,3,6,11]\n",
    "P = P + P + P\n",
    "N = [100] * 4 + [1000] * 4 + [10000] * 4\n",
    "df = df_from_pn(P,N, datapn0)\n",
    "name, n, loss = 'allpnResults0', 100, 0\n",
    "\n",
    "ax = plot_pn(df[(df.n==n) & (df.loss==loss)& (df.variable!='logistic')],'Cost Function Difference',[-30,10])\n",
    "#ax.savefig(figSaveFile+\"p_\"+name+\"_\"+str(n)+\"_\"+str(loss)+\".png\")"
   ]
  },
  {
   "cell_type": "code",
   "execution_count": 27,
   "metadata": {
    "collapsed": false,
    "scrolled": true
   },
   "outputs": [
    {
     "data": {
      "image/png": "[encoded data removed]",
      "text/plain": [
       "<matplotlib.figure.Figure at 0x10783f950>"
      ]
     },
     "metadata": {},
     "output_type": "display_data"
    }
   ],
   "source": [
    "P = [2,3,6,11]\n",
    "P = P + P + P\n",
    "N = [100] * 4 + [1000] * 4 + [10000] * 4\n",
    "df = df_from_pn(P,N, datapn0)\n",
    "name, n, loss = 'allpnResults0', 10000, 0\n",
    "\n",
    "ax = plot_pn(df[(df.n==n) & (df.loss==loss)& (df.variable!='logistic')],'Cost Function Difference',[-30,10])"
   ]
  },
  {
   "cell_type": "code",
   "execution_count": 54,
   "metadata": {
    "collapsed": false
   },
   "outputs": [
    {
     "data": {
      "image/png": "[encoded data removed]",
      "text/plain": [
       "<matplotlib.figure.Figure at 0x10744bc90>"
      ]
     },
     "metadata": {},
     "output_type": "display_data"
    },
    {
     "data": {
      "image/png": "[encoded data removed]",
      "text/plain": [
       "<matplotlib.figure.Figure at 0x108846310>"
      ]
     },
     "metadata": {},
     "output_type": "display_data"
    },
    {
     "data": {
      "image/png": "[encoded data removed]",
      "text/plain": [
       "<matplotlib.figure.Figure at 0x10736e650>"
      ]
     },
     "metadata": {},
     "output_type": "display_data"
    }
   ],
   "source": [
    "#Plotting \n",
    "plt.rc('text', usetex=True)\n",
    "\n",
    "P = [1,2,5,10]\n",
    "P = P + P + P\n",
    "N = [100] * 4 + [1000] * 4 + [10000] * 4\n",
    "text = r\"$\\log(\\ell_{C} - \\ell_{D})$\"\n",
    "window = [-30,5]\n",
    "\n",
    "name, n, loss = 'datapn0', 1000, 0\n",
    "df = df_from_pn(P,N, datapn0)\n",
    "df1 = df[(df.n==n) & (df.loss==loss)& (df.variable!='logistic')]\n",
    "df1.value[np.isneginf(df1.value)] = np.min(df1.value[np.logical_not(np.isneginf(df1.value))])\n",
    "#df1['value'].fillna((df1['value'].mean()), inplace=True)\n",
    "\n",
    "ax = plot_pn(df1,text,window)\n",
    "#ax.savefig(figSaveFile+\"p_\"+name+\"_\"+str(n)+\"_\"+str(loss)+\".png\")\n",
    "\n",
    "name, n, loss = 'datapn0', 10000, 0\n",
    "df = df_from_pn(P,N, datapn1)\n",
    "df1 = df[(df.n==n) & (df.loss==loss)& (df.variable!='logistic')]\n",
    "#df1.value[np.isneginf(df1.value)] = np.nan \n",
    "#df1['value'].fillna((df1['value'].mean()), inplace=True)\n",
    "ax = plot_pn(df1,text,window)\n",
    "#ax.savefig(figSaveFile+\"p_\"+name+\"_\"+str(n)+\"_\"+str(loss)+\".png\")\n",
    "\n",
    "name, n, loss = 'datapn0', 100, 0\n",
    "df = df_from_pn(P,N, datapn1)\n",
    "df1 = df[(df.n==n) & (df.loss==loss)& (df.variable!='logistic')]\n",
    "df1.value[np.isneginf(df1.value)] = np.min(df1.value[np.logical_not(np.isneginf(df1.value))])\n",
    "#df1['value'].fillna((df1['value'].mean()), inplace=True)\n",
    "ax = plot_pn(df1,text,window)\n",
    "#ax.savefig(figSaveFile+\"p_\"+name+\"_\"+str(n)+\"_\"+str(loss)+\".png\")\n",
    "\n",
    "#  this one needs special attention, one of the values ended up being nan, so we will delete that and relvant counts"
   ]
  },
  {
   "cell_type": "markdown",
   "metadata": {},
   "source": [
    "## Number of DO's"
   ]
  },
  {
   "cell_type": "markdown",
   "metadata": {},
   "source": [
    "## Convergence Speed"
   ]
  },
  {
   "cell_type": "code",
   "execution_count": 4,
   "metadata": {
    "collapsed": true
   },
   "outputs": [],
   "source": [
    "totDOs = 5\n",
    "def convSpeed(totCount, dim, totDOs,f, bs, hs,x): # f is for fraction of categorical covariates \n",
    "    np.random.seed(982451653*x%1235641343)\n",
    "    beta = np.random.normal(0,1,dim + 1)\n",
    "    #beta[0] = 0\n",
    "    num = None\n",
    "    # check that no DO gets less than 10% of the data \n",
    "    while (num == None or any(num < totCount/10.0)):\n",
    "        num = np.random.poisson(totCount/float(totDOs), totDOs-1)\n",
    "        num = np.append(num,totCount - sum(num))\n",
    "    center = DataCenter(dim)\n",
    "    for i,n in enumerate(num):\n",
    "        DataRepo(n, 'm', dim, beta, center, f)\n",
    "        \n",
    "    if totCount < 500 and totCount > 50:\n",
    "        etas = [0.05, 10.0, 1.0, 0.05, 0.05]\n",
    "    elif totCount < 5000 and totCount > 500:\n",
    "        etas = [0.05, 50.0, 1.0, 0.05, 0.05]\n",
    "    elif totCount > 5000 and totCount < 5e4:\n",
    "        etas = [0.05, 50.0, 1.0, 0.05, 0.05]\n",
    "        \n",
    "    iters = 2000\n",
    "    center.count_data()\n",
    "    center.scale()\n",
    "    betaL,cost,roc, zeroone, AF = all_regression(center)\n",
    "    betas = np.zeros((6,betaL.shape[0],iters/10+1))\n",
    "    \n",
    "    Avg_value = center.avgLogistic()     # averaging \n",
    "    betas[0,:,:] = center.SQN(50,10, etas[0],bs,hs, max_iters=iters,verbose=True)   #SQN beta\n",
    "    betas[1,:,:] = center.batch_SGD(bs,0.0001, max_iters=iters, step=etas[1],verbose=True)     # simple sgd \n",
    "    betas[2,:,:] = center.batch_SGD(bs,0.0001, max_iters=iters, stepAlg=1, step=etas[2],verbose=True)   #adagrad \n",
    "    betas[3,:,:] = center.batch_SGD(bs,0.0001, max_iters=iters, stepAlg=2, step=etas[3],verbose=True)    #rms prop \n",
    "    betas[4,:,:] = center.batch_SGD(bs,0.0001, max_iters=iters, stepAlg=3, step=etas[4],verbose=True)     #adadelta \n",
    "    betas[5,:,:] = center.ADMM(1.0, max_iters=iters,verbose=True)    # admm \n",
    "    costs = np.zeros((7,3,iters/10+1))\n",
    "    for i in xrange(6):\n",
    "        for j in xrange(iters/10+1):\n",
    "            costs[i,:,j] = center.evaluate(betas[i,:,j])\n",
    "    for j in xrange(iters/10+1):\n",
    "        costs[6,:,j] = cost, roc, zeroone\n",
    "    avg_cost = center.evaluate(Avg_value)\n",
    "    return costs, avg_cost, AF"
   ]
  },
  {
   "cell_type": "code",
   "execution_count": 15,
   "metadata": {
    "collapsed": false
   },
   "outputs": [
    {
     "name": "stdout",
     "output_type": "stream",
     "text": [
      "[Saved variables alltimeResults0 to file '/Users/armin/Documents/Bust_lab/online-regression/Decentralized_reg/convSpeed0.pkl'.]\n",
      "1 \n",
      "\n",
      "2 \n",
      "\n",
      "5 \n",
      "\n",
      "10 \n",
      "\n",
      "1 \n",
      "\n",
      "2 \n",
      "\n",
      "5 \n",
      "\n",
      "10 \n",
      "\n",
      "1 \n",
      "\n",
      "2 \n",
      "\n",
      "5 \n",
      "\n",
      "10 \n",
      "\n",
      "25874.8590739\n"
     ]
    }
   ],
   "source": [
    "%%cache convSpeed0.pkl alltimeResults0 \n",
    "s = \"time0\"\n",
    "seed = int(''.join(str(ord(c)) for c in s))%4294967295\n",
    "reps = 200\n",
    "alltimeResults0 = []\n",
    "Ps = [1,2,5,10]\n",
    "Ns = [100, 1000, 10000]\n",
    "bs = [0.1, .1, .1]\n",
    "hs = [0.3, .3, .3]\n",
    "p = Pool(4)\n",
    "inputs=range(1,reps+1)\n",
    "\n",
    "t0 = time()\n",
    "for i in xrange(3):\n",
    "    temp = []\n",
    "    for pnum in Ps:\n",
    "        nnum= Ns[i]\n",
    "        print pnum, '\\n'\n",
    "        f = lambda x: convSpeed(x[1],x[2],5,0.0, x[3], x[4],x[0])\n",
    "        keywords = zip([int(j*hs[i]*nnum*seed) for j in inputs],[nnum]*reps, \n",
    "                       [pnum]*reps, [bs[i]]*reps, [hs[i]]*reps)\n",
    "        results=p.map(f, keywords)\n",
    "        temp.append(results)\n",
    "    alltimeResults0.append(temp)\n",
    "print time()-t0"
   ]
  },
  {
   "cell_type": "code",
   "execution_count": null,
   "metadata": {
    "collapsed": false
   },
   "outputs": [],
   "source": [
    "%%cache convSpeed1.pkl alltimeResults1 \n",
    "s = \"time1\"\n",
    "seed = int(''.join(str(ord(c)) for c in s))%4294967295\n",
    "reps = 200\n",
    "alltimeResults1 = []\n",
    "Ps = [1,2,5,10]\n",
    "Ns = [100, 1000, 10000]\n",
    "bs = [0.1, .1, .1]\n",
    "hs = [0.3, .3, .3]\n",
    "p = Pool(4)\n",
    "inputs=range(1,reps+1)\n",
    "\n",
    "t0 = time()\n",
    "for i in xrange(3):\n",
    "    temp = []\n",
    "    for pnum in Ps:\n",
    "        nnum= Ns[i]\n",
    "        f = lambda x: convSpeed(x[1],x[2],5,1.0, x[3], x[4],x[0])\n",
    "        keywords = zip([int(j*hs[i]*nnum*seed) for j in inputs],[nnum]*reps, \n",
    "                       [pnum]*reps, [bs[i]]*reps, [hs[i]]*reps)\n",
    "        results=p.map(f, keywords)\n",
    "        temp.append(results)\n",
    "    alltimeResults1.append(temp)\n",
    "print time()-t0"
   ]
  },
  {
   "cell_type": "code",
   "execution_count": 61,
   "metadata": {
    "collapsed": false
   },
   "outputs": [
    {
     "name": "stdout",
     "output_type": "stream",
     "text": [
      "[Saved variables alltimeResults05 to file '/Users/armin/Documents/Bust_lab/online-regression/Decentralized_reg/convSpeed05.pkl'.]\n",
      "18183.2656081\n"
     ]
    }
   ],
   "source": [
    "%%cache convSpeed05.pkl alltimeResults05\n",
    "s = \"time05\"\n",
    "seed = int(''.join(str(ord(c)) for c in s))%4294967295\n",
    "reps = 200\n",
    "alltimeResults05 = []\n",
    "Ps = [1,2,5,10]\n",
    "Ns = [100, 1000, 10000]\n",
    "bs = [0.1, .1, .1]\n",
    "hs = [0.3, .3, .3]\n",
    "p = Pool(4)\n",
    "inputs=range(1,reps+1)\n",
    "\n",
    "t0 = time()\n",
    "for i in xrange(3):\n",
    "    temp = []\n",
    "    for pnum in Ps:\n",
    "        nnum= Ns[i]\n",
    "        f = lambda x: convSpeed(x[1],x[2],5,0.5, x[3], x[4],x[0])\n",
    "        keywords = zip([int(j*hs[i]*nnum*seed) for j in inputs],[nnum]*reps, \n",
    "                       [pnum]*reps, [bs[i]]*reps, [hs[i]]*reps)\n",
    "        results=p.map(f, keywords)\n",
    "        temp.append(results)\n",
    "    alltimeResults05.append(temp)\n",
    "print time()-t0"
   ]
  },
  {
   "cell_type": "code",
   "execution_count": 144,
   "metadata": {
    "collapsed": false
   },
   "outputs": [],
   "source": [
    "def df_convergance(P,N, sim, DO=5):\n",
    "    df = pd.DataFrame()\n",
    "    sim = np.array(sim)\n",
    "    exps = sim.shape[2]\n",
    "    tp = sim.shape[5]\n",
    "    reshaped = np.empty((exps * tp,9))\n",
    "    for k in range(1):\n",
    "        for i,n in enumerate(N):\n",
    "            for j,p in enumerate(P):\n",
    "                for l in range(exps):\n",
    "                    reshaped[l*tp:((l+1)*tp),:7] = sim[i,j,l,:,k,:].T\n",
    "                    reshaped[l*tp:((l+1)*tp),7] = [l]*tp\n",
    "                    reshaped[l*tp:((l+1)*tp),8] = range(0,tp*10,10)\n",
    "                cov = np.array([p]*exps*tp,ndmin=2).T\n",
    "                size = np.array([n]*exps*tp,ndmin=2).T\n",
    "                r = np.repeat(range(tp),exps).reshape(tp*exps,1)\n",
    "                appended = np.hstack((reshaped,cov,size))\n",
    "                df = df.append(pd.DataFrame(data=appended, columns= ['SQN', 'SGD', 'ADAGRAD', 'RMSPROP', 'ADADELTA', 'ADMM',\n",
    "                                                                 'logistic', 'range', 'tps','covariates','n']))\n",
    "    df1 = df\n",
    "    df1 = (df1[['SQN', 'SGD', 'ADAGRAD', 'RMSPROP', 'ADADELTA', 'ADMM']].sub(df1['logistic'], axis=0))\n",
    "    #df1 = (df1[['AVG', 'SQN', 'SGD', 'ADAGRAD', 'RMSPROP', 'ADADELTA', 'ADMM']]).div(df1['logistic']+ 10**-10, axis=0)\n",
    "    df.loc[:, ['SQN', 'SGD', 'ADAGRAD', 'RMSPROP', 'ADADELTA', 'ADMM']] = df1[['SQN', 'SGD', 'ADAGRAD', 'RMSPROP', 'ADADELTA', 'ADMM']]\n",
    "    df = pd.melt(df, id_vars=[\"covariates\",\"n\",'range','tps'])\n",
    "    logs = np.log(df.value)\n",
    "    df.value = logs\n",
    "    df.value[np.isnan(logs) | ~np.isfinite(logs)] = min(logs[~np.isnan(logs) & np.isfinite(logs)])\n",
    "    return df\n",
    "\n",
    "def plot_time(df,ylab,ylim):\n",
    "    f, (ax) = plt.subplots(1, 1, sharex=True)\n",
    "    sns.tsplot(time=\"tps\", value=\"value\", condition=\"variable\",\n",
    "           unit=\"range\",data=df, err_style=\"ci_band\",ax=ax\n",
    "           ,interpolate=True,legend=True)\n",
    "    sns.set_context(\"notebook\", font_scale=1.9, rc={\"lines.linewidth\": 2.5})\n",
    "    plt.xlabel('Iterations', fontsize=22)\n",
    "    ax.set_ylabel(ylab, fontsize=32, labelpad=-2)\n",
    "    #ax.yaxis.set_label_coords(-.09, -.2)\n",
    "    ax.set_ylim(ylim)  # most of the data\n",
    "    ax.set_xlim(0, 2000)  # outliers only\n",
    "    plt.legend(loc='best')\n",
    "    ax.set_xticks(np.arange(0,2000,200))\n",
    "    ax.tick_params(labelsize=22)\n",
    "    sns.set_style(\"ticks\")\n",
    "    plt.tight_layout()\n",
    "    return f"
   ]
  },
  {
   "cell_type": "code",
   "execution_count": 92,
   "metadata": {
    "collapsed": false
   },
   "outputs": [
    {
     "data": {
      "image/png": "[encoded data removed]",
      "text/plain": [
       "<matplotlib.figure.Figure at 0x109224a10>"
      ]
     },
     "metadata": {},
     "output_type": "display_data"
    }
   ],
   "source": [
    "plt.rc('text', usetex=True)\n",
    "\n",
    "Ps = [1,2,5,10]\n",
    "#N = [1000] * 4 + [10000] * 4 + [100] * 4\n",
    "Ns = [100, 1000, 10000]\n",
    "text = r\"$\\log(\\ell_{C} - \\ell_{D})$\"\n",
    "window = [-30,5]\n",
    "\n",
    "name, n, p= 'alltimeResults0', 100, 10\n",
    "df = df_convergance(Ps,Ns, alltimeResults0)\n",
    "ax = plot_time(df[(df.covariates==p)&(df.n==n) & (df.variable!='logistic')],text,window)"
   ]
  },
  {
   "cell_type": "code",
   "execution_count": 78,
   "metadata": {
    "collapsed": false
   },
   "outputs": [
    {
     "data": {
      "image/png": "[encoded data removed]",
      "text/plain": [
       "<matplotlib.figure.Figure at 0x10954e7d0>"
      ]
     },
     "metadata": {},
     "output_type": "display_data"
    }
   ],
   "source": [
    "plt.rc('text', usetex=True)\n",
    "\n",
    "Ps = [1,2,5,10]\n",
    "#N = [1000] * 4 + [10000] * 4 + [100] * 4\n",
    "Ns = [100, 1000, 10000]\n",
    "text = r\"$\\log(\\ell_{C} - \\ell_{D})$\"\n",
    "window = [-30,5]\n",
    "\n",
    "name, n, p= 'alltimeResults0', 10000, 10\n",
    "df = df_convergance(Ps,Ns, alltimeResults0)\n",
    "ax = plot_time(df[(df.covariates==p)&(df.n==n) & (df.variable!='logistic')],text,window)"
   ]
  },
  {
   "cell_type": "markdown",
   "metadata": {},
   "source": [
    "# Figures used in the paper:"
   ]
  },
  {
   "cell_type": "code",
   "execution_count": 232,
   "metadata": {
    "collapsed": false
   },
   "outputs": [],
   "source": [
    "def df_from_pn(P,N, sim, DO=5):\n",
    "    df = pd.DataFrame()\n",
    "    result = pd.DataFrame()\n",
    "    sim = np.array(sim)\n",
    "    reps = sim.shape[1]\n",
    "    for i in range(1):\n",
    "        for data in range(sim.shape[0]):\n",
    "            p = P[data]\n",
    "            n = N[data]\n",
    "            cov = np.array([p] * reps)\n",
    "            cov.shape = (reps,1)\n",
    "            size = np.array([n] * reps)\n",
    "            size.shape = (reps,1)\n",
    "            r = np.array(range(reps))\n",
    "            r.shape = (reps,1)\n",
    "            l = np.array([i]*reps)\n",
    "            l.shape = (reps,1)\n",
    "            appended = np.hstack((sim[data,:,:,i],cov,size,r,l))\n",
    "            if i == 0:\n",
    "                appended = np.hstack((sim[data,:,:,i],cov,size,r,l))\n",
    "            else:\n",
    "                appended = np.hstack((sim[data,:,:,i],cov,size,r,l))     \n",
    "            df = df.append(pd.DataFrame(data=appended, columns= ['AVG', 'SQN', 'SGD', 'ADAGRAD', 'RMSPROP', \n",
    "                                                                 'ADADELTA', 'ADMM','logistic','covariates',\n",
    "                                                                 'n', 'range','loss']))\n",
    "    \n",
    "    df1 = df.loc[df.loss==0]\n",
    "    df1 = (df1[['AVG', 'SQN', 'SGD', 'ADAGRAD', 'RMSPROP', 'ADADELTA', 'ADMM']].sub(df1['logistic'], axis=0))\n",
    "    # adjust to get no negative numbers \n",
    "    df = df[df.loss==0]\n",
    "    df.loc[:, ['AVG', 'SQN', 'SGD', 'ADAGRAD', 'RMSPROP', 'ADADELTA', 'ADMM']] = df1[[\n",
    "                    'AVG', 'SQN', 'SGD', 'ADAGRAD', 'RMSPROP', 'ADADELTA', 'ADMM']]\n",
    "    \n",
    "    \n",
    "#     df1 = df.loc[df.loss==2]\n",
    "#     df.loc[df.loss==2, ['AVG', 'SQN', 'SGD', 'ADAGRAD', 'RMSPROP', 'ADADELTA', 'ADMM']] = df1[[\n",
    "#             'AVG', 'SQN', 'SGD', 'ADAGRAD', 'RMSPROP', 'ADADELTA', 'ADMM']].div(\n",
    "#         df1.logistic, axis=0)\n",
    "\n",
    "    #df = df.drop('logistic', axis=1)\n",
    "    df = pd.melt(df, id_vars=[\"covariates\",\"n\",'range', 'loss'])\n",
    "    logs = np.log(df.value)\n",
    "    df.value = logs\n",
    "    df.value[np.isnan(logs) | ~np.isfinite(logs)] = min(logs[~np.isnan(logs) & np.isfinite(logs)])\n",
    "    return df\n",
    "\n",
    "\n",
    "    df1 = df\n",
    "    df1 = (df1[['SQN', 'SGD', 'ADAGRAD', 'RMSPROP', 'ADADELTA', 'ADMM']].sub(df1['logistic'], axis=0))\n",
    "    #df1 = (df1[['AVG', 'SQN', 'SGD', 'ADAGRAD', 'RMSPROP', 'ADADELTA', 'ADMM']]).div(df1['logistic']+ 10**-10, axis=0)\n",
    "    df.loc[:, ['SQN', 'SGD', 'ADAGRAD', 'RMSPROP', 'ADADELTA', 'ADMM']] = df1[['SQN', 'SGD', 'ADAGRAD', 'RMSPROP', 'ADADELTA', 'ADMM']]\n",
    "    df = pd.melt(df, id_vars=[\"covariates\",\"n\",'range','tps'])\n",
    "    logs = np.log(df.value)\n",
    "    df.value = logs\n",
    "    df.value[np.isnan(logs) | ~np.isfinite(logs)] = min(logs[~np.isnan(logs) & np.isfinite(logs)])\n",
    "    return df\n",
    "\n",
    "def plot_pn(df,ylab,ylim):\n",
    "    f, (ax) = plt.subplots(1, 1, sharex=True)\n",
    "    sns.tsplot(time=\"covariates\", value=\"value\", condition=\"variable\",\n",
    "           unit=\"range\",data=df,color=colors,  err_style=\"ci_bars\", ci=95,ax=ax\n",
    "           ,interpolate=True,legend=True)\n",
    "    sns.set_context(\"notebook\", font_scale=1.9, rc={\"lines.linewidth\": 2.5})\n",
    "    plt.xlabel('\\# of Covariates', fontsize=22)\n",
    "    ax.set_ylabel(ylab, fontsize=32, labelpad=0)\n",
    "    #ax.yaxis.set_label_coords(-.09, -.2)\n",
    "    ax.set_ylim(ylim)  # most of the data\n",
    "    ax.set_xlim(0.5, 10.5)  # outliers only\n",
    "    plt.legend(loc='best')\n",
    "    #ax.set(xticks=np.arange(1,10,2))\n",
    "    ax.set_xticks(np.arange(1,11,1))\n",
    "    ax.tick_params(labelsize=22)\n",
    "    sns.despine(ax=ax, top=True, right=True, left=True, bottom=False, offset=None, trim=True)\n",
    "    sns.set_style(\"ticks\")\n",
    "    plt.tight_layout()\n",
    "    return f"
   ]
  },
  {
   "cell_type": "code",
   "execution_count": 234,
   "metadata": {
    "collapsed": false
   },
   "outputs": [
    {
     "data": {
      "image/png": "[encoded data removed]",
      "text/plain": [
       "<matplotlib.figure.Figure at 0x109c0de50>"
      ]
     },
     "metadata": {},
     "output_type": "display_data"
    }
   ],
   "source": [
    "P = [1,2,5,10]\n",
    "P = P + P + P\n",
    "N = [100] * 4 + [1000] * 4 + [10000] * 4\n",
    "df = df_from_pn(P,N, datapn0)\n",
    "name, n, loss = 'allpnResults1', 10000, 0\n",
    "\n",
    "plt.rc('text', usetex=True)\n",
    "text = r\"$\\log(\\ell_{C} - \\ell_{D})$\"\n",
    "\n",
    "ax = plot_pn(df[df.n==n],text,[-30,5])"
   ]
  },
  {
   "cell_type": "code",
   "execution_count": 200,
   "metadata": {
    "collapsed": false
   },
   "outputs": [
    {
     "data": {
      "text/plain": [
       "(3, 4, 10, 7, 3, 201)"
      ]
     },
     "execution_count": 200,
     "metadata": {},
     "output_type": "execute_result"
    }
   ],
   "source": [
    "np.array(alltimeResults0).shape"
   ]
  },
  {
   "cell_type": "code",
   "execution_count": 206,
   "metadata": {
    "collapsed": false
   },
   "outputs": [
    {
     "data": {
      "image/png": "[encoded data removed]",
      "text/plain": [
       "<matplotlib.figure.Figure at 0x10a08c950>"
      ]
     },
     "metadata": {},
     "output_type": "display_data"
    }
   ],
   "source": [
    "plt.rc('text', usetex=True)\n",
    "\n",
    "Ps = [1,2,5,10]\n",
    "Ns = [100, 1000, 10000]\n",
    "text = r\"$\\log(\\ell_{C} - \\ell_{D})$\"\n",
    "window = [-30,5]\n",
    "\n",
    "name, n, p= 'alltimeResults0', 10000, 10\n",
    "df2 = df_convergance(Ps,Ns, alltimeResults0)\n",
    "ax = plot_time(df2[(df2.covariates==p)&(df2.n==n) & (df2.variable!='logistic')],text,window)"
   ]
  },
  {
   "cell_type": "code",
   "execution_count": 211,
   "metadata": {
    "collapsed": false
   },
   "outputs": [
    {
     "name": "stdout",
     "output_type": "stream",
     "text": [
      "     covariates    n  range   tps variable     value\n",
      "100           1  100      0  1000      SQN -6.851062\n",
      "301           1  100      1  1000      SQN -6.751224\n"
     ]
    },
    {
     "data": {
      "text/html": [
       "<div>\n",
       "<table border=\"1\" class=\"dataframe\">\n",
       "  <thead>\n",
       "    <tr style=\"text-align: right;\">\n",
       "      <th></th>\n",
       "      <th>covariates</th>\n",
       "      <th>n</th>\n",
       "      <th>range</th>\n",
       "      <th>loss</th>\n",
       "      <th>variable</th>\n",
       "      <th>value</th>\n",
       "    </tr>\n",
       "  </thead>\n",
       "  <tbody>\n",
       "    <tr>\n",
       "      <th>120</th>\n",
       "      <td>1</td>\n",
       "      <td>100</td>\n",
       "      <td>0</td>\n",
       "      <td>0</td>\n",
       "      <td>SQN</td>\n",
       "      <td>-2.365801</td>\n",
       "    </tr>\n",
       "    <tr>\n",
       "      <th>121</th>\n",
       "      <td>1</td>\n",
       "      <td>100</td>\n",
       "      <td>1</td>\n",
       "      <td>0</td>\n",
       "      <td>SQN</td>\n",
       "      <td>-2.929806</td>\n",
       "    </tr>\n",
       "    <tr>\n",
       "      <th>122</th>\n",
       "      <td>1</td>\n",
       "      <td>100</td>\n",
       "      <td>2</td>\n",
       "      <td>0</td>\n",
       "      <td>SQN</td>\n",
       "      <td>-4.405403</td>\n",
       "    </tr>\n",
       "    <tr>\n",
       "      <th>123</th>\n",
       "      <td>1</td>\n",
       "      <td>100</td>\n",
       "      <td>3</td>\n",
       "      <td>0</td>\n",
       "      <td>SQN</td>\n",
       "      <td>-2.823867</td>\n",
       "    </tr>\n",
       "    <tr>\n",
       "      <th>124</th>\n",
       "      <td>1</td>\n",
       "      <td>100</td>\n",
       "      <td>4</td>\n",
       "      <td>0</td>\n",
       "      <td>SQN</td>\n",
       "      <td>-3.913184</td>\n",
       "    </tr>\n",
       "  </tbody>\n",
       "</table>\n",
       "</div>"
      ],
      "text/plain": [
       "     covariates    n  range  loss variable     value\n",
       "120           1  100      0     0      SQN -2.365801\n",
       "121           1  100      1     0      SQN -2.929806\n",
       "122           1  100      2     0      SQN -4.405403\n",
       "123           1  100      3     0      SQN -2.823867\n",
       "124           1  100      4     0      SQN -3.913184"
      ]
     },
     "execution_count": 211,
     "metadata": {},
     "output_type": "execute_result"
    }
   ],
   "source": [
    "print df2[df2.tps == 1000].head(2)\n",
    "df[df.variable=='SQN'].head()"
   ]
  },
  {
   "cell_type": "code",
   "execution_count": 212,
   "metadata": {
    "collapsed": false
   },
   "outputs": [
    {
     "data": {
      "text/plain": [
       "(3, 4, 10, 7, 3, 201)"
      ]
     },
     "execution_count": 212,
     "metadata": {},
     "output_type": "execute_result"
    }
   ],
   "source": [
    "np.array(alltimeResults0).shape"
   ]
  },
  {
   "cell_type": "code",
   "execution_count": 226,
   "metadata": {
    "collapsed": false
   },
   "outputs": [
    {
     "data": {
      "text/plain": [
       "array([  2.18255061e-05,   3.04604980e-05,   2.08966951e-05,\n",
       "         1.92447570e-05,   4.56881768e-05,   1.38924343e-05,\n",
       "         1.77760796e-05,   2.70188731e-05,   1.26927086e-05,\n",
       "         6.56166365e-05])"
      ]
     },
     "execution_count": 226,
     "metadata": {},
     "output_type": "execute_result"
    }
   ],
   "source": [
    "np.array(alltimeResults0)[2,3,:,0,0,100] - np.array(alltimeResults0)[2,3,:,6,0,100]"
   ]
  },
  {
   "cell_type": "code",
   "execution_count": 217,
   "metadata": {
    "collapsed": false
   },
   "outputs": [
    {
     "data": {
      "text/plain": [
       "(12, 10, 8, 3)"
      ]
     },
     "execution_count": 217,
     "metadata": {},
     "output_type": "execute_result"
    }
   ],
   "source": [
    "np.array(datapn0).shape"
   ]
  },
  {
   "cell_type": "code",
   "execution_count": 231,
   "metadata": {
    "collapsed": false
   },
   "outputs": [
    {
     "data": {
      "text/plain": [
       "array([-10.7121261 , -10.43625015, -10.75843886, -10.73869037,\n",
       "        -9.9599367 , -11.31164465, -11.00875157, -10.46195423,\n",
       "       -11.29996534,  -9.6307858 ])"
      ]
     },
     "execution_count": 231,
     "metadata": {},
     "output_type": "execute_result"
    }
   ],
   "source": [
    "np.array(datapn0)[11,:,1,0] - np.array(datapn0)[11,:,7,0]"
   ]
  },
  {
   "cell_type": "code",
   "execution_count": 169,
   "metadata": {
    "collapsed": false
   },
   "outputs": [
    {
     "data": {
      "image/png": "[encoded data removed]",
      "text/plain": [
       "<matplotlib.figure.Figure at 0x110596d10>"
      ]
     },
     "metadata": {},
     "output_type": "display_data"
    }
   ],
   "source": [
    "P = [2,3,6,11]\n",
    "P = P + P + P\n",
    "N = [100] * 4 + [1000] * 4 + [10000] * 4\n",
    "df = df_from_pn(P,N, datapn0)\n",
    "name, n, loss = 'allpnResults0', 1000, 0\n",
    "\n",
    "plt.rc('text', usetex=True)\n",
    "text = r\"$\\log(\\ell_{C} - \\ell_{D})$\"\n",
    "\n",
    "ax = plot_pn(df[(df.n==n) & (df.loss==loss)& (df.variable!='logistic')],text,[-30,8])"
   ]
  },
  {
   "cell_type": "code",
   "execution_count": 160,
   "metadata": {
    "collapsed": false
   },
   "outputs": [
    {
     "data": {
      "image/png": "[encoded data removed]",
      "text/plain": [
       "<matplotlib.figure.Figure at 0x11023c8d0>"
      ]
     },
     "metadata": {},
     "output_type": "display_data"
    }
   ],
   "source": [
    "P = [2,3,6,11]\n",
    "P = P + P + P\n",
    "N = [100] * 4 + [1000] * 4 + [10000] * 4\n",
    "df = df_from_pn(P,N, datapn0)\n",
    "name, n, loss = 'allpnResults0', 100, 0\n",
    "\n",
    "\n",
    "\n",
    "ax = plot_pn(df[(df.n==n) & (df.loss==loss)& (df.variable!='logistic')],'Cost Function Difference',[-30,10])"
   ]
  },
  {
   "cell_type": "markdown",
   "metadata": {},
   "source": [
    "# Test for PCA method"
   ]
  },
  {
   "cell_type": "code",
   "execution_count": 2,
   "metadata": {
    "collapsed": false
   },
   "outputs": [],
   "source": [
    "m = np.hstack((np.random.normal(0,10,(30,20)), np.random.poisson(10,(30,20))))\n",
    "U, s, V = np.linalg.svd(m, full_matrices=True);\n",
    "m1 = m[:10,:]; m2 = m[10:20,:]; m3 = m[20:30,:]\n",
    "\n",
    "combined = m1.T.dot(m1) + m2.T.dot(m2) + m3.T.dot(m3)\n",
    "_, eVals, eVecs = np.linalg.svd(combined)\n",
    "eVecs = np.array([v for _,v in sorted(zip(eVals,eVecs),key=lambda l: l[0])][::-1])\n",
    "eVals = np.array(sorted(eVals)[::-1])\n",
    "#U1, s1, V1 = np.linalg.svd(m.T, full_matrices=True)"
   ]
  },
  {
   "cell_type": "code",
   "execution_count": null,
   "metadata": {
    "collapsed": false
   },
   "outputs": [],
   "source": [
    "print np.abs(np.sqrt(eVals[eVals>1e-5]) - s) < 1e-6\n",
    "# So the sigmas are the same\n",
    "a = eVecs + V\n",
    "aprime = eVecs - V\n",
    "t = 0.001\n",
    "print (np.logical_or(np.sqrt(np.sum(a**2, axis=1)) < t, np.sqrt(np.sum(aprime**2,axis=1)) < t))\n",
    "# the or is to account for possible sign changes. So far, sigma and V match, it's left to see if we can reconstruct\n",
    "# U. The False ones correspond to eigenvalue 0 so they don't matter "
   ]
  },
  {
   "cell_type": "code",
   "execution_count": null,
   "metadata": {
    "collapsed": false
   },
   "outputs": [],
   "source": [
    "is1, iV1 = np.linalg.inv(np.diag(eVals)), eVecs.T\n",
    "\n",
    "Um1 = is1.dot(iV1).dot(m1.T).T\n",
    "Um2 = is1.dot(iV1).dot(m2.T).T\n",
    "Um3 = is1.dot(iV1).dot(m3.T).T\n",
    "s = np.array(list(s) + [0 for _ in range(U.shape[1] - s.shape[0])])"
   ]
  },
  {
   "cell_type": "code",
   "execution_count": null,
   "metadata": {
    "collapsed": false
   },
   "outputs": [],
   "source": [
    "np.sum(np.abs(Um1.dot(np.diag(eVals)).dot(eVecs.T) - U[:10,:].dot(np.diag(s)[:,:V.shape[0]]).dot(V[:U.shape[0]])))"
   ]
  },
  {
   "cell_type": "markdown",
   "metadata": {},
   "source": [
    "# Offline"
   ]
  },
  {
   "cell_type": "code",
   "execution_count": null,
   "metadata": {
    "collapsed": false
   },
   "outputs": [],
   "source": [
    "def batch_stepsize_test(totCount, dim, totDOs,f, bs, hs,x, eta): # f is for fraction of categorical covariates \n",
    "    np.random.seed(1235641343*x%42949672951235641343*x%4294967295)\n",
    "    beta = np.random.normal(0,1,dim + 1)\n",
    "    print (beta)\n",
    "    #beta[0] = 0\n",
    "    DOs = []\n",
    "    num = None\n",
    "    # check that no DO gets less than 10% of the data \n",
    "    while (num == None or any(num < totCount/10.0)):\n",
    "        num = np.random.poisson(totCount/float(totDOs), totDOs-1)\n",
    "        num = np.append(num,totCount - sum(num))\n",
    "    center = DataCenter(dim)\n",
    "    for i, n in enumerate(num):\n",
    "        DOs.append(DataRepo(n, 'm', dim, beta, center, f))\n",
    "        #center.add_repo(DOs[i])\n",
    "    center.count_data()\n",
    "    center.scale()\n",
    "    betaL,cost,roc, zeroone = all_regression(center)\n",
    "    betas = np.zeros((6,betaL.shape[0]))\n",
    "    \n",
    "    betas[0,:] = center.SQN(50,10,eta,bs,hs, max_iters=1000).ravel() #SQN beta\n",
    "    betas[1,:] = center.batch_SGD(bs,0.0001, max_iters=1000, step=eta)[0]      # simple sgd \n",
    "    betas[2,:] = center.batch_SGD(bs,0.0001, max_iters=1000, stepAlg=1, step=eta)[0]    #adagrad \n",
    "    #betas[3,:] = center.batch_SGD(bs,0.0001, max_iters=1000, stepAlg=2, step=eta)[0]     #rms prop \n",
    "    #betas[4,:] = center.batch_SGD(bs,0.0001, max_iters=1000, stepAlg=3, step=eta)[0]     #adadelta \n",
    "    betas[3,:] = center.avgLogistic()\n",
    "    betas[4,:] = center.ADMM(1.0, max_iters=1000)\n",
    "    \n",
    "    costs = np.zeros((7,3))\n",
    "    for i in xrange(5):\n",
    "        costs[i,:] = center.evaluate(betas[i,:])\n",
    "    costs[5,:] = cost, roc, zeroone\n",
    "    return costs"
   ]
  },
  {
   "cell_type": "markdown",
   "metadata": {},
   "source": [
    "## Find optimal stepsize "
   ]
  },
  {
   "cell_type": "code",
   "execution_count": 24,
   "metadata": {
    "collapsed": false
   },
   "outputs": [
    {
     "name": "stdout",
     "output_type": "stream",
     "text": [
      "7.20024108887e-05 \n",
      "\n",
      "0.000126838684082 \n",
      "\n",
      "9.79900360107e-05 \n",
      "\n",
      "9.17911529541e-05 \n",
      "\n",
      "9.20295715332e-05 \n",
      "\n",
      "9.20295715332e-05 \n",
      "\n",
      "0.000118970870972 \n",
      "\n",
      "9.48905944824e-05 \n",
      "\n",
      "0.000164985656738 \n",
      "\n",
      "8.98838043213e-05 \n",
      "\n",
      "9.89437103271e-05 \n",
      "\n",
      "8.70227813721e-05 \n",
      "\n",
      "0.000102996826172 \n",
      "\n",
      "0.000121116638184 \n",
      "\n",
      "9.20295715332e-05 \n",
      "\n",
      "8.29696655273e-05 \n",
      "\n",
      "0.00929379463196\n"
     ]
    }
   ],
   "source": [
    "#%%cache logstepsize.pkl stepsizeData \n",
    "etas = [0.01,0.05,0.1,0.5,1.0,5.0,10.0,50.0]\n",
    "s = \"step\"\n",
    "seed = int(''.join(str(ord(c)) for c in s))%4294967295\n",
    "reps = 100\n",
    "stepsizeData = []\n",
    "Ns = [1000, 10000]\n",
    "bs = [0.1, 0.2]\n",
    "hs = [0.25, 0.5]\n",
    "pnum = 5\n",
    "p = Pool(4)\n",
    "inputs=range(1,reps+1)\n",
    "\n",
    "\n",
    "t0 = time()\n",
    "for i in xrange(2):\n",
    "    for eta in etas:\n",
    "        nnum= Ns[i]\n",
    "        f = lambda x: batch_stepsize_test(x[1],x[2],5,0, x[3], x[4],x[0],x[5])\n",
    "        keywords = zip([int(j*hs[i]*nnum*seed) for j in inputs],[nnum]*reps, \n",
    "                       [pnum]*reps, [bs[i]]*reps, [hs[i]]*reps,[eta]*reps)\n",
    "        results=p.map(f, keywords)\n",
    "        stepsizeData.append(results)\n",
    "        tend = time()\n",
    "        print i, eta, '\\n'\n",
    "        sys.stdout.flush()\n",
    "print time()-t0"
   ]
  },
  {
   "cell_type": "code",
   "execution_count": 28,
   "metadata": {
    "collapsed": false
   },
   "outputs": [
    {
     "data": {
      "text/plain": [
       "array([[        nan,         nan,         nan],\n",
       "       [ 0.15079158,  0.98643509,  0.0635    ],\n",
       "       [ 0.15758535,  0.98570295,  0.066     ],\n",
       "       [ 1.90279482,  0.94554733,  0.0785    ],\n",
       "       [ 2.23214394,  0.93406683,  0.0871    ],\n",
       "       [ 0.14853609,  0.98644513,  0.0637    ]])"
      ]
     },
     "execution_count": 28,
     "metadata": {},
     "output_type": "execute_result"
    }
   ],
   "source": [
    "f(keywords[6])"
   ]
  },
  {
   "cell_type": "code",
   "execution_count": null,
   "metadata": {
    "collapsed": true
   },
   "outputs": [],
   "source": []
  },
  {
   "cell_type": "code",
   "execution_count": null,
   "metadata": {
    "collapsed": false
   },
   "outputs": [],
   "source": [
    "totDOs = 5\n",
    "def offline(totCount, p, totDOs,f, bs, hs,x, eta): # f is for fraction of categorical covariates \n",
    "    np.random.seed(1235641343*x%4294967295)\n",
    "    dim = p - 1\n",
    "    beta = np.random.normal(0,1,p)\n",
    "    #beta[0] = 0\n",
    "    DOs = []\n",
    "    num = None\n",
    "    # check that no DO gets less than 10% of the data \n",
    "    while (num == None or any(num < totCount/10.0)):\n",
    "        num = np.random.poisson(totCount/float(totDOs), totDOs-1)\n",
    "        num = np.append(num,totCount - sum(num))\n",
    "        center = DataCenter(dim)\n",
    "    #pdb.set_trace()\n",
    "    for i,n in enumerate(num):\n",
    "        DOs.append(DataRepo(n, 'm', dim, beta, center, f))\n",
    "        #center.add_repo(DOs[i])\n",
    "    center.count_data()\n",
    "    center.scale()\n",
    "    betaL,cost,roc, zeroone = all_logistic(center)\n",
    "    betas = np.zeros((8,betaL.shape[0]))\n",
    "    \n",
    "    #betas[0,:] = center.avgLogistic()     # averaging \n",
    "    #betas[1,:] = center.SQN(50,10,eta,bs,hs, max_iters=1000)   #SQN beta\n",
    "    betas[2,:] = center.batch_SGD(bs,0.0001, max_iters=1000, step=eta)[0]      # simple sgd \n",
    "    #betas[3,:] = center.batch_SGD(bs,0.0001, max_iters=1000, adagrad=1, step=eta)[0]    #adagrad \n",
    "    #betas[4,:] = center.batch_SGD(bs,0.0001, max_iters=1000, adagrad=2, step=eta)[0]     #rms prop \n",
    "    #betas[5,:] = center.batch_SGD(bs,0.0001, max_iters=1000, adagrad=3, step=eta)[0]     #adadelta \n",
    "    #betas[6,:] = center.ADMM(1.0, max_iters=1000)    # admm \n",
    "    costs = np.zeros((8,3))\n",
    "    for i in xrange(7):\n",
    "        costs[i,:] = center.evaluate(betas[i,:])\n",
    "    costs[7,:] = cost, roc, zeroone\n",
    "    return costs\n",
    "\n",
    "etas = [500.0]\n",
    "s = \"step\"\n",
    "seed = int(''.join(str(ord(c)) for c in s))%4294967295\n",
    "reps = 100\n",
    "stepsizeData = []\n",
    "Ns = [1000, 10000]\n",
    "bs = [20,50]\n",
    "hs = [50,500]\n",
    "pnum = 5\n",
    "p = Pool(4)\n",
    "inputs=range(1,reps+1)\n",
    "\n",
    "\n",
    "t0 = time()\n",
    "for i in xrange(2):\n",
    "    for eta in etas:\n",
    "        nnum= Ns[i]\n",
    "        tstart = time()\n",
    "        f = lambda x: offline(x[1],x[2]+1,5,0, x[3], x[4],x[0],x[5])\n",
    "        keywords = zip([j*hs[i]*nnum*seed for j in inputs],[nnum]*reps, \n",
    "                       [pnum]*reps, [bs[i]]*reps, [hs[i]]*reps,[eta]*reps)\n",
    "        results=p.map(f, keywords)\n",
    "        stepsizeData.append(results)\n",
    "        tend = time()\n",
    "        print tend-tstart, '\\n'\n",
    "        sys.stdout.flush()\n",
    "print time()-t0"
   ]
  },
  {
   "cell_type": "code",
   "execution_count": null,
   "metadata": {
    "collapsed": false
   },
   "outputs": [],
   "source": [
    "%%cache logstepsizeDisc.pkl stepsizeDataDisc \n",
    "etas = [0.01,0.05,0.1,0.5,1.0,5.0,10.0,50.0]\n",
    "s = \"step\"\n",
    "seed = int(''.join(str(ord(c)) for c in s))%4294967295\n",
    "reps = 100\n",
    "stepsizeDataDisc = []\n",
    "Ns = [1000, 10000]\n",
    "bs = [20,50]\n",
    "hs = [50,500]\n",
    "pnum = 5\n",
    "p = Pool(4)\n",
    "inputs=range(1,reps+1)\n",
    "\n",
    "\n",
    "t0 = time()\n",
    "for i in xrange(2):\n",
    "    for eta in etas:\n",
    "        nnum= Ns[i]\n",
    "        tstart = time()\n",
    "        f = lambda x: offline(x[1],x[2]+1,5,1.0, x[3], x[4],x[0],x[5])\n",
    "        keywords = zip([j*hs[i]*nnum*seed for j in inputs],[nnum]*reps, \n",
    "                       [pnum]*reps, [bs[i]]*reps, [hs[i]]*reps,[eta]*reps)\n",
    "        results=p.map(f, keywords)\n",
    "        stepsizeDataDisc.append(results)\n",
    "        tend = time()\n",
    "        print tend-tstart, '\\n'\n",
    "        sys.stdout.flush()\n",
    "print time()-t0"
   ]
  },
  {
   "cell_type": "markdown",
   "metadata": {},
   "source": [
    "## best parameters are: sqn sgd ada rms adadelta\n",
    "Observations:\n",
    "* Regular SGD is highly sensitive the rest are not very sensitive \n",
    "Step-sizes \n",
    ".01,10,5,.05,.1"
   ]
  },
  {
   "cell_type": "code",
   "execution_count": null,
   "metadata": {
    "collapsed": true
   },
   "outputs": [],
   "source": [
    "totDOs = 5\n",
    "def offline(totCount, p, totDOs,f, bs, hs,x): # f is for fraction of categorical covariates \n",
    "    np.random.seed(1235641343*x%4294967295)\n",
    "    dim = p - 1\n",
    "    beta = np.random.normal(0,1,p)\n",
    "    #beta[0] = 0\n",
    "    DOs = []\n",
    "    num = None\n",
    "    # check that no DO gets less than 10% of the data \n",
    "    while (num == None or any(num < totCount/10.0)):\n",
    "        num = np.random.poisson(totCount/float(totDOs), totDOs-1)\n",
    "        num = np.append(num,totCount - sum(num))\n",
    "        center = DataCenter(dim)\n",
    "    #pdb.set_trace()\n",
    "    for i,n in enumerate(num):\n",
    "        DOs.append(DataRepo(n, 'm', dim, beta, center, f))\n",
    "        #center.add_repo(DOs[i])\n",
    "    center.count_data()\n",
    "    center.scale()\n",
    "    betaL,cost,roc, zeroone = all_logistic(center)\n",
    "    betas = np.zeros((7,betaL.shape[0]))\n",
    "    \n",
    "    betas[0,:] = center.avgLogistic()     # averaging \n",
    "    betas[1,:] = center.SQN(50,10,.01,bs,hs, max_iters=1000)   #SQN beta\n",
    "    betas[2,:] = center.batch_SGD(bs,0.0001, max_iters=1000, step=200.0)[0]      # simple sgd \n",
    "    betas[3,:] = center.batch_SGD(bs,0.0001, max_iters=1000, adagrad=1, step=5.0)[0]    #adagrad \n",
    "    betas[4,:] = center.batch_SGD(bs,0.0001, max_iters=1000, adagrad=2, step=0.05)[0]     #rms prop \n",
    "    betas[5,:] = center.batch_SGD(bs,0.0001, max_iters=1000, adagrad=3, step=.1)[0]     #adadelta \n",
    "    betas[6,:] = center.ADMM(1.0, max_iters=1000)    # admm \n",
    "    costs = np.zeros((8,3))\n",
    "    for i in xrange(7):\n",
    "        costs[i,:] = center.evaluate(betas[i,:])\n",
    "    costs[7,:] = cost, roc, zeroone\n",
    "    return costs"
   ]
  },
  {
   "cell_type": "code",
   "execution_count": null,
   "metadata": {
    "collapsed": false
   },
   "outputs": [],
   "source": [
    "df = pd.DataFrame(data=stepsizeData[7], columns= ['AVG', 'SQN', 'SGD', 'ADAGRAD', 'RMSPROP', 'ADADELTA', 'ADMM','logistic'])\n",
    "df = pd.DataFrame(data=df.subtract(df.logistic,axis=0), columns= ['AVG', 'SQN', 'SGD', 'ADAGRAD', 'RMSPROP', 'ADADELTA', 'ADMM'])\n",
    "ax = sns.boxplot(data=df, palette=\"PRGn\")\n",
    "ax.set(xlabel='Algorithms', ylabel='cross-entropy (centered)')\n",
    "sns.despine(offset=10, trim=True)\n",
    "plt.show()"
   ]
  },
  {
   "cell_type": "code",
   "execution_count": null,
   "metadata": {
    "collapsed": false,
    "scrolled": true
   },
   "outputs": [],
   "source": [
    "offline(1000, 6, totDOs,0.0, 20, 50,311313,50.0)"
   ]
  },
  {
   "cell_type": "code",
   "execution_count": null,
   "metadata": {
    "collapsed": false,
    "scrolled": true
   },
   "outputs": [],
   "source": [
    "df = pd.DataFrame(data=results, columns= ['AVG', 'SQN', 'SGD', 'ADAGRAD', 'RMSPROP', 'ADADELTA', 'ADMM','logistic'])\n",
    "df = pd.DataFrame(data=df.subtract(df.logistic,axis=0), columns= ['AVG', 'SQN', 'SGD', 'ADAGRAD', 'RMSPROP', 'ADADELTA', 'ADMM'])\n",
    "ax = sns.boxplot(data=df, palette=\"PRGn\")\n",
    "ax.set(xlabel='Algorithms', ylabel='cross-entropy (centered)')\n",
    "sns.despine(offset=10, trim=True)\n",
    "plt.show()"
   ]
  },
  {
   "cell_type": "code",
   "execution_count": null,
   "metadata": {
    "collapsed": false
   },
   "outputs": [],
   "source": [
    "df = pd.DataFrame(data=df[['AVG','ADMM']], columns= ['AVG', 'ADMM'])\n",
    "ax = sns.boxplot(data=df, palette=\"PRGn\")\n",
    "ax.set(xlabel='Algorithms', ylabel='cross-entropy (centered)')\n",
    "sns.despine(offset=10, trim=True)\n",
    "plt.show()"
   ]
  },
  {
   "cell_type": "code",
   "execution_count": null,
   "metadata": {
    "collapsed": false
   },
   "outputs": [],
   "source": [
    "np.random.seed(45141241)\n",
    "repeats = 100\n",
    "C1 = np.empty((repeats,8))\n",
    "tstart = time()\n",
    "for i in range(repeats):\n",
    "    C1[i,:] = offline(10000,5,2,1,50,500)\n",
    "tend = time()\n",
    "print tend-tstart"
   ]
  },
  {
   "cell_type": "code",
   "execution_count": null,
   "metadata": {
    "collapsed": false
   },
   "outputs": [],
   "source": [
    "df = pd.DataFrame(data=C1, columns= ['AVG', 'SQN', 'SGD', 'ADAGRAD', 'RMSPROP', 'ADADELTA', 'ADMM','logistic'])\n",
    "df = pd.DataFrame(data=df.subtract(df.logistic,axis=0), columns= ['AVG', 'SQN', 'SGD', 'ADAGRAD', 'RMSPROP', 'ADADELTA', 'ADMM'])\n",
    "ax = sns.boxplot(data=df, palette=\"PRGn\")\n",
    "ax.set(xlabel='Algorithms', ylabel='cross-entropy (centered)')\n",
    "sns.despine(offset=10, trim=True)\n",
    "plt.show()"
   ]
  },
  {
   "cell_type": "code",
   "execution_count": null,
   "metadata": {
    "collapsed": false
   },
   "outputs": [],
   "source": [
    "df = pd.DataFrame(data=df[['AVG','SQN','ADMM', 'ADAGRAD','RMSPROP']], columns= ['AVG','ADMM', 'SQN','ADAGRAD','RMSPROP'])\n",
    "ax = sns.boxplot(data=df, palette=\"PRGn\")\n",
    "ax.set(xlabel='Algorithms', ylabel='cross-entropy (centered)')\n",
    "sns.despine(offset=10, trim=True)\n",
    "plt.show()"
   ]
  },
  {
   "cell_type": "code",
   "execution_count": null,
   "metadata": {
    "collapsed": false
   },
   "outputs": [],
   "source": [
    "np.random.seed(321323)\n",
    "repeats = 100\n",
    "C2 = np.empty((repeats,8))\n",
    "tstart = time()\n",
    "for i in range(repeats):\n",
    "    C2[i,:] = offline(1000,5,2,0,5,50)\n",
    "tend = time()\n",
    "print tend-tstart"
   ]
  },
  {
   "cell_type": "code",
   "execution_count": null,
   "metadata": {
    "collapsed": false
   },
   "outputs": [],
   "source": [
    "df = pd.DataFrame(data=C2, columns= ['AVG', 'SQN', 'SGD', 'ADAGRAD', 'RMSPROP', 'ADADELTA', 'ADMM','logistic'])\n",
    "df = pd.DataFrame(data=df.subtract(df.logistic,axis=0), columns= ['AVG', 'SQN', 'SGD', 'ADAGRAD', 'RMSPROP', 'ADADELTA', 'ADMM'])\n",
    "ax = sns.boxplot(data=df, palette=\"PRGn\")\n",
    "ax.set(xlabel='Algorithms', ylabel='cross-entropy (centered)')\n",
    "sns.despine(offset=10, trim=True)\n",
    "plt.show()"
   ]
  },
  {
   "cell_type": "code",
   "execution_count": null,
   "metadata": {
    "collapsed": false
   },
   "outputs": [],
   "source": [
    "df = pd.DataFrame(data=df[['AVG','ADMM']], columns= ['AVG', 'ADMM'])\n",
    "ax = sns.boxplot(data=df, palette=\"PRGn\")\n",
    "ax.set(xlabel='Algorithms', ylabel='cross-entropy (centered)')\n",
    "sns.despine(offset=10, trim=True)\n",
    "plt.show()"
   ]
  },
  {
   "cell_type": "code",
   "execution_count": null,
   "metadata": {
    "collapsed": false
   },
   "outputs": [],
   "source": [
    "np.random.seed(321323)\n",
    "repeats = 100\n",
    "C3 = np.empty((repeats,8))\n",
    "tstart = time()\n",
    "for i in range(repeats):\n",
    "    C3[i,:] = offline(1000,5,6,0,5,50)\n",
    "tend = time()\n",
    "print tend-tstart"
   ]
  },
  {
   "cell_type": "code",
   "execution_count": null,
   "metadata": {
    "collapsed": false
   },
   "outputs": [],
   "source": [
    "df = pd.DataFrame(data=C3, columns= ['AVG', 'SQN', 'SGD', 'ADAGRAD', 'RMSPROP', 'ADADELTA', 'ADMM','logistic'])\n",
    "df = pd.DataFrame(data=df.subtract(df.logistic,axis=0), columns= ['AVG', 'SQN', 'SGD', 'ADAGRAD', 'RMSPROP', 'ADADELTA', 'ADMM'])\n",
    "ax = sns.boxplot(data=df, palette=\"PRGn\")\n",
    "ax.set(xlabel='Algorithms', ylabel='cross-entropy (centered)')\n",
    "sns.despine(offset=10, trim=True)\n",
    "plt.show()"
   ]
  },
  {
   "cell_type": "code",
   "execution_count": null,
   "metadata": {
    "collapsed": false
   },
   "outputs": [],
   "source": [
    "df = pd.DataFrame(data=df[['SQN', 'SGD', 'ADAGRAD', 'RMSPROP', 'ADADELTA', 'ADMM']], columns= \n",
    "                  ['SQN', 'SGD', 'ADAGRAD', 'RMSPROP', 'ADADELTA', 'ADMM'])\n",
    "ax = sns.boxplot(data=df, palette=\"PRGn\")\n",
    "ax.set(xlabel='Algorithms', ylabel='cross-entropy (centered)')\n",
    "sns.despine(offset=10, trim=True)\n",
    "plt.show()"
   ]
  },
  {
   "cell_type": "code",
   "execution_count": null,
   "metadata": {
    "collapsed": false
   },
   "outputs": [],
   "source": [
    "np.random.seed(321323)\n",
    "repeats = 100\n",
    "C4 = np.empty((repeats,8))\n",
    "tstart = time()\n",
    "for i in range(repeats):\n",
    "    C4[i,:] = offline(1000,5,11,0,5,50)\n",
    "tend = time()\n",
    "print tend-tstart"
   ]
  },
  {
   "cell_type": "code",
   "execution_count": null,
   "metadata": {
    "collapsed": false
   },
   "outputs": [],
   "source": [
    "df = pd.DataFrame(data=allpnResults0[7], columns= ['AVG', 'SQN', 'SGD', 'ADAGRAD', 'RMSPROP', 'ADADELTA', 'ADMM','logistic'])\n",
    "df = pd.DataFrame(data=df.subtract(df.logistic,axis=0), columns= ['AVG', 'SQN', 'SGD', 'ADAGRAD', 'RMSPROP', 'ADADELTA', 'ADMM'])\n",
    "ax = sns.boxplot(data=df, palette=\"PRGn\")\n",
    "ax.set(xlabel='Algorithms', ylabel='cross-entropy (centered)')\n",
    "sns.despine(offset=10, trim=True)\n",
    "plt.show()"
   ]
  },
  {
   "cell_type": "markdown",
   "metadata": {},
   "source": [
    "# p 1,2,5,10, N with 5 bins"
   ]
  },
  {
   "cell_type": "code",
   "execution_count": null,
   "metadata": {
    "collapsed": false,
    "scrolled": true
   },
   "outputs": [],
   "source": [
    "%%cache allpnResults0.pkl allpnResults0 \n",
    "s = \"PNexp\"\n",
    "seed = int(''.join(str(ord(c)) for c in s))%4294967295\n",
    "reps = 100\n",
    "allpnResults0 = []\n",
    "Ps = [1,2,5,10]\n",
    "Ns = [1000, 10000, 100]\n",
    "bs = [20,50,2]\n",
    "hs = [50,500,5]\n",
    "p = Pool(4)\n",
    "inputs=range(1,reps+1)\n",
    "\n",
    "\n",
    "t0 = time()\n",
    "for i in xrange(3):\n",
    "    for pnum in Ps:\n",
    "        nnum= Ns[i]\n",
    "        print pnum, '\\n'\n",
    "        tstart = time()\n",
    "        f = lambda x: offline(x[1],x[2]+1,5,0.0, x[3], x[4],x[0])\n",
    "        keywords = zip([j*hs[i]*nnum*seed for j in inputs],[nnum]*reps, \n",
    "                       [pnum]*reps, [bs[i]]*reps, [hs[i]]*reps)\n",
    "        results=p.map(f, keywords)\n",
    "        allpnResults0.append(results)\n",
    "        tend = time()\n",
    "        print tend-tstart, '\\n'\n",
    "        sys.stdout.flush()\n",
    "print time()-t0"
   ]
  },
  {
   "cell_type": "code",
   "execution_count": null,
   "metadata": {
    "collapsed": false
   },
   "outputs": [],
   "source": [
    "%%cache allpnResults1.pkl allpnResults1 \n",
    "s = \"PNexp\"\n",
    "seed = int(''.join(str(ord(c)) for c in s))%4294967295\n",
    "reps = 100\n",
    "allpnResults1 = []\n",
    "Ps = [1,2,5,10]\n",
    "Ns = [1000, 10000, 100]\n",
    "bs = [20,50,2]\n",
    "hs = [50,500,5]\n",
    "p = Pool(4)\n",
    "inputs=range(1,reps+1)\n",
    "\n",
    "\n",
    "t0 = time()\n",
    "for i in xrange(2):\n",
    "    for pnum in Ps:\n",
    "        nnum= Ns[i]\n",
    "        print pnum, '\\n'\n",
    "        tstart = time()\n",
    "        f = lambda x: offline(x[1],x[2]+1,5,1.0, x[3], x[4],x[0])\n",
    "        keywords = zip([j*hs[i]*nnum*seed for j in inputs],[nnum]*reps, \n",
    "                       [pnum]*reps, [bs[i]]*reps, [hs[i]]*reps)\n",
    "        results=p.map(f, keywords)\n",
    "        allpnResults1.append(results)\n",
    "        tend = time()\n",
    "        print tend-tstart, '\\n'\n",
    "        sys.stdout.flush()\n",
    "print time()-t0"
   ]
  },
  {
   "cell_type": "code",
   "execution_count": null,
   "metadata": {
    "collapsed": false
   },
   "outputs": [],
   "source": [
    "%%cache allpnResults0.5.pkl allpnResults05\n",
    "s = \"PNexp05\"\n",
    "seed = int(''.join(str(ord(c)) for c in s))%4294967295\n",
    "reps = 100\n",
    "allpnResults05 = []\n",
    "Ps = [1,2,5,10]\n",
    "Ns = [1000, 10000, 100]\n",
    "bs = [20,50,2]\n",
    "hs = [50,500,5]\n",
    "p = Pool(4)\n",
    "inputs=range(1,reps+1)\n",
    "\n",
    "\n",
    "t0 = time()\n",
    "for i in xrange(2):\n",
    "    for pnum in Ps:\n",
    "        nnum= Ns[i]\n",
    "        print pnum, '\\n'\n",
    "        tstart = time()\n",
    "        f = lambda x: offline(x[1],x[2]+1,5,0.5, x[3], x[4],x[0])\n",
    "        keywords = zip([j*hs[i]*nnum*seed for j in inputs],[nnum]*reps, \n",
    "                       [pnum]*reps, [bs[i]]*reps, [hs[i]]*reps)\n",
    "        results=p.map(f, keywords)\n",
    "        allpnResults05.append(results)\n",
    "        tend = time()\n",
    "        print tend-tstart, '\\n'\n",
    "        sys.stdout.flush()\n",
    "print time()-t0"
   ]
  },
  {
   "cell_type": "code",
   "execution_count": null,
   "metadata": {
    "collapsed": false
   },
   "outputs": [],
   "source": [
    "allpnResults0 = np.array(allpnResults0)\n",
    "print allpnResults0.shape\n",
    "dat = allpnResults0"
   ]
  },
  {
   "cell_type": "code",
   "execution_count": null,
   "metadata": {
    "collapsed": false
   },
   "outputs": [],
   "source": [
    "def df_from_pn(P,N, sim, DO=5):\n",
    "    df = pd.DataFrame()\n",
    "    result = pd.DataFrame()\n",
    "    sim = np.array(sim)\n",
    "    loss = ['cost', 'roc', '01']\n",
    "    for i in range(3):\n",
    "        for data in range(sim.shape[0]):\n",
    "            p = P[data]\n",
    "            n = N[data]\n",
    "            cov = np.array([p-1]*sim.shape[1])\n",
    "            cov.shape = (100,1)\n",
    "            size = np.array([n]*sim.shape[1])\n",
    "            size.shape = (100,1)\n",
    "            r = np.array(range(100))\n",
    "            r.shape = (100,1)\n",
    "            l = np.array([i]*100)\n",
    "            l.shape = (100,1)\n",
    "            appended = np.hstack((sim[data,:,:,i],cov,size,r,l))\n",
    "            if i == 0:\n",
    "                appended = np.hstack((sim[data,:,:,i]*n,cov,size,r,l))\n",
    "            else:\n",
    "                appended = np.hstack((sim[data,:,:,i],cov,size,r,l))     \n",
    "            df = df.append(pd.DataFrame(data=appended, columns= ['AVG', 'SQN', 'SGD', 'ADAGRAD', 'RMSPROP', 'ADADELTA', 'ADMM','logistic','covariates','n', 'range','loss']))\n",
    "    \n",
    "    df1 = df.loc[df.loss==0]\n",
    "    df1 = (df1[['AVG', 'SQN', 'SGD', 'ADAGRAD', 'RMSPROP', 'ADADELTA', 'ADMM']].sub(df1['logistic'], axis=0))\n",
    "    #df1 = (df1[['AVG', 'SQN', 'SGD', 'ADAGRAD', 'RMSPROP', 'ADADELTA', 'ADMM']]).div(df1['logistic']+ 10**-10, axis=0)\n",
    "    df.loc[df.loss==0, ['AVG', 'SQN', 'SGD', 'ADAGRAD', 'RMSPROP', 'ADADELTA', 'ADMM']] = np.log(np.abs(df1[['AVG', 'SQN', 'SGD', 'ADAGRAD', 'RMSPROP', 'ADADELTA', 'ADMM']]))\n",
    "    \n",
    "    df1 = df.loc[df.loss==2]\n",
    "    df.loc[df.loss==2, ['AVG', 'SQN', 'SGD', 'ADAGRAD', 'RMSPROP', 'ADADELTA', 'ADMM']] = df1[['AVG', 'SQN', 'SGD', 'ADAGRAD', 'RMSPROP', 'ADADELTA', 'ADMM']].div(\n",
    "        df1.logistic, axis=0)\n",
    "    #df.drop(\"logistic\", axis=1,inplace=True)\n",
    "    \n",
    "    df = pd.melt(df, id_vars=[\"covariates\",\"n\",'range', 'loss'])\n",
    "    ####### TODO evaluate globally not locally \n",
    "    df = df[~np.isnan(df.value)]\n",
    "    return df\n",
    "    "
   ]
  },
  {
   "cell_type": "code",
   "execution_count": null,
   "metadata": {
    "collapsed": false
   },
   "outputs": [],
   "source": [
    "def plot_pn(df,ylab,ylim):\n",
    "    f, (ax) = plt.subplots(1, 1, sharex=True)\n",
    "    sns.tsplot(time=\"covariates\", value=\"value\", condition=\"variable\",\n",
    "           unit=\"range\",data=df,color=colors,  err_style=\"ci_bars\",ax=ax\n",
    "           ,interpolate=True,legend=False)\n",
    "    sns.set_context(\"notebook\", font_scale=1.9, rc={\"lines.linewidth\": 2.5})\n",
    "    plt.xlabel('\\# of Covariates', fontsize=22)\n",
    "    ax.set_ylabel(ylab, fontsize=32, labelpad=0)\n",
    "    #ax.yaxis.set_label_coords(-.09, -.2)\n",
    "    ax.set_ylim(ylim)  # most of the data\n",
    "    ax.set_xlim(0.5, 10.5)  # outliers only\n",
    "    plt.legend(loc='best')\n",
    "    #ax.set(xticks=np.arange(1,10,2))\n",
    "    ax.set_xticks(np.arange(1,10,2))\n",
    "    ax.tick_params(labelsize=22)\n",
    "    sns.set_style(\"ticks\")\n",
    "    plt.tight_layout()\n",
    "    return f"
   ]
  },
  {
   "cell_type": "code",
   "execution_count": null,
   "metadata": {
    "collapsed": false
   },
   "outputs": [],
   "source": [
    "df = pd.DataFrame()\n",
    "allpnResults0 = np.array(dat)\n",
    "P = [2,3,6,11]\n",
    "P = P + P + P\n",
    "N = [1000] * 4 + [10000] * 4 + [100] * 4 \n",
    "loss = ['cost', 'roc', '01']\n",
    "i=0\n",
    "for data in range(12):\n",
    "    p = P[data]\n",
    "    n = N[data]\n",
    "    cov = np.array([p-1]*allpnResults0.shape[1])\n",
    "    cov.shape = (100,1)\n",
    "    size = np.array([n]*allpnResults0.shape[1])\n",
    "    size.shape = (100,1)\n",
    "    r = np.array(range(100))\n",
    "    r.shape = (100,1)\n",
    "    appended = np.hstack((allpnResults0[data,:,:,i],cov,size,r))\n",
    "    df = df.append(pd.DataFrame(data=appended, columns= ['AVG', 'SQN', 'SGD', 'ADAGRAD', 'RMSPROP', 'ADADELTA', 'ADMM','logistic','covariates','n', 'range']))\n",
    "df1 = df[['AVG', 'SQN', 'SGD', 'ADAGRAD', 'RMSPROP', 'ADADELTA', 'ADMM']].sub(df['logistic'], axis=0)\n",
    "df[['AVG', 'SQN', 'SGD', 'ADAGRAD', 'RMSPROP', 'ADADELTA', 'ADMM']] = df1\n",
    "df.drop(\"logistic\", axis=1,inplace=True)"
   ]
  },
  {
   "cell_type": "code",
   "execution_count": null,
   "metadata": {
    "collapsed": false
   },
   "outputs": [],
   "source": [
    "allpnResults0 = np.array(dat)\n",
    "allpnResults0.shape"
   ]
  },
  {
   "cell_type": "code",
   "execution_count": null,
   "metadata": {
    "collapsed": false
   },
   "outputs": [],
   "source": [
    "df = pd.melt(df, id_vars=[\"covariates\",\"n\",'range'])"
   ]
  },
  {
   "cell_type": "code",
   "execution_count": null,
   "metadata": {
    "collapsed": false,
    "scrolled": true
   },
   "outputs": [],
   "source": [
    "\n",
    "f, (ax, ax2) = plt.subplots(2, 1, sharex=True)\n",
    "sns.tsplot(time=\"covariates\", value=\"value\", condition=\"variable\",\n",
    "           unit=\"range\",data=df[(df.n==1000)].drop(\"n\", axis=1,inplace=False),color=colors,  err_style=\"ci_bars\",ax=ax, \n",
    "           interpolate=False)\n",
    "sns.tsplot(time=\"covariates\", value=\"value\", condition=\"variable\",\n",
    "           unit=\"range\",data=df[(df.n==1000)].drop(\"n\", axis=1,inplace=False),color=colors,  err_style=\"ci_bars\",ax=ax2\n",
    "          ,legend=False, interpolate=True)\n",
    "\n",
    "ax.axes.get_xaxis().set_visible(False)  #turnoff xaxis label for top graph\n",
    "ax2.yaxis.label.set_visible(False)\n",
    "\n",
    "\n",
    "ax.set_ylim(.05, .8)  # outliers only\n",
    "ax2.set_ylim(0, .04)  # most of the data\n",
    "ax.set_xlim(0, 10.5)  # outliers only\n",
    "ax2.set_xlim(0, 10.5)  # most of the data\n",
    "ax.spines['bottom'].set_visible(False)\n",
    "ax2.spines['top'].set_visible(False)\n",
    "ax.xaxis.tick_top()\n",
    "ax.tick_params(labeltop='off')  # don't put tick labels at the top\n",
    "ax2.xaxis.tick_bottom()\n",
    "d = .015  # how big to make the diagonal lines in axes coordinates\n",
    "# arguments to pass to plot, just so we don't keep repeating them\n",
    "kwargs = dict(transform=ax.transAxes, color='k', clip_on=False)\n",
    "\n",
    "ax.plot((-d, +d), (-d, +d), **kwargs)        # top-left diagonal\n",
    "ax.plot((1 - d, 1 + d), (-d, +d), **kwargs)  # top-right diagonal\n",
    "\n",
    "kwargs.update(transform=ax2.transAxes)  # switch to the bottom axes\n",
    "ax2.plot((-d, +d), (1 - d, 1 + d), **kwargs)  # bottom-left diagonal\n",
    "ax2.plot((1 - d, 1 + d), (1 - d, 1 + d), **kwargs)  # bottom-right diagonal\n",
    "\n",
    "plt.xlabel('# of Covariates', fontsize=18)\n",
    "ax.set_ylabel('Cost Function Difference', fontsize=16)\n",
    "ax.yaxis.set_label_coords(-.09, -.2)\n",
    "sns.plt.show()"
   ]
  },
  {
   "cell_type": "code",
   "execution_count": null,
   "metadata": {
    "collapsed": false,
    "scrolled": true
   },
   "outputs": [],
   "source": [
    "f, (ax) = plt.subplots(1, 1, sharex=True)\n",
    "sns.tsplot(time=\"covariates\", value=\"value\", condition=\"variable\",\n",
    "           unit=\"range\",data=df[(df.n==100)],color=colors,  err_style=\"ci_bars\",ax=ax\n",
    "           ,interpolate=True)\n",
    "sns.set_context(\"notebook\", font_scale=1.5, rc={\"lines.linewidth\": 2.5})\n",
    "plt.xlabel('# of Covariates', fontsize=18)\n",
    "ax.set_ylabel('Cost Function Difference', fontsize=16)\n",
    "#ax.yaxis.set_label_coords(-.09, -.2)\n",
    "ax.set_ylim(0, .03)  # most of the data\n",
    "ax.set_xlim(0.5, 10.5)  # outliers only\n",
    "plt.legend(loc='best')\n",
    "ax.set(xticks=np.arange(1,10,2))\n",
    "\n",
    "sns.plt.show()"
   ]
  },
  {
   "cell_type": "code",
   "execution_count": null,
   "metadata": {
    "collapsed": false
   },
   "outputs": [],
   "source": [
    "P = [2,3,6,11]\n",
    "P = P + P + P\n",
    "N = [1000] * 4 + [10000] * 4 + [100] * 4\n",
    "\n",
    "name, n, loss = 'allpnResults0', 100, 0\n",
    "df = df_from_pn(P,N, allpnResults0)\n",
    "ax = plot_pn(df[(df.n==n) & (df.loss==loss)& (df.variable!='logistic')& (df.range != 67)],'Cost Function Difference',[-20,5])\n",
    "ax.savefig(figSaveFile+\"p_\"+name+\"_\"+str(n)+\"_\"+str(loss)+\".png\")"
   ]
  },
  {
   "cell_type": "code",
   "execution_count": null,
   "metadata": {
    "collapsed": false
   },
   "outputs": [],
   "source": [
    "dat = np.array(allpnResults0).shape"
   ]
  },
  {
   "cell_type": "code",
   "execution_count": null,
   "metadata": {
    "collapsed": false,
    "scrolled": true
   },
   "outputs": [],
   "source": [
    "name, n, loss = 'allpnResults1', 100, 0\n",
    "df = df_from_pn(P,N, allpnResults1)\n",
    "ax = plot_pn(df[(df.n==n) & (df.loss==loss)& (df.variable!='logistic') & (df.range!=41) & (df.range != 88) ],'Cost Function Difference',[-0.005,.03])"
   ]
  },
  {
   "cell_type": "code",
   "execution_count": null,
   "metadata": {
    "collapsed": false,
    "scrolled": false
   },
   "outputs": [],
   "source": [
    "#Plotting \n",
    "plt.rc('text', usetex=True)\n",
    "\n",
    "P = [2,3,6,11]\n",
    "P = P + P + P\n",
    "N = [1000] * 4 + [10000] * 4 + [100] * 4\n",
    "text = r\"$\\log(\\ell_{C} - \\ell_{D})$\"\n",
    "window = [-30,5]\n",
    "\n",
    "name, n, loss = 'allpnResults0', 1000, 0\n",
    "df = df_from_pn(P,N, allpnResults0)\n",
    "df1 = df[(df.n==n) & (df.loss==loss)& (df.variable!='logistic')]\n",
    "df1.value[np.isneginf(df1.value)] = np.nan \n",
    "df1['value'].fillna((df1['value'].mean()), inplace=True)\n",
    "\n",
    "ax = plot_pn(df1,text,window)\n",
    "ax.savefig(figSaveFile+\"p_\"+name+\"_\"+str(n)+\"_\"+str(loss)+\".png\")\n",
    "\n",
    "name, n, loss = 'allpnResults0', 10000, 0\n",
    "df = df_from_pn(P,N, allpnResults0)\n",
    "df1 = df[(df.n==n) & (df.loss==loss)& (df.variable!='logistic')]\n",
    "df1.value[np.isneginf(df1.value)] = np.nan \n",
    "df1['value'].fillna((df1['value'].mean()), inplace=True)\n",
    "ax = plot_pn(df1,text,window)\n",
    "ax.savefig(figSaveFile+\"p_\"+name+\"_\"+str(n)+\"_\"+str(loss)+\".png\")\n",
    "\n",
    "name, n, loss = 'allpnResults0', 100, 0\n",
    "df = df_from_pn(P,N, allpnResults0)\n",
    "df1 = df[(df.n==n) & (df.loss==loss)& (df.variable!='logistic') & (df.range != 67)]\n",
    "df1.value[np.isneginf(df1.value)] = np.nan \n",
    "df1['value'].fillna((df1['value'].mean()), inplace=True)\n",
    "ax = plot_pn(df1,text,window)\n",
    "ax.savefig(figSaveFile+\"p_\"+name+\"_\"+str(n)+\"_\"+str(loss)+\".png\")\n",
    "\n",
    "#  this one needs special attention, one of the values ended up being nan, so we will delete that and relvant counts\n",
    "\n",
    "name, n, loss = 'allpnResults1', 1000, 0\n",
    "df = df_from_pn(P,N, allpnResults1)\n",
    "df = df[(df.n==1000)& (df.loss==loss)& (df['range']!=79)]\n",
    "df1 = df[(df.n==n) & (df.loss==loss)& (df.variable!='logistic')]\n",
    "df1.value[np.isneginf(df1.value)] = np.nan \n",
    "df1['value'].fillna((df1['value'].mean()), inplace=True)\n",
    "ax = plot_pn(df1,text,window)\n",
    "ax.savefig(figSaveFile+\"p_\"+name+\"_\"+str(n)+\"_\"+str(loss)+\".png\")\n",
    "\n",
    "name, n, loss = 'allpnResults1', 10000, 0\n",
    "df = df_from_pn(P,N, allpnResults1)\n",
    "df1 = df[(df.n==n) & (df.loss==loss)& (df.variable!='logistic')]\n",
    "df1.value[np.isneginf(df1.value)] = np.nan \n",
    "df1['value'].fillna((df1['value'].mean()), inplace=True)\n",
    "ax = plot_pn(df1,text,window)\n",
    "ax.savefig(figSaveFile+\"p_\"+name+\"_\"+str(n)+\"_\"+str(loss)+\".png\")\n",
    "\n",
    "# name, n, loss = 'allpnResults1', 100, 0\n",
    "# df = df_from_pn(P,N, allpnResults1)\n",
    "# df1 = df[(df.n==n) & (df.loss==loss)& (df.variable!='logistic')& (df.range!=41) & (df.range != 88)]\n",
    "# df1.value[np.isneginf(df1.value)] = np.nan \n",
    "# df1['value'].fillna((df1['value'].mean()), inplace=True)\n",
    "# ax = plot_pn(df1,text,window)\n",
    "# ax.savefig(figSaveFile+\"p_\"+name+\"_\"+str(n)+\"_\"+str(loss)+\".png\")\n",
    "\n",
    "\n",
    "name, n, loss = 'allpnResults05', 1000, 0\n",
    "df = df_from_pn(P,N, allpnResults05)\n",
    "df1 = df[(df.n==n) & (df.loss==loss)& (df.variable!='logistic')]\n",
    "df1.value[np.isneginf(df1.value)] = np.nan \n",
    "df1['value'].fillna((df1['value'].mean()), inplace=True)\n",
    "ax = plot_pn(df1,text,window)\n",
    "ax.savefig(figSaveFile+\"p_\"+name+\"_\"+str(n)+\"_\"+str(loss)+\".png\")\n",
    "\n",
    "name, n, loss = 'allpnResults05', 10000, 0\n",
    "df = df_from_pn(P,N, allpnResults05)\n",
    "df1 = df[(df.n==n) & (df.loss==loss)& (df.variable!='logistic')]\n",
    "df1.value[np.isneginf(df1.value)] = np.nan \n",
    "df1['value'].fillna((df1['value'].mean()), inplace=True)\n",
    "ax = plot_pn(df1,text,window)\n",
    "ax.savefig(figSaveFile+\"p_\"+name+\"_\"+str(n)+\"_\"+str(loss)+\".png\")\n",
    "\n",
    "name, n, loss = 'allpnResults05', 100, 0\n",
    "df = df_from_pn(P,N, allpnResults05)\n",
    "df1 = df[(df.n==n) & (df.loss==loss)& (df.variable!='logistic')]\n",
    "df1.value[np.isneginf(df1.value)] = np.nan \n",
    "df1['value'].fillna((df1['value'].mean()), inplace=True)\n",
    "ax = plot_pn(df1,text,window)\n",
    "ax.savefig(figSaveFile+\"p_\"+name+\"_\"+str(n)+\"_\"+str(loss)+\".png\")\n",
    "\n"
   ]
  },
  {
   "cell_type": "markdown",
   "metadata": {},
   "source": [
    "# Time to convergence "
   ]
  },
  {
   "cell_type": "code",
   "execution_count": null,
   "metadata": {
    "collapsed": true
   },
   "outputs": [],
   "source": [
    "totDOs = 5\n",
    "def timeoffline(totCount, p, totDOs,f, bs, hs,x): # f is for fraction of categorical covariates \n",
    "    np.random.seed(1235641343*x%4294967295)\n",
    "    dim = p - 1\n",
    "    beta = np.random.normal(0,1,p)\n",
    "    #beta[0] = 0\n",
    "    DOs = []\n",
    "    num = None\n",
    "    # check that no DO gets less than 10% of the data \n",
    "    while (num == None or any(num < totCount/10.0)):\n",
    "        num = np.random.poisson(totCount/float(totDOs), totDOs-1)\n",
    "        num = np.append(num,totCount - sum(num))\n",
    "        center = DataCenter(dim)\n",
    "    #pdb.set_trace()\n",
    "    for i,n in enumerate(num):\n",
    "        DOs.append(DataRepo(n, 'm', dim, beta, center, f))\n",
    "        #center.add_repo(DOs[i])\n",
    "        \n",
    "    iters = 1000\n",
    "    center.count_data()\n",
    "    center.scale()\n",
    "    betaL,cost,roc, zeroone = all_logistic(center)\n",
    "    betas = np.zeros((7,betaL.shape[0],iters/10+1))\n",
    "    \n",
    "    #betas[0,:,:] = center.avgLogistic()     # averaging \n",
    "    betas[1,:,:] = center.SQN(50,10,.01,bs,hs, max_iters=iters,verbose=True)   #SQN beta\n",
    "    betas[2,:,:] = center.batch_SGD(bs,0.0001, max_iters=iters, step=200.0,verbose=True)     # simple sgd \n",
    "    betas[3,:,:] = center.batch_SGD(bs,0.0001, max_iters=iters, adagrad=1, step=5.0,verbose=True)   #adagrad \n",
    "    betas[4,:,:] = center.batch_SGD(bs,0.0001, max_iters=iters, adagrad=2, step=0.05,verbose=True)    #rms prop \n",
    "    betas[5,:,:] = center.batch_SGD(bs,0.0001, max_iters=iters, adagrad=3, step=.1,verbose=True)     #adadelta \n",
    "    betas[6,:,:] = center.ADMM(1.0, max_iters=iters,verbose=True)    # admm \n",
    "    costs = np.zeros((8,3,iters/10+1))\n",
    "    for i in xrange(7):\n",
    "        for j in xrange(iters/10+1):\n",
    "            costs[i,:,j] = center.evaluate(betas[i,:,j])\n",
    "    for j in xrange(iters/10+1):\n",
    "        costs[7,:,j] = cost, roc, zeroone\n",
    "    return costs"
   ]
  },
  {
   "cell_type": "code",
   "execution_count": null,
   "metadata": {
    "collapsed": false
   },
   "outputs": [],
   "source": [
    "%%cache alltimeResults0.pkl alltimeResults0 \n",
    "s = \"PNexp\"\n",
    "seed = int(''.join(str(ord(c)) for c in s))%4294967295\n",
    "reps = 100\n",
    "alltimeResults0 = []\n",
    "Ps = [1,2,5,10]\n",
    "Ns = [1000, 10000, 100]\n",
    "bs = [20,50,2]\n",
    "hs = [50,500,5]\n",
    "p = Pool(4)\n",
    "inputs=range(1,reps+1)\n",
    "\n",
    "\n",
    "t0 = time()\n",
    "for i in xrange(3):\n",
    "    temp = []\n",
    "    for pnum in Ps:\n",
    "        nnum= Ns[i]\n",
    "        print pnum, '\\n'\n",
    "        f = lambda x: timeoffline(x[1],x[2]+1,5,0.0, x[3], x[4],x[0])\n",
    "        keywords = zip([j*hs[i]*nnum*seed for j in inputs],[nnum]*reps, \n",
    "                       [pnum]*reps, [bs[i]]*reps, [hs[i]]*reps)\n",
    "        results=p.map(f, keywords)\n",
    "        temp.append(results)\n",
    "        sys.stdout.flush()\n",
    "    alltimeResults0.append(temp)\n",
    "print time()-t0"
   ]
  },
  {
   "cell_type": "code",
   "execution_count": null,
   "metadata": {
    "collapsed": false
   },
   "outputs": [],
   "source": [
    "%%cache alltimeResults1.pkl alltimeResults1 \n",
    "s = \"PNexp\"\n",
    "seed = int(''.join(str(ord(c)) for c in s))%4294967295\n",
    "reps = 100\n",
    "alltimeResults1 = []\n",
    "Ps = [1,2,5,10]\n",
    "Ns = [1000, 10000, 100]\n",
    "bs = [20,50,2]\n",
    "hs = [50,500,5]\n",
    "p = Pool(4)\n",
    "inputs=range(1,reps+1)\n",
    "\n",
    "\n",
    "t0 = time()\n",
    "for i in xrange(3):\n",
    "    temp = []\n",
    "    for pnum in Ps:\n",
    "        nnum= Ns[i]\n",
    "        print pnum, '\\n'\n",
    "        f = lambda x: timeoffline(x[1],x[2]+1,5,1.0, x[3], x[4],x[0])\n",
    "        keywords = zip([j*hs[i]*nnum*seed for j in inputs],[nnum]*reps, \n",
    "                       [pnum]*reps, [bs[i]]*reps, [hs[i]]*reps)\n",
    "        results=p.map(f, keywords)\n",
    "        temp.append(results)\n",
    "        sys.stdout.flush()\n",
    "    alltimeResults1.append(temp)\n",
    "print time()-t0"
   ]
  },
  {
   "cell_type": "code",
   "execution_count": null,
   "metadata": {
    "collapsed": false
   },
   "outputs": [],
   "source": [
    "%%cache alltimeResults05.pkl alltimeResults05 \n",
    "s = \"PNexp\"\n",
    "seed = int(''.join(str(ord(c)) for c in s))%4294967295\n",
    "reps = 100\n",
    "alltimeResults05 = []\n",
    "Ps = [1,2,5,10]\n",
    "Ns = [1000, 10000, 100]\n",
    "bs = [20,50,2]\n",
    "hs = [50,500,5]\n",
    "p = Pool(4)\n",
    "inputs=range(1,reps+1)\n",
    "\n",
    "\n",
    "t0 = time()\n",
    "for i in xrange(3):\n",
    "    temp = []\n",
    "    for pnum in Ps:\n",
    "        nnum= Ns[i]\n",
    "        print pnum, '\\n'\n",
    "        f = lambda x: timeoffline(x[1],x[2]+1,5,0.5, x[3], x[4],x[0])\n",
    "        keywords = zip([j*hs[i]*nnum*seed for j in inputs],[nnum]*reps, \n",
    "                       [pnum]*reps, [bs[i]]*reps, [hs[i]]*reps)\n",
    "        results=p.map(f, keywords)\n",
    "        temp.append(results)\n",
    "        sys.stdout.flush()\n",
    "    alltimeResults05.append(temp)\n",
    "print time()-t0"
   ]
  },
  {
   "cell_type": "code",
   "execution_count": null,
   "metadata": {
    "collapsed": true
   },
   "outputs": [],
   "source": [
    "reps = 100\n",
    "alltimeResults05 = []\n",
    "Ps = [1,2,5,10]\n",
    "Ns = [1000, 10000, 100]\n",
    "bs = [20,50,2]\n",
    "hs = [50,500,5]\n",
    "p = Pool(4)\n",
    "inputs=range(1,reps+1)"
   ]
  },
  {
   "cell_type": "code",
   "execution_count": null,
   "metadata": {
    "collapsed": false
   },
   "outputs": [],
   "source": [
    "np.array(alltimeResults0).shape"
   ]
  },
  {
   "cell_type": "code",
   "execution_count": null,
   "metadata": {
    "collapsed": false
   },
   "outputs": [],
   "source": [
    "def df_convergance(P,N, sim, DO=5):\n",
    "    df = pd.DataFrame()\n",
    "    sim = np.array(sim)\n",
    "    exps = sim.shape[2]\n",
    "    tp = sim.shape[5]\n",
    "    reshaped = np.empty((exps * tp,10))\n",
    "\n",
    "    for k in range(1):\n",
    "        for i,n in enumerate(N):\n",
    "            for j,p in enumerate(P):\n",
    "                for l in range(exps):\n",
    "                    reshaped[l*tp:((l+1)*tp),:8] = sim[i,j,l,:,k,:].T\n",
    "                    reshaped[l*tp:((l+1)*tp),8] = [l]*tp\n",
    "                    reshaped[l*tp:((l+1)*tp),9] = range(0,tp*10,10)\n",
    "                cov = np.array([p-1]*exps*tp,ndmin=2).T\n",
    "                size = np.array([n]*exps*tp,ndmin=2).T\n",
    "                #timepoint = np.array([np.array(range(100))]*tp,ndmin=2).reshape(10100,1)\n",
    "                r = np.repeat(range(tp),exps).reshape(tp*exps,1)\n",
    "                #l = np.array([i]*100,ndmin=2).T\n",
    "                appended = np.hstack((reshaped,cov,size))\n",
    "                df = df.append(pd.DataFrame(data=appended, columns= ['AVG', 'SQN', 'SGD', 'ADAGRAD', 'RMSPROP', 'ADADELTA', 'ADMM',\n",
    "                                                                 'logistic', 'range', 'tps','covariates','n']))\n",
    "    df1 = df\n",
    "    df1 = (df1[['AVG', 'SQN', 'SGD', 'ADAGRAD', 'RMSPROP', 'ADADELTA', 'ADMM']].sub(df1['logistic'], axis=0))\n",
    "    #df1 = (df1[['AVG', 'SQN', 'SGD', 'ADAGRAD', 'RMSPROP', 'ADADELTA', 'ADMM']]).div(df1['logistic']+ 10**-10, axis=0)\n",
    "    df.loc[:, ['AVG', 'SQN', 'SGD', 'ADAGRAD', 'RMSPROP', 'ADADELTA', 'ADMM']] = df1[['AVG', 'SQN', 'SGD', 'ADAGRAD', 'RMSPROP', 'ADADELTA', 'ADMM']]\n",
    "    df = pd.melt(df, id_vars=[\"covariates\",\"n\",'range','tps'])\n",
    "    logs = np.log(df.value)\n",
    "    df.value = logs\n",
    "    df.value[np.isnan(logs) & ~np.isfinite(logs)] = min(logs[~np.isnan(logs) & np.isfinite(logs)])\n",
    "    return df"
   ]
  },
  {
   "cell_type": "code",
   "execution_count": null,
   "metadata": {
    "collapsed": true
   },
   "outputs": [],
   "source": [
    "def plot_time(df,ylab,ylim):\n",
    "    f, (ax) = plt.subplots(1, 1, sharex=True)\n",
    "    sns.tsplot(time=\"tps\", value=\"value\", condition=\"variable\",\n",
    "           unit=\"range\",data=df,color=colors[1:],  err_style=\"ci_band\",ax=ax\n",
    "           ,interpolate=True,legend=False)\n",
    "    sns.set_context(\"notebook\", font_scale=1.9, rc={\"lines.linewidth\": 2.5})\n",
    "    plt.xlabel('Iterations', fontsize=22)\n",
    "    ax.set_ylabel(ylab, fontsize=32, labelpad=-2)\n",
    "    #ax.yaxis.set_label_coords(-.09, -.2)\n",
    "    ax.set_ylim(ylim)  # most of the data\n",
    "    ax.set_xlim(0, 1000)  # outliers only\n",
    "    plt.legend(loc='best')\n",
    "    ax.set_xticks(np.arange(0,1000,100))\n",
    "    ax.tick_params(labelsize=22)\n",
    "    sns.set_style(\"ticks\")\n",
    "    plt.tight_layout()\n",
    "    return f"
   ]
  },
  {
   "cell_type": "code",
   "execution_count": null,
   "metadata": {
    "collapsed": false
   },
   "outputs": [],
   "source": [
    "df = df_convergance(Ps,Ns, alltimeResults05)"
   ]
  },
  {
   "cell_type": "code",
   "execution_count": null,
   "metadata": {
    "collapsed": false
   },
   "outputs": [],
   "source": [
    "plt.rc('text', usetex=True)\n",
    "\n",
    "P = [2,3,6,11]\n",
    "P = P + P + P\n",
    "N = [1000] * 4 + [10000] * 4 + [100] * 4\n",
    "text = r\"$\\log(\\ell_{C} - \\ell_{D})$\"\n",
    "window = [-30,5]\n",
    "\n",
    "\n",
    "plot_time(df[(df.covariates==4)&(df.n==1000) & (df.variable!='logistic')],text,window)"
   ]
  },
  {
   "cell_type": "code",
   "execution_count": null,
   "metadata": {
    "collapsed": false
   },
   "outputs": [],
   "source": [
    "#Plotting \n",
    "plt.rc('text', usetex=True)\n",
    "\n",
    "Ps = [1,2,5,10]\n",
    "#N = [1000] * 4 + [10000] * 4 + [100] * 4\n",
    "Ns = [1000, 10000, 100]\n",
    "text = r\"$\\log(\\ell_{C} - \\ell_{D})$\"\n",
    "window = [-30,5]\n",
    "\n",
    "name, n, p= 'alltimeResults1', 1000, 4\n",
    "df = df_convergance(Ps,Ns, alltimeResults1)\n",
    "ax = plot_time(df[(df.covariates==p)&(df.n==n) & (df.variable!='logistic') & (df.variable!='AVG')],text,window)\n",
    "ax.savefig(figSaveFile+str(p)+name+\"_\"+str(n)+\".png\")\n",
    "\n",
    "name, n, p= 'alltimeResults1', 10000, 4\n",
    "df = df_convergance(Ps,Ns, alltimeResults1)\n",
    "ax = plot_time(df[(df.covariates==p)&(df.n==n) & (df.variable!='logistic') & (df.variable!='AVG')],text,window)\n",
    "ax.savefig(figSaveFile+str(p)+name+\"_\"+str(n)+\".png\")\n",
    "\n",
    "name, n, p= 'alltimeResults1', 100, 4\n",
    "df = df_convergance(Ps,Ns, alltimeResults1)\n",
    "ax = plot_time(df[(df.covariates==p)&(df.n==n) & (df.variable!='logistic') & (df.variable!='AVG')],text,window)\n",
    "ax.savefig(figSaveFile+str(p)+name+\"_\"+str(n)+\".png\")"
   ]
  },
  {
   "cell_type": "code",
   "execution_count": null,
   "metadata": {
    "collapsed": false
   },
   "outputs": [],
   "source": [
    "f, (ax) = plt.subplots(1, 1, sharex=True)\n",
    "sns.tsplot(time=\"covariates\", value=\"value\", condition=\"variable\",\n",
    "           unit=\"range\",data=df[(df.n==1000)& (df.loss==loss)& (df['range']>80)],color=colors,  err_style=\"ci_bars\",ax=ax\n",
    "          ,interpolate=True)\n",
    "sns.set_context(\"notebook\", font_scale=1.5, rc={\"lines.linewidth\": 2.5})\n",
    "ax.set_xlim(0.5, 10.5)  # outliers only\n",
    "ax.set_ylim(-0.001, .03) \n",
    "\n"
   ]
  },
  {
   "cell_type": "code",
   "execution_count": null,
   "metadata": {
    "collapsed": false,
    "scrolled": false
   },
   "outputs": [],
   "source": [
    "ax = sns.factorplot(x=\"covariates\", y=\"value\", hue=\"variable\", data=df[(df.variable!=\"AVG\") & (df.n==1000)]\n",
    "               ,palette=colors[1:], legend=False)\n",
    "ax.despine(left=True)\n",
    "plt.legend(loc='upper left')\n",
    "ax.set(xlabel='# of covariates', ylabel='Cross-entropy difference')\n",
    "ax.savefig(figSaveFile+\"p0_1000.png\")"
   ]
  },
  {
   "cell_type": "code",
   "execution_count": null,
   "metadata": {
    "collapsed": false
   },
   "outputs": [],
   "source": [
    "ind = [1,3,6]\n",
    "sns.factorplot(x=\"covariates\", y=\"value\", hue=\"variable\", \n",
    "               data=df[(df.variable!=\"RMSPROP\") &(df.variable!=\"SGD\") \n",
    "                       &(df.variable!=\"ADADELTA\") &(df.variable!=\"AVG\") & (df.n==1000)],\n",
    "               palette=colors[ind])"
   ]
  },
  {
   "cell_type": "code",
   "execution_count": null,
   "metadata": {
    "collapsed": false
   },
   "outputs": [],
   "source": [
    "ax = sns.factorplot(x=\"covariates\", y=\"value\", hue=\"variable\", \n",
    "               data=df[(df.n==10000)],\n",
    "               palette=colors, legend=False)\n",
    "ax.despine(left=True)\n",
    "plt.legend(loc='upper left')\n",
    "ax.set(xlabel='# of covariates', ylabel='Cross-entropy difference')\n",
    "ax.savefig(figSaveFile+\"p0_10000.png\")"
   ]
  },
  {
   "cell_type": "code",
   "execution_count": null,
   "metadata": {
    "collapsed": false
   },
   "outputs": [],
   "source": [
    "ind=[0,2,3,6]\n",
    "sns.factorplot(x=\"covariates\", y=\"value\", hue=\"variable\", \n",
    "               data=df[(df.n==10000)&(df.variable!=\"SGD\")&(df.variable!=\"ADADELTA\")&(df.variable!=\"RMSPROP\")],\n",
    "               palette=colors[ind])"
   ]
  },
  {
   "cell_type": "code",
   "execution_count": null,
   "metadata": {
    "collapsed": true
   },
   "outputs": [],
   "source": [
    "totDOs = 5\n",
    "def timejustone(totCount, p, totDOs,f, bs, hs,x): # f is for fraction of categorical covariates \n",
    "    np.random.seed(1235641343*x%4294967295)\n",
    "    dim = p - 1\n",
    "    beta = np.random.normal(0,1,p)\n",
    "    #beta[0] = 0\n",
    "    DOs = []\n",
    "    num = None\n",
    "    # check that no DO gets less than 10% of the data \n",
    "    while (num == None or any(num < totCount/10.0)):\n",
    "        num = np.random.poisson(totCount/float(totDOs), totDOs-1)\n",
    "        num = np.append(num,totCount - sum(num))\n",
    "        center = DataCenter(dim)\n",
    "    #pdb.set_trace()\n",
    "    for i,n in enumerate(num):\n",
    "        DOs.append(DataRepo(n, 'm', dim, beta, center, f))\n",
    "        #center.add_repo(DOs[i])\n",
    "        \n",
    "    iters = 10000\n",
    "    center.count_data()\n",
    "    center.scale()\n",
    "    betaL,cost,roc, zeroone = all_logistic(center)\n",
    "    betas = np.zeros((2,betaL.shape[0],iters/10+1))\n",
    "    \n",
    "    #betas[0,:,:] = center.avgLogistic()     # averaging \n",
    "    #betas[1,:,:] = center.SQN(50,10,.01,bs,hs, max_iters=iters,verbose=True)   #SQN beta\n",
    "    #betas[2,:,:] = center.batch_SGD(bs,0.0001, max_iters=iters, step=200.0,verbose=True)     # simple sgd \n",
    "    betas[0,:,:] = center.batch_SGD(bs,0.0001, max_iters=iters, adagrad=1, step=5.0,verbose=True)   #adagrad \n",
    "    #betas[4,:,:] = center.batch_SGD(bs,0.0001, max_iters=iters, adagrad=2, step=0.05,verbose=True)    #rms prop \n",
    "    #betas[5,:,:] = center.batch_SGD(bs,0.0001, max_iters=iters, adagrad=3, step=.1,verbose=True)     #adadelta \n",
    "    #betas[6,:,:] = center.ADMM(1.0, max_iters=iters,verbose=True)    # admm \n",
    "    costs = np.zeros((2,3,iters/10+1))\n",
    "    for i in xrange(1):\n",
    "        for j in xrange(iters/10+1):\n",
    "            costs[i,:,j] = center.evaluate(betas[i,:,j])\n",
    "    for j in xrange(iters/10+1):\n",
    "        costs[1,:,j] = cost, roc, zeroone\n",
    "    return costs"
   ]
  },
  {
   "cell_type": "code",
   "execution_count": null,
   "metadata": {
    "collapsed": false
   },
   "outputs": [],
   "source": [
    "s = \"test\"\n",
    "seed = int(''.join(str(ord(c)) for c in s))%4294967295\n",
    "reps = 100\n",
    "longtest= []\n",
    "Ps = [2,10]\n",
    "Ns = [1000, 10000, 100]\n",
    "bs = [20,50,2]\n",
    "hs = [50,500,5]\n",
    "p = Pool(4)\n",
    "inputs=range(1,reps+1)\n",
    "\n",
    "\n",
    "t0 = time()\n",
    "for i in xrange(3):\n",
    "    temp = []\n",
    "    for pnum in Ps:\n",
    "        nnum= Ns[i]\n",
    "        print pnum\n",
    "        f = lambda x: timejustone(x[1],x[2]+1,5,0.5, x[3], x[4],x[0])\n",
    "        keywords = zip([j*hs[i]*nnum*seed for j in inputs],[nnum]*reps, \n",
    "                       [pnum]*reps, [bs[i]]*reps, [hs[i]]*reps)\n",
    "        results=p.map(f, keywords)\n",
    "        temp.append(results)\n",
    "        sys.stdout.flush()\n",
    "    longtest.append(temp)\n",
    "print time()-t0"
   ]
  },
  {
   "cell_type": "markdown",
   "metadata": {},
   "source": [
    "## Half and half"
   ]
  },
  {
   "cell_type": "code",
   "execution_count": null,
   "metadata": {
    "collapsed": false
   },
   "outputs": [],
   "source": [
    "df = pd.DataFrame()\n",
    "allpnResults05 = np.array(allpnResults05)\n",
    "P = [2,3,6,11]\n",
    "P = P + P\n",
    "N = [1000] * 4 + [10000] * 4\n",
    "\n",
    "for data in range(8):\n",
    "    p = P[data]\n",
    "    n = N[data]\n",
    "    cov = np.array([p]*allpnResults05.shape[1])\n",
    "    cov.shape = (100,1)\n",
    "    size = np.array([n]*allpnResults05.shape[1])\n",
    "    size.shape = (100,1)\n",
    "    appended = np.hstack((allpnResults05[data],cov,size))\n",
    "    df = df.append(pd.DataFrame(data=appended, columns= ['AVG', 'SQN', 'SGD', 'ADAGRAD', 'RMSPROP', 'ADADELTA', 'ADMM','logistic','covariates','n']))\n",
    "df1 = df[['AVG', 'SQN', 'SGD', 'ADAGRAD', 'RMSPROP', 'ADADELTA', 'ADMM']].sub(df['logistic'], axis=0)\n",
    "df[['AVG', 'SQN', 'SGD', 'ADAGRAD', 'RMSPROP', 'ADADELTA', 'ADMM']] = df1\n",
    "df.drop(\"logistic\", axis=1,inplace=True)\n",
    "df = pd.melt(df, id_vars=[\"covariates\",\"n\"])"
   ]
  },
  {
   "cell_type": "code",
   "execution_count": null,
   "metadata": {
    "collapsed": false
   },
   "outputs": [],
   "source": [
    "ax = sns.factorplot(x=\"covariates\", y=\"value\", hue=\"variable\", \n",
    "               data=df[(df.n==1000)&(df.variable!=\"AVG\")],\n",
    "               palette=colors[1:], legend=False)\n",
    "ax.despine(left=True)\n",
    "plt.legend(loc='upper left')\n",
    "ax.set(xlabel='# of covariates', ylabel='Cross-entropy difference')\n",
    "ax.savefig(figSaveFile+\"p05_1000.png\")"
   ]
  },
  {
   "cell_type": "code",
   "execution_count": null,
   "metadata": {
    "collapsed": false
   },
   "outputs": [],
   "source": [
    "ax = sns.factorplot(x=\"covariates\", y=\"value\", hue=\"variable\", \n",
    "               data=df[(df.n==10000)],\n",
    "               palette=colors, legend=False)\n",
    "ax.despine(left=True)\n",
    "plt.legend(loc='upper left')\n",
    "ax.set(xlabel='# of covariates', ylabel='Cross-entropy difference')\n",
    "ax.savefig(figSaveFile+\"p05_10000.png\")"
   ]
  },
  {
   "cell_type": "markdown",
   "metadata": {},
   "source": [
    "## All dosage "
   ]
  },
  {
   "cell_type": "code",
   "execution_count": null,
   "metadata": {
    "collapsed": false
   },
   "outputs": [],
   "source": [
    "df = pd.DataFrame()\n",
    "allpnResults1 = np.array(allpnResults1)\n",
    "P = [2,3,6,11]\n",
    "P = P + P\n",
    "N = [1000] * 4 + [10000] * 4\n",
    "\n",
    "for data in range(8):\n",
    "    p = P[data]\n",
    "    n = N[data]\n",
    "    cov = np.array([p]*allpnResults1.shape[1])\n",
    "    cov.shape = (100,1)\n",
    "    size = np.array([n]*allpnResults1.shape[1])\n",
    "    size.shape = (100,1)\n",
    "    appended = np.hstack((allpnResults1[data],cov,size))\n",
    "    df = df.append(pd.DataFrame(data=appended, columns= ['AVG', 'SQN', 'SGD', 'ADAGRAD', 'RMSPROP', 'ADADELTA', 'ADMM','logistic','covariates','n']))\n",
    "df1 = df[['AVG', 'SQN', 'SGD', 'ADAGRAD', 'RMSPROP', 'ADADELTA', 'ADMM']].sub(df['logistic'], axis=0)\n",
    "df[['AVG', 'SQN', 'SGD', 'ADAGRAD', 'RMSPROP', 'ADADELTA', 'ADMM']] = df1\n",
    "df.drop(\"logistic\", axis=1,inplace=True)\n",
    "df = pd.melt(df, id_vars=[\"covariates\",\"n\"])"
   ]
  },
  {
   "cell_type": "code",
   "execution_count": null,
   "metadata": {
    "collapsed": false
   },
   "outputs": [],
   "source": [
    "ax = sns.factorplot(x=\"covariates\", y=\"value\", hue=\"variable\", \n",
    "               data=df[(df.n==1000)&(df.variable!=\"AVG\")],\n",
    "               palette=colors[1:], legend=False)\n",
    "ax.despine(left=True)\n",
    "plt.legend(loc='upper left')\n",
    "ax.set(xlabel='# of covariates', ylabel='Cross-entropy difference')\n",
    "ax.savefig(figSaveFile+\"p1_1000.png\")"
   ]
  },
  {
   "cell_type": "code",
   "execution_count": null,
   "metadata": {
    "collapsed": false
   },
   "outputs": [],
   "source": [
    "ax = sns.factorplot(x=\"covariates\", y=\"value\", hue=\"variable\", \n",
    "               data=df[(df.n==10000)],\n",
    "               palette=colors, legend=False)\n",
    "ax.despine(left=True)\n",
    "plt.legend(loc='upper left')\n",
    "ax.set(xlabel='# of covariates', ylabel='Cross-entropy difference')\n",
    "ax.savefig(figSaveFile+\"p1_10000.png\")"
   ]
  },
  {
   "cell_type": "markdown",
   "metadata": {},
   "source": [
    "# P2,5  N=1000: 10,000; 3,5,7,9"
   ]
  },
  {
   "cell_type": "code",
   "execution_count": null,
   "metadata": {
    "collapsed": false,
    "scrolled": true
   },
   "outputs": [],
   "source": [
    "%%cache allnResults0.pkl allnResults0\n",
    "s = \"repoexp\"\n",
    "seed = int(''.join(str(ord(c)) for c in s))%4294967295\n",
    "reps = 100\n",
    "allnResults0 = []\n",
    "Ps = [1,2,5,10]\n",
    "RepoSize = [3,5,7,9]\n",
    "nnum = 10000\n",
    "bs = 50\n",
    "hs = 500\n",
    "p = Pool(4)\n",
    "inputs=range(1,reps+1)\n",
    "\n",
    "\n",
    "t0 = time()\n",
    "for i in xrange(len(RepoSize)):\n",
    "    for pnum in Ps:\n",
    "        s = RepoSize[i]\n",
    "        print s, '\\n'\n",
    "        tstart = time()\n",
    "        f = lambda x: offline(10000,x[2]+1,x[1],0.0, x[3], x[4],x[0])\n",
    "        keywords = zip([j*hs*RepoSize[i]*pnum*seed for j in inputs],[s]*reps, \n",
    "                       [pnum]*reps, [bs]*reps, [hs]*reps)\n",
    "        results=p.map(f, keywords)\n",
    "        allnResults0.append(results)\n",
    "        tend = time()\n",
    "        print tend-tstart, '\\n'\n",
    "        sys.stdout.flush()\n",
    "print time()-t0"
   ]
  },
  {
   "cell_type": "code",
   "execution_count": null,
   "metadata": {
    "collapsed": false,
    "scrolled": true
   },
   "outputs": [],
   "source": [
    "%%cache allnResults05.pkl allnResults05\n",
    "s = \"repo5exp\"\n",
    "seed = int(''.join(str(ord(c)) for c in s))%4294967295\n",
    "reps = 100\n",
    "allnResults05 = []\n",
    "Ps = [1,2,5,10]\n",
    "RepoSize = [3,5,7,9]\n",
    "nnum = 10000\n",
    "bs = 50\n",
    "hs = 500\n",
    "p = Pool(4)\n",
    "inputs=range(1,reps+1)\n",
    "\n",
    "\n",
    "t0 = time()\n",
    "for i in xrange(len(RepoSize)):\n",
    "    for pnum in Ps:\n",
    "        s = RepoSize[i]\n",
    "        print s, '\\n'\n",
    "        tstart = time()\n",
    "        f = lambda x: offline(10000,x[2]+1,x[1],0.5, x[3], x[4],x[0])\n",
    "        keywords = zip([j*hs*RepoSize[i]*pnum*seed for j in inputs],[s]*reps, \n",
    "                       [pnum]*reps, [bs]*reps, [hs]*reps)\n",
    "        results=p.map(f, keywords)\n",
    "        allnResults05.append(results)\n",
    "        tend = time()\n",
    "        print tend-tstart, '\\n'\n",
    "        sys.stdout.flush()\n",
    "print time()-t0"
   ]
  },
  {
   "cell_type": "code",
   "execution_count": null,
   "metadata": {
    "collapsed": false,
    "scrolled": true
   },
   "outputs": [],
   "source": [
    "%%cache allnResults1.pkl allnResults1\n",
    "s = \"rep1exp\"\n",
    "seed = int(''.join(str(ord(c)) for c in s))%4294967295\n",
    "reps = 100\n",
    "allnResults1 = []\n",
    "Ps = [1,2,5,10]\n",
    "RepoSize = [3,5,7,9]\n",
    "nnum = 10000\n",
    "bs = 50\n",
    "hs = 500\n",
    "p = Pool(4)\n",
    "inputs=range(1,reps+1)\n",
    "\n",
    "\n",
    "t0 = time()\n",
    "for i in xrange(len(RepoSize)):\n",
    "    for pnum in Ps:\n",
    "        s = RepoSize[i]\n",
    "        print s, '\\n'\n",
    "        tstart = time()\n",
    "        f = lambda x: offline(10000,x[2]+1,x[1],0.5, x[3], x[4],x[0])\n",
    "        keywords = zip([j*hs*RepoSize[i]*pnum*seed for j in inputs],[s]*reps, \n",
    "                       [pnum]*reps, [bs]*reps, [hs]*reps)\n",
    "        results=p.map(f, keywords)\n",
    "        allnResults1.append(results)\n",
    "        tend = time()\n",
    "        print tend-tstart, '\\n'\n",
    "        sys.stdout.flush()\n",
    "print time()-t0"
   ]
  },
  {
   "cell_type": "code",
   "execution_count": null,
   "metadata": {
    "collapsed": false
   },
   "outputs": [],
   "source": [
    "df = pd.DataFrame()\n",
    "allpnResults1 = np.array(allnResults0)[:,:,:,0]\n",
    "P = [2,3,6,11]\n",
    "P = P + P + P + P \n",
    "N = np.repeat(RepoSize,4)\n",
    "\n",
    "for data in range(16):\n",
    "    p = P[data]\n",
    "    n = N[data]\n",
    "    cov = np.array([p]*allpnResults1.shape[1])\n",
    "    cov.shape = (100,1)\n",
    "    size = np.array([n]*allpnResults1.shape[1])\n",
    "    size.shape = (100,1)\n",
    "    appended = np.hstack((allpnResults1[data],cov,size))\n",
    "    df = df.append(pd.DataFrame(data=appended, columns= ['AVG', 'SQN', 'SGD', 'ADAGRAD', 'RMSPROP', 'ADADELTA', 'ADMM','logistic','covariates','n']))\n",
    "df1 = df[['AVG', 'SQN', 'SGD', 'ADAGRAD', 'RMSPROP', 'ADADELTA', 'ADMM']].sub(df['logistic'], axis=0)\n",
    "df[['AVG', 'SQN', 'SGD', 'ADAGRAD', 'RMSPROP', 'ADADELTA', 'ADMM']] = df1\n",
    "df.drop(\"logistic\", axis=1,inplace=True)\n",
    "df = pd.melt(df, id_vars=[\"covariates\",\"n\"])"
   ]
  },
  {
   "cell_type": "code",
   "execution_count": null,
   "metadata": {
    "collapsed": false
   },
   "outputs": [],
   "source": [
    "ax = sns.factorplot(x=\"n\", y=\"value\", hue=\"variable\", \n",
    "               data=df[(df.covariates==11)],\n",
    "               palette=colors, legend=True)\n",
    "ax.despine(left=True)\n",
    "#plt.legend(loc='right')\n",
    "ax.set(xlabel=\"# of DO's\", ylabel='Cross-entropy difference')\n",
    "ax.savefig(figSaveFile+\"repos_p11_type0_size_10000.png\")"
   ]
  },
  {
   "cell_type": "code",
   "execution_count": null,
   "metadata": {
    "collapsed": true
   },
   "outputs": [],
   "source": [
    "def df_from_results(P,N, sim, DO=[]):\n",
    "    df = pd.DataFrame()\n",
    "    result = pd.DataFrame()\n",
    "    sim = np.array(sim)\n",
    "    loss = ['cost', 'roc', '01']\n",
    "    exps = sim.shape[0]\n",
    "    if len(DO) == 0:\n",
    "        DO = [5] * exps \n",
    "    for i in range(3):\n",
    "        for data in range(exps):\n",
    "            p = P[data]\n",
    "            n = N[data]\n",
    "            do = DO[data]\n",
    "            cov = np.array([p-1]*sim.shape[1],ndmin=2).T\n",
    "            size = np.array([n]*sim.shape[1],ndmin=2).T\n",
    "            r = np.array(range(100),ndmin=2).T\n",
    "            l = np.array([i]*100,ndmin=2).T\n",
    "            num_do = np.array([do]*100,ndmin=2).T\n",
    "            appended = np.hstack((sim[data,:,:,i],cov,size,r,l,num_do))\n",
    "            df = df.append(pd.DataFrame(data=appended, columns= ['AVG', 'SQN', 'SGD', 'ADAGRAD', 'RMSPROP', 'ADADELTA', 'ADMM',\n",
    "                                                                 'logistic','covariates','n', 'range','loss','do']))\n",
    "    df1 = df.loc[df.loss==0]\n",
    "    df1 = df1[['AVG', 'SQN', 'SGD', 'ADAGRAD', 'RMSPROP', 'ADADELTA', 'ADMM']].sub(df1['logistic'], axis=0)\n",
    "    df.loc[df.loss==0, ['AVG', 'SQN', 'SGD', 'ADAGRAD', 'RMSPROP', 'ADADELTA', 'ADMM']] = df1[['AVG', 'SQN', 'SGD', 'ADAGRAD', 'RMSPROP', 'ADADELTA', 'ADMM']]\n",
    "    \n",
    "    df1 = df.loc[df.loss==2]\n",
    "    df.loc[df.loss==2, ['AVG', 'SQN', 'SGD', 'ADAGRAD', 'RMSPROP', 'ADADELTA', 'ADMM']] = df1[['AVG', 'SQN', 'SGD', 'ADAGRAD', 'RMSPROP', 'ADADELTA', \n",
    "                                                                                               'ADMM']].div(df1.logistic, axis=0)\n",
    "    #df.drop(\"logistic\", axis=1,inplace=True)\n",
    "    df = pd.melt(df, id_vars=[\"covariates\",\"n\",'range', 'loss', 'do'])\n",
    "    return df"
   ]
  },
  {
   "cell_type": "code",
   "execution_count": null,
   "metadata": {
    "collapsed": false
   },
   "outputs": [],
   "source": [
    "#Plotting \n",
    "P = [2,3,6,11]\n",
    "P = P + P + P + P\n",
    "N = [10000] * 16\n",
    "DO = np.sort(RepoSize * 4)\n",
    "df = df_from_results(P,N, allnResults0, DO=DO)\n",
    "\n",
    "name, n, loss = 'allpnResults0', 1000, 0\n",
    "ax = plot_pn(df[(df.n==n) & (df.loss==loss)& (df.variable!='logistic')],'Cost Function Difference',[-0.005,.03])\n",
    "ax.savefig(figSaveFile+\"p_\"+name+\"_\"+str(n)+\"_\"+str(loss)+\".png\")"
   ]
  },
  {
   "cell_type": "code",
   "execution_count": null,
   "metadata": {
    "collapsed": false
   },
   "outputs": [],
   "source": [
    "np.sort(RepoSize * 4)"
   ]
  },
  {
   "cell_type": "code",
   "execution_count": null,
   "metadata": {
    "collapsed": false
   },
   "outputs": [],
   "source": [
    "a = np.array([5]*100,ndmin=2).T\n",
    "print a.shape"
   ]
  },
  {
   "cell_type": "code",
   "execution_count": null,
   "metadata": {
    "collapsed": true
   },
   "outputs": [],
   "source": [
    "df = pd.DataFrame()\n",
    "allpnResults1 = np.array(allnResults05)\n",
    "P = [2,3,6,11]\n",
    "P = P + P + P + P \n",
    "N = np.repeat(RepoSize,4)\n",
    "\n",
    "for data in range(16):\n",
    "    p = P[data]\n",
    "    n = N[data]\n",
    "    cov = np.array([p]*allpnResults1.shape[1])\n",
    "    cov.shape = (100,1)\n",
    "    size = np.array([n]*allpnResults1.shape[1])\n",
    "    size.shape = (100,1)\n",
    "    appended = np.hstack((allpnResults1[data],cov,size))\n",
    "    df = df.append(pd.DataFrame(data=appended, columns= ['AVG', 'SQN', 'SGD', 'ADAGRAD', 'RMSPROP', 'ADADELTA', 'ADMM','logistic','covariates','n']))\n",
    "df1 = df[['AVG', 'SQN', 'SGD', 'ADAGRAD', 'RMSPROP', 'ADADELTA', 'ADMM']].sub(df['logistic'], axis=0)\n",
    "df[['AVG', 'SQN', 'SGD', 'ADAGRAD', 'RMSPROP', 'ADADELTA', 'ADMM']] = df1\n",
    "df.drop(\"logistic\", axis=1,inplace=True)\n",
    "df = pd.melt(df, id_vars=[\"covariates\",\"n\"])"
   ]
  },
  {
   "cell_type": "code",
   "execution_count": null,
   "metadata": {
    "collapsed": false,
    "scrolled": true
   },
   "outputs": [],
   "source": [
    "ax = sns.factorplot(x=\"n\", y=\"value\", hue=\"variable\", \n",
    "               data=df[(df.covariates==2)],\n",
    "               palette=colors, legend=True)\n",
    "ax.despine(left=True)\n",
    "#plt.legend(loc='right')\n",
    "ax.set(xlabel=\"# of DO's\", ylabel='Cross-entropy difference')\n",
    "ax.savefig(figSaveFile+\"repos_p2_type05_size_10000.png\")"
   ]
  },
  {
   "cell_type": "code",
   "execution_count": null,
   "metadata": {
    "collapsed": false
   },
   "outputs": [],
   "source": [
    "%%cache allnResults05_1000.pkl allnResults05_1000\n",
    "s = \"repo5exp\"\n",
    "seed = int(''.join(str(ord(c)) for c in s))%4294967295\n",
    "reps = 100\n",
    "allnResults05_1000 = []\n",
    "Ps = [1,2,5,10]\n",
    "RepoSize = [3,5,7,9]\n",
    "nnum = 1000\n",
    "bs = 20\n",
    "hs = 50\n",
    "p = Pool(4)\n",
    "inputs=range(1,reps+1)\n",
    "\n",
    "\n",
    "t0 = time()\n",
    "for i in xrange(len(RepoSize)):\n",
    "    for pnum in Ps:\n",
    "        s = RepoSize[i]\n",
    "        print s, '\\n'\n",
    "        tstart = time()\n",
    "        f = lambda x: offline(1000,x[2]+1,x[1],0.5, x[3], x[4],x[0])\n",
    "        keywords = zip([j*hs*RepoSize[i]*pnum*seed for j in inputs],[s]*reps, \n",
    "                       [pnum]*reps, [bs]*reps, [hs]*reps)\n",
    "        results=p.map(f, keywords)\n",
    "        allnResults05_1000.append(results)\n",
    "        tend = time()\n",
    "        print tend-tstart, '\\n'\n",
    "        sys.stdout.flush()\n",
    "print time()-t0"
   ]
  },
  {
   "cell_type": "code",
   "execution_count": null,
   "metadata": {
    "collapsed": false
   },
   "outputs": [],
   "source": [
    "df = pd.DataFrame()\n",
    "allpnResults1 = np.array(allnResults05_1000)\n",
    "P = [2,3,6,11]\n",
    "P = P + P + P + P \n",
    "N = np.repeat(RepoSize,4)\n",
    "\n",
    "for data in range(16):\n",
    "    p = P[data]\n",
    "    n = N[data]\n",
    "    cov = np.array([p]*allpnResults1.shape[1])\n",
    "    cov.shape = (100,1)\n",
    "    size = np.array([n]*allpnResults1.shape[1])\n",
    "    size.shape = (100,1)\n",
    "    appended = np.hstack((allpnResults1[data],cov,size))\n",
    "    df = df.append(pd.DataFrame(data=appended, columns= ['AVG', 'SQN', 'SGD', 'ADAGRAD', 'RMSPROP', 'ADADELTA', 'ADMM','logistic','covariates','n']))\n",
    "df1 = df[['AVG', 'SQN', 'SGD', 'ADAGRAD', 'RMSPROP', 'ADADELTA', 'ADMM']].sub(df['logistic'], axis=0)\n",
    "df[['AVG', 'SQN', 'SGD', 'ADAGRAD', 'RMSPROP', 'ADADELTA', 'ADMM']] = df1\n",
    "df.drop(\"logistic\", axis=1,inplace=True)\n",
    "df = pd.melt(df, id_vars=[\"covariates\",\"n\"])"
   ]
  },
  {
   "cell_type": "code",
   "execution_count": null,
   "metadata": {
    "collapsed": false
   },
   "outputs": [],
   "source": [
    "ax = sns.factorplot(x=\"n\", y=\"value\", hue=\"variable\", \n",
    "               data=df[(df.covariates==2)],\n",
    "               palette=colors, legend=True)\n",
    "ax.despine(left=True)\n",
    "#plt.legend(loc='right')\n",
    "ax.set(xlabel=\"# of DO's\", ylabel='Cross-entropy difference')\n",
    "ax.savefig(figSaveFile+\"repos_p2_type05_size_1000.png\")"
   ]
  },
  {
   "cell_type": "markdown",
   "metadata": {},
   "source": [
    "# Extreme cases"
   ]
  },
  {
   "cell_type": "code",
   "execution_count": null,
   "metadata": {
    "collapsed": false,
    "scrolled": true
   },
   "outputs": [],
   "source": [
    "%%cache allpnResults0_100.pkl allpnResults0_100\n",
    "s = \"PNexp0100\"\n",
    "seed = int(''.join(str(ord(c)) for c in s))%4294967295\n",
    "reps = 100\n",
    "allpnResults0_100 = []\n",
    "Ps = [1,2,5,10]\n",
    "Ns = [100]\n",
    "bs = [5]\n",
    "hs = [10]\n",
    "p = Pool(4)\n",
    "inputs=range(1,reps+1)\n",
    "\n",
    "\n",
    "t0 = time()\n",
    "for i in xrange(2):\n",
    "    for pnum in Ps:\n",
    "        nnum= Ns[i]\n",
    "        print pnum, '\\n'\n",
    "        tstart = time()\n",
    "        f = lambda x: offline(x[1],x[2]+1,5,0.0, x[3], x[4],x[0])\n",
    "        keywords = zip([j*hs[i]*nnum*seed for j in inputs],[nnum]*reps, \n",
    "                       [pnum]*reps, [bs[i]]*reps, [hs[i]]*reps)\n",
    "        results=p.map(f, keywords)\n",
    "        allpnResults0_100.append(results)\n",
    "        tend = time()\n",
    "        print tend-tstart, '\\n'\n",
    "        sys.stdout.flush()\n",
    "print time()-t0"
   ]
  },
  {
   "cell_type": "code",
   "execution_count": null,
   "metadata": {
    "collapsed": false
   },
   "outputs": [],
   "source": [
    "df = pd.DataFrame()\n",
    "allpnResults05 = np.array(allpnResults0_100)\n",
    "P = [2,3,6,11]\n",
    "P = P \n",
    "N = [100] * 4 \n",
    "\n",
    "for data in range(4):\n",
    "    p = P[data]\n",
    "    n = N[data]\n",
    "    cov = np.array([p]*allpnResults05.shape[1])\n",
    "    cov.shape = (100,1)\n",
    "    size = np.array([n]*allpnResults05.shape[1])\n",
    "    size.shape = (100,1)\n",
    "    appended = np.hstack((allpnResults05[data],cov,size))\n",
    "    df = df.append(pd.DataFrame(data=appended, columns= ['AVG', 'SQN', 'SGD', 'ADAGRAD', 'RMSPROP', 'ADADELTA', 'ADMM','logistic','covariates','n']))\n",
    "df1 = df[['AVG', 'SQN', 'SGD', 'ADAGRAD', 'RMSPROP', 'ADADELTA', 'ADMM']].sub(df['logistic'], axis=0)\n",
    "df[['AVG', 'SQN', 'SGD', 'ADAGRAD', 'RMSPROP', 'ADADELTA', 'ADMM']] = df1\n",
    "df.drop(\"logistic\", axis=1,inplace=True)\n",
    "df = pd.melt(df, id_vars=[\"covariates\",\"n\"])"
   ]
  },
  {
   "cell_type": "code",
   "execution_count": null,
   "metadata": {
    "collapsed": false
   },
   "outputs": [],
   "source": [
    "ax = sns.factorplot(x=\"covariates\", y=\"value\", hue=\"variable\", data=df[(df.variable!=\"AVG\") & (df.n==100)]\n",
    "               ,palette=colors[1:], legend=False)\n",
    "ax.despine(left=True)\n",
    "plt.legend(loc='upper left')\n",
    "ax.set(xlabel='# of covariates', ylabel='Cross-entropy difference')\n",
    "#ax.savefig(figSaveFile+\"p0_1000.png\")"
   ]
  },
  {
   "cell_type": "markdown",
   "metadata": {},
   "source": [
    "# Linear Regression"
   ]
  },
  {
   "cell_type": "code",
   "execution_count": null,
   "metadata": {
    "collapsed": true
   },
   "outputs": [],
   "source": [
    "totDOs = 5\n",
    "def offlineLasso(totCount, p, totDOs,f, bs, hs,x,logistic=False): # f is for fraction of categorical covariates \n",
    "    np.random.seed(1235641343*x%4294967295)\n",
    "    dim = p - 1\n",
    "    beta = np.random.normal(0,1,p)\n",
    "    #beta[0] = 0\n",
    "    DOs = []\n",
    "    num = None\n",
    "    # check that no DO gets less than 10% of the data \n",
    "    while (num == None or any(num < totCount/10.0)):\n",
    "        num = np.random.poisson(totCount/float(totDOs), totDOs-1)\n",
    "        num = np.append(num,totCount - sum(num))\n",
    "        center = DataCenter(dim)\n",
    "    for i,n in enumerate(num):\n",
    "        DOs.append(DataRepo(n, 'm', dim, beta, center, f))\n",
    "        #center.add_repo(DOs[i])\n",
    "    \n",
    "    betaL,cost = all_logistic(center, False)\n",
    "    betas = np.zeros((7,betaL.shape[0]))\n",
    "    #pdb.set_trace()\n",
    "    betas[0,:] = center.avgLinearReg()     # averaging \n",
    "    betas[1,:] = center.SQN(50,10,.05,bs,hs, max_iters=1000)   #SQN beta\n",
    "    betas[2,:] = center.batch_SGD(bs,0.0001, max_iters=1000, step=0.1, logistic=False)[0]      # simple sgd \n",
    "    betas[3,:] = center.batch_SGD(bs,0.0001, max_iters=1000, adagrad=1, step=0.1, logistic=False)[0]    #adagrad \n",
    "    betas[4,:] = center.batch_SGD(bs,0.0001, max_iters=1000, adagrad=2, step=0.01,logistic=False)[0]     #rms prop \n",
    "    betas[5,:] = center.batch_SGD(bs,0.0001, max_iters=1000, adagrad=3, step=0.1,logistic=False)[0]     #adadelta \n",
    "    betas[6,:] = center.ADMM(1.0, max_iters=1000,logistic=False)    # admm \n",
    "    print betas\n",
    "    print betaL\n",
    "    print beta\n",
    "    costs = np.zeros(7)\n",
    "    for i in xrange(7):\n",
    "        costs[i] = center.evaluate(betas[i,:], logistic=False)\n",
    "    return np.append(costs,cost)\n",
    "\n"
   ]
  },
  {
   "cell_type": "code",
   "execution_count": null,
   "metadata": {
    "collapsed": false
   },
   "outputs": [],
   "source": [
    "offlineLasso(1000, 5, totDOs,1.0, 20, 50,123)"
   ]
  }
 ],
 "metadata": {
  "kernelspec": {
   "display_name": "Python 2",
   "language": "python",
   "name": "python2"
  },
  "language_info": {
   "codemirror_mode": {
    "name": "ipython",
    "version": 2
   },
   "file_extension": ".py",
   "mimetype": "text/x-python",
   "name": "python",
   "nbconvert_exporter": "python",
   "pygments_lexer": "ipython2",
   "version": "2.7.13"
  }
 },
 "nbformat": 4,
 "nbformat_minor": 0
}
