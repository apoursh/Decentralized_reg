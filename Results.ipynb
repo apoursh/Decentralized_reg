{
 "cells": [
  {
   "cell_type": "code",
   "execution_count": 1,
   "metadata": {
    "collapsed": false
   },
   "outputs": [
    {
     "name": "stderr",
     "output_type": "stream",
     "text": [
      "/Users/armin/miniconda/lib/python2.7/site-packages/IPython/config.py:13: ShimWarning: The `IPython.config` package has been deprecated. You should import from traitlets.config instead.\n",
      "  \"You should import from traitlets.config instead.\", ShimWarning)\n",
      "/Users/armin/miniconda/lib/python2.7/site-packages/IPython/utils/traitlets.py:5: UserWarning: IPython.utils.traitlets has moved to a top-level traitlets package.\n",
      "  warn(\"IPython.utils.traitlets has moved to a top-level traitlets package.\")\n"
     ]
    }
   ],
   "source": [
    "%load_ext ipycache"
   ]
  },
  {
   "cell_type": "code",
   "execution_count": 2,
   "metadata": {
    "collapsed": false
   },
   "outputs": [],
   "source": [
    "# utility libraries\n",
    "import numpy as np\n",
    "from utils import *\n",
    "from sklearn.linear_model import LogisticRegression\n",
    "import pandas as pd\n",
    "import pdb\n",
    "import imp \n",
    "import time \n",
    "from sklearn.linear_model import LogisticRegression\n",
    "from time import time\n",
    "#parallelizing \n",
    "from joblib import Parallel, delayed\n",
    "from pathos import multiprocessing \n",
    "from pathos.multiprocessing import Pool\n",
    "import warnings\n",
    "warnings.filterwarnings('ignore')\n",
    "import sys"
   ]
  },
  {
   "cell_type": "code",
   "execution_count": 3,
   "metadata": {
    "collapsed": false
   },
   "outputs": [],
   "source": [
    "# Plotting libraries\n",
    "%matplotlib inline\n",
    "import seaborn as sns\n",
    "import matplotlib.pyplot as plt\n",
    "import matplotlib.patches\n",
    "colors = np.array([\"#9b59b6\", \"#3498db\", \"#95a5a6\", \"#e74c3c\", \"#34495e\", \"#2ecc71\",\"#650021\"])\n",
    "figSaveFile = \"fig/\"\n",
    "sns.set_style(\"whitegrid\", {'axes.grid' : False})\n",
    "sns.set_style(\"ticks\")\n",
    "\n",
    "\n",
    "red = (0.7686274509803922, 0.3058823529411765, 0.3215686274509804)\n",
    "blue = (0.2980392156862745, 0.4470588235294118, 0.6901960784313725)\n",
    "green = (0.3333333333333333, 0.6588235294117647, 0.40784313725490196)\n",
    "orange = (0.8, 0.7254901960784313, 0.4549019607843137)"
   ]
  },
  {
   "cell_type": "markdown",
   "metadata": {},
   "source": [
    "# Offline"
   ]
  },
  {
   "cell_type": "code",
   "execution_count": 4,
   "metadata": {
    "collapsed": false
   },
   "outputs": [],
   "source": [
    "totDOs = 5\n",
    "def offline(totCount, p, totDOs,f, bs, hs,x, eta): # f is for fraction of categorical covariates \n",
    "    np.random.seed(1235641343*x%4294967295)\n",
    "    dim = p - 1\n",
    "    beta = np.random.normal(0,1,p)\n",
    "    #beta[0] = 0\n",
    "    DOs = []\n",
    "    num = None\n",
    "    # check that no DO gets less than 10% of the data \n",
    "    while (num == None or any(num < totCount/10.0)):\n",
    "        num = np.random.poisson(totCount/float(totDOs), totDOs-1)\n",
    "        num = np.append(num,totCount - sum(num))\n",
    "        center = DataCenter(dim)\n",
    "    #pdb.set_trace()\n",
    "    for i,n in enumerate(num):\n",
    "        DOs.append(DataRepo(n, 'm', dim, beta, center, f))\n",
    "        #center.add_repo(DOs[i])\n",
    "    center.count_data()\n",
    "    center.scale()\n",
    "    betaL,cost,roc, zeroone = all_logistic(center)\n",
    "    betas = np.zeros((8,betaL.shape[0]))\n",
    "    \n",
    "    #betas[0,:] = center.avgLogistic()     # averaging \n",
    "    betas[1,:] = center.SQN(50,10,eta,bs,hs, max_iters=1000)   #SQN beta\n",
    "    betas[2,:] = center.batch_SGD(bs,0.0001, max_iters=1000, step=eta)[0]      # simple sgd \n",
    "    betas[3,:] = center.batch_SGD(bs,0.0001, max_iters=1000, adagrad=1, step=eta)[0]    #adagrad \n",
    "    betas[4,:] = center.batch_SGD(bs,0.0001, max_iters=1000, adagrad=2, step=eta)[0]     #rms prop \n",
    "    betas[5,:] = center.batch_SGD(bs,0.0001, max_iters=1000, adagrad=3, step=eta)[0]     #adadelta \n",
    "    #betas[6,:] = center.ADMM(1.0, max_iters=1000)    # admm \n",
    "    costs = np.zeros((8,3))\n",
    "    for i in xrange(7):\n",
    "        costs[i,:] = center.evaluate(betas[i,:])\n",
    "    costs[7,:] = cost, roc, zeroone\n",
    "    return costs"
   ]
  },
  {
   "cell_type": "markdown",
   "metadata": {},
   "source": [
    "## Find optimal stepsize "
   ]
  },
  {
   "cell_type": "code",
   "execution_count": 13,
   "metadata": {
    "collapsed": false
   },
   "outputs": [
    {
     "name": "stdout",
     "output_type": "stream",
     "text": [
      "[Skipped the cell's code and loaded variables stepsizeData from file '/Users/armin/Documents/Bust_lab/online-regression/logstepsize.pkl'.]\n",
      "97.6534969807 \n",
      "\n",
      "109.112724066 \n",
      "\n",
      "108.251772881 \n",
      "\n",
      "111.292831898 \n",
      "\n",
      "104.868330002 \n",
      "\n",
      "114.977406979 \n",
      "\n",
      "114.065120935 \n",
      "\n",
      "127.830456972 \n",
      "\n",
      "270.188333035 \n",
      "\n",
      "316.65210104 \n",
      "\n",
      "382.199267149 \n",
      "\n",
      "290.478121996 \n",
      "\n",
      "293.081700087 \n",
      "\n",
      "286.233651876 \n",
      "\n",
      "283.60848093 \n",
      "\n",
      "283.256788969 \n",
      "\n",
      "3293.75161505\n"
     ]
    }
   ],
   "source": [
    "%%cache logstepsize.pkl stepsizeData \n",
    "etas = [0.01,0.05,0.1,0.5,1.0,5.0,10.0,50.0]\n",
    "s = \"step\"\n",
    "seed = int(''.join(str(ord(c)) for c in s))%4294967295\n",
    "reps = 100\n",
    "stepsizeData = []\n",
    "Ns = [1000, 10000]\n",
    "bs = [20,50]\n",
    "hs = [50,500]\n",
    "pnum = 5\n",
    "p = Pool(4)\n",
    "inputs=range(1,reps+1)\n",
    "\n",
    "\n",
    "t0 = time()\n",
    "for i in xrange(2):\n",
    "    for eta in etas:\n",
    "        nnum= Ns[i]\n",
    "        tstart = time()\n",
    "        f = lambda x: offline(x[1],x[2]+1,5,0, x[3], x[4],x[0],x[5])\n",
    "        keywords = zip([j*hs[i]*nnum*seed for j in inputs],[nnum]*reps, \n",
    "                       [pnum]*reps, [bs[i]]*reps, [hs[i]]*reps,[eta]*reps)\n",
    "        results=p.map(f, keywords)\n",
    "        stepsizeData.append(results)\n",
    "        tend = time()\n",
    "        print tend-tstart, '\\n'\n",
    "        sys.stdout.flush()\n",
    "print time()-t0"
   ]
  },
  {
   "cell_type": "code",
   "execution_count": 17,
   "metadata": {
    "collapsed": false
   },
   "outputs": [
    {
     "name": "stdout",
     "output_type": "stream",
     "text": [
      "19.9515910149 \n",
      "\n",
      "58.7902269363 \n",
      "\n",
      "78.7447929382\n"
     ]
    }
   ],
   "source": [
    "totDOs = 5\n",
    "def offline(totCount, p, totDOs,f, bs, hs,x, eta): # f is for fraction of categorical covariates \n",
    "    np.random.seed(1235641343*x%4294967295)\n",
    "    dim = p - 1\n",
    "    beta = np.random.normal(0,1,p)\n",
    "    #beta[0] = 0\n",
    "    DOs = []\n",
    "    num = None\n",
    "    # check that no DO gets less than 10% of the data \n",
    "    while (num == None or any(num < totCount/10.0)):\n",
    "        num = np.random.poisson(totCount/float(totDOs), totDOs-1)\n",
    "        num = np.append(num,totCount - sum(num))\n",
    "        center = DataCenter(dim)\n",
    "    #pdb.set_trace()\n",
    "    for i,n in enumerate(num):\n",
    "        DOs.append(DataRepo(n, 'm', dim, beta, center, f))\n",
    "        #center.add_repo(DOs[i])\n",
    "    center.count_data()\n",
    "    center.scale()\n",
    "    betaL,cost,roc, zeroone = all_logistic(center)\n",
    "    betas = np.zeros((8,betaL.shape[0]))\n",
    "    \n",
    "    #betas[0,:] = center.avgLogistic()     # averaging \n",
    "    #betas[1,:] = center.SQN(50,10,eta,bs,hs, max_iters=1000)   #SQN beta\n",
    "    betas[2,:] = center.batch_SGD(bs,0.0001, max_iters=1000, step=eta)[0]      # simple sgd \n",
    "    #betas[3,:] = center.batch_SGD(bs,0.0001, max_iters=1000, adagrad=1, step=eta)[0]    #adagrad \n",
    "    #betas[4,:] = center.batch_SGD(bs,0.0001, max_iters=1000, adagrad=2, step=eta)[0]     #rms prop \n",
    "    #betas[5,:] = center.batch_SGD(bs,0.0001, max_iters=1000, adagrad=3, step=eta)[0]     #adadelta \n",
    "    #betas[6,:] = center.ADMM(1.0, max_iters=1000)    # admm \n",
    "    costs = np.zeros((8,3))\n",
    "    for i in xrange(7):\n",
    "        costs[i,:] = center.evaluate(betas[i,:])\n",
    "    costs[7,:] = cost, roc, zeroone\n",
    "    return costs\n",
    "\n",
    "etas = [500.0]\n",
    "s = \"step\"\n",
    "seed = int(''.join(str(ord(c)) for c in s))%4294967295\n",
    "reps = 100\n",
    "stepsizeData = []\n",
    "Ns = [1000, 10000]\n",
    "bs = [20,50]\n",
    "hs = [50,500]\n",
    "pnum = 5\n",
    "p = Pool(4)\n",
    "inputs=range(1,reps+1)\n",
    "\n",
    "\n",
    "t0 = time()\n",
    "for i in xrange(2):\n",
    "    for eta in etas:\n",
    "        nnum= Ns[i]\n",
    "        tstart = time()\n",
    "        f = lambda x: offline(x[1],x[2]+1,5,0, x[3], x[4],x[0],x[5])\n",
    "        keywords = zip([j*hs[i]*nnum*seed for j in inputs],[nnum]*reps, \n",
    "                       [pnum]*reps, [bs[i]]*reps, [hs[i]]*reps,[eta]*reps)\n",
    "        results=p.map(f, keywords)\n",
    "        stepsizeData.append(results)\n",
    "        tend = time()\n",
    "        print tend-tstart, '\\n'\n",
    "        sys.stdout.flush()\n",
    "print time()-t0"
   ]
  },
  {
   "cell_type": "code",
   "execution_count": 7,
   "metadata": {
    "collapsed": false
   },
   "outputs": [
    {
     "name": "stdout",
     "output_type": "stream",
     "text": [
      "[Skipped the cell's code and loaded variables stepsizeDataDisc from file '/Users/armin/Documents/Bust_lab/online-regression/logstepsizeDisc.pkl'.]\n",
      "116.686022997 \n",
      "\n",
      "121.674641848 \n",
      "\n",
      "123.607039213 \n",
      "\n",
      "126.374697208 \n",
      "\n",
      "126.766945839 \n",
      "\n",
      "130.790445089 \n",
      "\n",
      "128.65180397 \n",
      "\n",
      "128.910499096 \n",
      "\n",
      "385.213598013 \n",
      "\n",
      "582.698642015 \n",
      "\n",
      "490.532464981 \n",
      "\n",
      "442.475939035 \n",
      "\n",
      "369.693402052 \n",
      "\n",
      "367.882862091 \n",
      "\n",
      "397.226830006 \n",
      "\n",
      "363.529162884 \n",
      "\n",
      "4402.7176342\n"
     ]
    }
   ],
   "source": [
    "%%cache logstepsizeDisc.pkl stepsizeDataDisc \n",
    "etas = [0.01,0.05,0.1,0.5,1.0,5.0,10.0,50.0]\n",
    "s = \"step\"\n",
    "seed = int(''.join(str(ord(c)) for c in s))%4294967295\n",
    "reps = 100\n",
    "stepsizeDataDisc = []\n",
    "Ns = [1000, 10000]\n",
    "bs = [20,50]\n",
    "hs = [50,500]\n",
    "pnum = 5\n",
    "p = Pool(4)\n",
    "inputs=range(1,reps+1)\n",
    "\n",
    "\n",
    "t0 = time()\n",
    "for i in xrange(2):\n",
    "    for eta in etas:\n",
    "        nnum= Ns[i]\n",
    "        tstart = time()\n",
    "        f = lambda x: offline(x[1],x[2]+1,5,1.0, x[3], x[4],x[0],x[5])\n",
    "        keywords = zip([j*hs[i]*nnum*seed for j in inputs],[nnum]*reps, \n",
    "                       [pnum]*reps, [bs[i]]*reps, [hs[i]]*reps,[eta]*reps)\n",
    "        results=p.map(f, keywords)\n",
    "        stepsizeDataDisc.append(results)\n",
    "        tend = time()\n",
    "        print tend-tstart, '\\n'\n",
    "        sys.stdout.flush()\n",
    "print time()-t0"
   ]
  },
  {
   "cell_type": "code",
   "execution_count": null,
   "metadata": {
    "collapsed": false
   },
   "outputs": [],
   "source": [
    " [0.01,0.05,0.1,0.5,1.0,5.0,10.0,50.0]"
   ]
  },
  {
   "cell_type": "code",
   "execution_count": 18,
   "metadata": {
    "collapsed": false
   },
   "outputs": [
    {
     "name": "stdout",
     "output_type": "stream",
     "text": [
      "[[ 0.69314718  0.21921477  0.69314718  0.69314718  0.69314718]\n",
      " [ 0.69314718  0.22752432  0.69314718  0.69314718  0.69314718]]\n"
     ]
    }
   ],
   "source": [
    "print np.mean(np.array(stepsizeData)[:,:,1:6,0], axis = 1)"
   ]
  },
  {
   "cell_type": "code",
   "execution_count": 14,
   "metadata": {
    "collapsed": false
   },
   "outputs": [
    {
     "name": "stdout",
     "output_type": "stream",
     "text": [
      "[[ 0.1751432   0.69153351  0.60545587  0.26213745  0.2807262 ]\n",
      " [ 0.17562835  0.66832616  0.43665855  0.17995562  0.19396893]\n",
      " [ 0.1764889   0.64800721  0.34819822  0.17673431  0.18356608]\n",
      " [        nan  0.54712726  0.20871505  0.18162994  0.1800123 ]\n",
      " [        nan  0.47813114  0.18670704  0.19297932  0.18759572]\n",
      " [        nan  0.31673717  0.17701856  0.36027282  0.34463672]\n",
      " [        nan  0.26594875  0.17876914  0.64680372  0.60690839]\n",
      " [        nan  0.19703917  0.20321316  2.45899556  2.26702278]\n",
      " [ 0.18774923  0.6915361   0.60704556  0.27359324  0.29086174]\n",
      " [ 0.18788819  0.66879958  0.44414641  0.19135598  0.20557682]\n",
      " [ 0.18825376  0.64909496  0.35846736  0.1887368   0.19547048]\n",
      " [ 0.19262763  0.54977636  0.22147019  0.19268724  0.19159004]\n",
      " [        nan  0.48195293  0.19935843  0.20149371  0.19807725]\n",
      " [        nan  0.32432106  0.18909543  0.36929745  0.34412005]\n",
      " [        nan  0.27506277  0.18994697  0.64311351  0.61581583]\n",
      " [        nan  0.20870838  0.20381799  2.52571669  2.26326716]]\n"
     ]
    }
   ],
   "source": [
    "print np.mean(np.array(stepsizeData)[:,:,1:6,0], axis = 1)"
   ]
  },
  {
   "cell_type": "code",
   "execution_count": 8,
   "metadata": {
    "collapsed": false
   },
   "outputs": [
    {
     "name": "stdout",
     "output_type": "stream",
     "text": [
      "[[  0.56269051   1.13689836   1.10465258   0.65014071   0.66879127]\n",
      " [  0.56377114   1.06123412   0.8345427    0.57083925   0.5838754 ]\n",
      " [  0.56547047   1.03709993   0.73771623   0.57075364   0.5766323 ]\n",
      " [         nan   0.93467051   0.59713647   0.62637695   0.61238342]\n",
      " [         nan   0.86566548   0.57611389   0.7397652    0.71225874]\n",
      " [         nan   0.70477223   0.57446285   2.33731769   2.09727909]\n",
      " [         nan   0.65471672   0.58841142   4.16374243   4.00134946]\n",
      " [         nan   0.59879196   0.9171754    9.6506857    9.32979626]\n",
      " [  0.59356663   1.14910208   1.109169     0.67974218   0.69697279]\n",
      " [  0.59396091   1.07843172   0.85635021   0.59927331   0.61329296]\n",
      " [  0.59466416   1.05571461   0.7651096    0.59942923   0.60544556]\n",
      " [         nan   0.95558098   0.62786169   0.6406167    0.64012176]\n",
      " [         nan   0.88776789   0.60640138   0.73131914   0.73440969]\n",
      " [         nan   0.73031821   0.60182746   2.15796169   2.08921012]\n",
      " [         nan   0.68130525   0.61122061   4.03876923   3.96690889]\n",
      " [         nan   0.61744751   0.87141866  10.16855498   9.66376952]]\n"
     ]
    }
   ],
   "source": [
    "print np.mean(np.array(stepsizeDataDisc)[:,:,1:6,0], axis = 1) + np.mean(np.array(stepsizeData)[:,:,1:6,0], axis = 1)"
   ]
  },
  {
   "cell_type": "markdown",
   "metadata": {},
   "source": [
    "## best parameters are: sqn sgd ada rms adadelta\n",
    "Observations:\n",
    "* Regular SGD is highly sensitive the rest are not very sensitive \n",
    "Step-sizes \n",
    ".01,10,5,.05,.1"
   ]
  },
  {
   "cell_type": "code",
   "execution_count": 29,
   "metadata": {
    "collapsed": true
   },
   "outputs": [],
   "source": [
    "totDOs = 5\n",
    "def offline(totCount, p, totDOs,f, bs, hs,x): # f is for fraction of categorical covariates \n",
    "    np.random.seed(1235641343*x%4294967295)\n",
    "    dim = p - 1\n",
    "    beta = np.random.normal(0,1,p)\n",
    "    #beta[0] = 0\n",
    "    DOs = []\n",
    "    num = None\n",
    "    # check that no DO gets less than 10% of the data \n",
    "    while (num == None or any(num < totCount/10.0)):\n",
    "        num = np.random.poisson(totCount/float(totDOs), totDOs-1)\n",
    "        num = np.append(num,totCount - sum(num))\n",
    "        center = DataCenter(dim)\n",
    "    #pdb.set_trace()\n",
    "    for i,n in enumerate(num):\n",
    "        DOs.append(DataRepo(n, 'm', dim, beta, center, f))\n",
    "        #center.add_repo(DOs[i])\n",
    "    center.count_data()\n",
    "    center.scale()\n",
    "    betaL,cost,roc, zeroone = all_logistic(center)\n",
    "    betas = np.zeros((7,betaL.shape[0]))\n",
    "    \n",
    "    betas[0,:] = center.avgLogistic()     # averaging \n",
    "    betas[1,:] = center.SQN(50,10,.01,bs,hs, max_iters=1000)   #SQN beta\n",
    "    betas[2,:] = center.batch_SGD(bs,0.0001, max_iters=1000, step=200.0)[0]      # simple sgd \n",
    "    betas[3,:] = center.batch_SGD(bs,0.0001, max_iters=1000, adagrad=1, step=5.0)[0]    #adagrad \n",
    "    betas[4,:] = center.batch_SGD(bs,0.0001, max_iters=1000, adagrad=2, step=0.05)[0]     #rms prop \n",
    "    betas[5,:] = center.batch_SGD(bs,0.0001, max_iters=1000, adagrad=3, step=.1)[0]     #adadelta \n",
    "    betas[6,:] = center.ADMM(1.0, max_iters=1000)    # admm \n",
    "    costs = np.zeros((8,3))\n",
    "    for i in xrange(7):\n",
    "        costs[i,:] = center.evaluate(betas[i,:])\n",
    "    costs[7,:] = cost, roc, zeroone\n",
    "    return costs"
   ]
  },
  {
   "cell_type": "code",
   "execution_count": null,
   "metadata": {
    "collapsed": false
   },
   "outputs": [],
   "source": [
    "df = pd.DataFrame(data=stepsizeData[7], columns= ['AVG', 'SQN', 'SGD', 'ADAGRAD', 'RMSPROP', 'ADADELTA', 'ADMM','logistic'])\n",
    "df = pd.DataFrame(data=df.subtract(df.logistic,axis=0), columns= ['AVG', 'SQN', 'SGD', 'ADAGRAD', 'RMSPROP', 'ADADELTA', 'ADMM'])\n",
    "ax = sns.boxplot(data=df, palette=\"PRGn\")\n",
    "ax.set(xlabel='Algorithms', ylabel='cross-entropy (centered)')\n",
    "sns.despine(offset=10, trim=True)\n",
    "plt.show()"
   ]
  },
  {
   "cell_type": "code",
   "execution_count": null,
   "metadata": {
    "collapsed": false,
    "scrolled": true
   },
   "outputs": [],
   "source": [
    "offline(1000, 6, totDOs,0.0, 20, 50,311313,50.0)"
   ]
  },
  {
   "cell_type": "code",
   "execution_count": null,
   "metadata": {
    "collapsed": false,
    "scrolled": true
   },
   "outputs": [],
   "source": [
    "df = pd.DataFrame(data=results, columns= ['AVG', 'SQN', 'SGD', 'ADAGRAD', 'RMSPROP', 'ADADELTA', 'ADMM','logistic'])\n",
    "df = pd.DataFrame(data=df.subtract(df.logistic,axis=0), columns= ['AVG', 'SQN', 'SGD', 'ADAGRAD', 'RMSPROP', 'ADADELTA', 'ADMM'])\n",
    "ax = sns.boxplot(data=df, palette=\"PRGn\")\n",
    "ax.set(xlabel='Algorithms', ylabel='cross-entropy (centered)')\n",
    "sns.despine(offset=10, trim=True)\n",
    "plt.show()"
   ]
  },
  {
   "cell_type": "code",
   "execution_count": null,
   "metadata": {
    "collapsed": false
   },
   "outputs": [],
   "source": [
    "df = pd.DataFrame(data=df[['AVG','ADMM']], columns= ['AVG', 'ADMM'])\n",
    "ax = sns.boxplot(data=df, palette=\"PRGn\")\n",
    "ax.set(xlabel='Algorithms', ylabel='cross-entropy (centered)')\n",
    "sns.despine(offset=10, trim=True)\n",
    "plt.show()"
   ]
  },
  {
   "cell_type": "code",
   "execution_count": null,
   "metadata": {
    "collapsed": false
   },
   "outputs": [],
   "source": [
    "np.random.seed(45141241)\n",
    "repeats = 100\n",
    "C1 = np.empty((repeats,8))\n",
    "tstart = time()\n",
    "for i in range(repeats):\n",
    "    C1[i,:] = offline(10000,5,2,1,50,500)\n",
    "tend = time()\n",
    "print tend-tstart"
   ]
  },
  {
   "cell_type": "code",
   "execution_count": null,
   "metadata": {
    "collapsed": false
   },
   "outputs": [],
   "source": [
    "df = pd.DataFrame(data=C1, columns= ['AVG', 'SQN', 'SGD', 'ADAGRAD', 'RMSPROP', 'ADADELTA', 'ADMM','logistic'])\n",
    "df = pd.DataFrame(data=df.subtract(df.logistic,axis=0), columns= ['AVG', 'SQN', 'SGD', 'ADAGRAD', 'RMSPROP', 'ADADELTA', 'ADMM'])\n",
    "ax = sns.boxplot(data=df, palette=\"PRGn\")\n",
    "ax.set(xlabel='Algorithms', ylabel='cross-entropy (centered)')\n",
    "sns.despine(offset=10, trim=True)\n",
    "plt.show()"
   ]
  },
  {
   "cell_type": "code",
   "execution_count": null,
   "metadata": {
    "collapsed": false
   },
   "outputs": [],
   "source": [
    "df = pd.DataFrame(data=df[['AVG','SQN','ADMM', 'ADAGRAD','RMSPROP']], columns= ['AVG','ADMM', 'SQN','ADAGRAD','RMSPROP'])\n",
    "ax = sns.boxplot(data=df, palette=\"PRGn\")\n",
    "ax.set(xlabel='Algorithms', ylabel='cross-entropy (centered)')\n",
    "sns.despine(offset=10, trim=True)\n",
    "plt.show()"
   ]
  },
  {
   "cell_type": "code",
   "execution_count": null,
   "metadata": {
    "collapsed": false
   },
   "outputs": [],
   "source": [
    "np.random.seed(321323)\n",
    "repeats = 100\n",
    "C2 = np.empty((repeats,8))\n",
    "tstart = time()\n",
    "for i in range(repeats):\n",
    "    C2[i,:] = offline(1000,5,2,0,5,50)\n",
    "tend = time()\n",
    "print tend-tstart"
   ]
  },
  {
   "cell_type": "code",
   "execution_count": null,
   "metadata": {
    "collapsed": false
   },
   "outputs": [],
   "source": [
    "df = pd.DataFrame(data=C2, columns= ['AVG', 'SQN', 'SGD', 'ADAGRAD', 'RMSPROP', 'ADADELTA', 'ADMM','logistic'])\n",
    "df = pd.DataFrame(data=df.subtract(df.logistic,axis=0), columns= ['AVG', 'SQN', 'SGD', 'ADAGRAD', 'RMSPROP', 'ADADELTA', 'ADMM'])\n",
    "ax = sns.boxplot(data=df, palette=\"PRGn\")\n",
    "ax.set(xlabel='Algorithms', ylabel='cross-entropy (centered)')\n",
    "sns.despine(offset=10, trim=True)\n",
    "plt.show()"
   ]
  },
  {
   "cell_type": "code",
   "execution_count": null,
   "metadata": {
    "collapsed": false
   },
   "outputs": [],
   "source": [
    "df = pd.DataFrame(data=df[['AVG','ADMM']], columns= ['AVG', 'ADMM'])\n",
    "ax = sns.boxplot(data=df, palette=\"PRGn\")\n",
    "ax.set(xlabel='Algorithms', ylabel='cross-entropy (centered)')\n",
    "sns.despine(offset=10, trim=True)\n",
    "plt.show()"
   ]
  },
  {
   "cell_type": "code",
   "execution_count": null,
   "metadata": {
    "collapsed": false
   },
   "outputs": [],
   "source": [
    "np.random.seed(321323)\n",
    "repeats = 100\n",
    "C3 = np.empty((repeats,8))\n",
    "tstart = time()\n",
    "for i in range(repeats):\n",
    "    C3[i,:] = offline(1000,5,6,0,5,50)\n",
    "tend = time()\n",
    "print tend-tstart"
   ]
  },
  {
   "cell_type": "code",
   "execution_count": null,
   "metadata": {
    "collapsed": false
   },
   "outputs": [],
   "source": [
    "df = pd.DataFrame(data=C3, columns= ['AVG', 'SQN', 'SGD', 'ADAGRAD', 'RMSPROP', 'ADADELTA', 'ADMM','logistic'])\n",
    "df = pd.DataFrame(data=df.subtract(df.logistic,axis=0), columns= ['AVG', 'SQN', 'SGD', 'ADAGRAD', 'RMSPROP', 'ADADELTA', 'ADMM'])\n",
    "ax = sns.boxplot(data=df, palette=\"PRGn\")\n",
    "ax.set(xlabel='Algorithms', ylabel='cross-entropy (centered)')\n",
    "sns.despine(offset=10, trim=True)\n",
    "plt.show()"
   ]
  },
  {
   "cell_type": "code",
   "execution_count": null,
   "metadata": {
    "collapsed": false
   },
   "outputs": [],
   "source": [
    "df = pd.DataFrame(data=df[['SQN', 'SGD', 'ADAGRAD', 'RMSPROP', 'ADADELTA', 'ADMM']], columns= \n",
    "                  ['SQN', 'SGD', 'ADAGRAD', 'RMSPROP', 'ADADELTA', 'ADMM'])\n",
    "ax = sns.boxplot(data=df, palette=\"PRGn\")\n",
    "ax.set(xlabel='Algorithms', ylabel='cross-entropy (centered)')\n",
    "sns.despine(offset=10, trim=True)\n",
    "plt.show()"
   ]
  },
  {
   "cell_type": "code",
   "execution_count": null,
   "metadata": {
    "collapsed": false
   },
   "outputs": [],
   "source": [
    "np.random.seed(321323)\n",
    "repeats = 100\n",
    "C4 = np.empty((repeats,8))\n",
    "tstart = time()\n",
    "for i in range(repeats):\n",
    "    C4[i,:] = offline(1000,5,11,0,5,50)\n",
    "tend = time()\n",
    "print tend-tstart"
   ]
  },
  {
   "cell_type": "code",
   "execution_count": null,
   "metadata": {
    "collapsed": false
   },
   "outputs": [],
   "source": [
    "df = pd.DataFrame(data=allpnResults0[7], columns= ['AVG', 'SQN', 'SGD', 'ADAGRAD', 'RMSPROP', 'ADADELTA', 'ADMM','logistic'])\n",
    "df = pd.DataFrame(data=df.subtract(df.logistic,axis=0), columns= ['AVG', 'SQN', 'SGD', 'ADAGRAD', 'RMSPROP', 'ADADELTA', 'ADMM'])\n",
    "ax = sns.boxplot(data=df, palette=\"PRGn\")\n",
    "ax.set(xlabel='Algorithms', ylabel='cross-entropy (centered)')\n",
    "sns.despine(offset=10, trim=True)\n",
    "plt.show()"
   ]
  },
  {
   "cell_type": "markdown",
   "metadata": {},
   "source": [
    "# p 1,2,5,10, N with 5 bins"
   ]
  },
  {
   "cell_type": "code",
   "execution_count": 30,
   "metadata": {
    "collapsed": false,
    "scrolled": true
   },
   "outputs": [
    {
     "name": "stdout",
     "output_type": "stream",
     "text": [
      "[Saved variables allpnResults0 to file '/Users/armin/Documents/Bust_lab/online-regression/allpnResults0.pkl'.]\n",
      "1 \n",
      "\n",
      "240.311319113 \n",
      "\n",
      "2 \n",
      "\n",
      "596.210906029 \n",
      "\n",
      "5 \n",
      "\n",
      "714.934518099 \n",
      "\n",
      "10 \n",
      "\n",
      "614.746059895 \n",
      "\n",
      "1 \n",
      "\n",
      "560.109254122 \n",
      "\n",
      "2 \n",
      "\n",
      "673.849100113 \n",
      "\n",
      "5 \n",
      "\n",
      "701.316563845 \n",
      "\n",
      "10 \n",
      "\n",
      "1925.5615859 \n",
      "\n",
      "1 \n",
      "\n",
      "676.236349106 \n",
      "\n",
      "2 \n",
      "\n",
      "502.501229048 \n",
      "\n",
      "5 \n",
      "\n",
      "343.092593908 \n",
      "\n",
      "10 \n",
      "\n",
      "433.089289188 \n",
      "\n",
      "7981.96131182\n"
     ]
    }
   ],
   "source": [
    "%%cache allpnResults0.pkl allpnResults0 \n",
    "s = \"PNexp\"\n",
    "seed = int(''.join(str(ord(c)) for c in s))%4294967295\n",
    "reps = 100\n",
    "allpnResults0 = []\n",
    "Ps = [1,2,5,10]\n",
    "Ns = [1000, 10000, 100]\n",
    "bs = [20,50,2]\n",
    "hs = [50,500,5]\n",
    "p = Pool(4)\n",
    "inputs=range(1,reps+1)\n",
    "\n",
    "\n",
    "t0 = time()\n",
    "for i in xrange(3):\n",
    "    for pnum in Ps:\n",
    "        nnum= Ns[i]\n",
    "        print pnum, '\\n'\n",
    "        tstart = time()\n",
    "        f = lambda x: offline(x[1],x[2]+1,5,0.0, x[3], x[4],x[0])\n",
    "        keywords = zip([j*hs[i]*nnum*seed for j in inputs],[nnum]*reps, \n",
    "                       [pnum]*reps, [bs[i]]*reps, [hs[i]]*reps)\n",
    "        results=p.map(f, keywords)\n",
    "        allpnResults0.append(results)\n",
    "        tend = time()\n",
    "        print tend-tstart, '\\n'\n",
    "        sys.stdout.flush()\n",
    "print time()-t0"
   ]
  },
  {
   "cell_type": "code",
   "execution_count": 42,
   "metadata": {
    "collapsed": false
   },
   "outputs": [
    {
     "name": "stdout",
     "output_type": "stream",
     "text": [
      "[Saved variables allpnResults1 to file '/Users/armin/Documents/Bust_lab/online-regression/allpnResults1.pkl'.]\n",
      "1 \n",
      "\n",
      "192.177781105 \n",
      "\n",
      "2 \n",
      "\n",
      "191.141917944 \n",
      "\n",
      "5 \n",
      "\n",
      "194.267288923 \n",
      "\n",
      "10 \n",
      "\n",
      "190.591035843 \n",
      "\n",
      "1 \n",
      "\n",
      "429.142810106 \n",
      "\n",
      "2 \n",
      "\n",
      "453.098579884 \n",
      "\n",
      "5 \n",
      "\n",
      "511.632159948 \n",
      "\n",
      "10 \n",
      "\n",
      "550.208417177 \n",
      "\n",
      "2712.2617538\n"
     ]
    }
   ],
   "source": [
    "%%cache allpnResults1.pkl allpnResults1 \n",
    "s = \"PNexp\"\n",
    "seed = int(''.join(str(ord(c)) for c in s))%4294967295\n",
    "reps = 100\n",
    "allpnResults1 = []\n",
    "Ps = [1,2,5,10]\n",
    "Ns = [1000, 10000, 100]\n",
    "bs = [20,50,2]\n",
    "hs = [50,500,5]\n",
    "p = Pool(4)\n",
    "inputs=range(1,reps+1)\n",
    "\n",
    "\n",
    "t0 = time()\n",
    "for i in xrange(2):\n",
    "    for pnum in Ps:\n",
    "        nnum= Ns[i]\n",
    "        print pnum, '\\n'\n",
    "        tstart = time()\n",
    "        f = lambda x: offline(x[1],x[2]+1,5,1.0, x[3], x[4],x[0])\n",
    "        keywords = zip([j*hs[i]*nnum*seed for j in inputs],[nnum]*reps, \n",
    "                       [pnum]*reps, [bs[i]]*reps, [hs[i]]*reps)\n",
    "        results=p.map(f, keywords)\n",
    "        allpnResults1.append(results)\n",
    "        tend = time()\n",
    "        print tend-tstart, '\\n'\n",
    "        sys.stdout.flush()\n",
    "print time()-t0"
   ]
  },
  {
   "cell_type": "code",
   "execution_count": 43,
   "metadata": {
    "collapsed": false
   },
   "outputs": [
    {
     "name": "stdout",
     "output_type": "stream",
     "text": [
      "[Saved variables allpnResults05 to file '/Users/armin/Documents/Bust_lab/online-regression/allpnResults0.5.pkl'.]\n",
      "1 \n",
      "\n",
      "182.708810091 \n",
      "\n",
      "2 \n",
      "\n",
      "188.748991966 \n",
      "\n",
      "5 \n",
      "\n",
      "210.733844995 \n",
      "\n",
      "10 \n",
      "\n",
      "242.283838987 \n",
      "\n",
      "1 \n",
      "\n",
      "429.255162954 \n",
      "\n",
      "2 \n",
      "\n",
      "454.070144176 \n",
      "\n",
      "5 \n",
      "\n",
      "540.3508389 \n",
      "\n",
      "10 \n",
      "\n",
      "607.519734859 \n",
      "\n",
      "2855.67299104\n"
     ]
    }
   ],
   "source": [
    "%%cache allpnResults0.5.pkl allpnResults05\n",
    "s = \"PNexp05\"\n",
    "seed = int(''.join(str(ord(c)) for c in s))%4294967295\n",
    "reps = 100\n",
    "allpnResults05 = []\n",
    "Ps = [1,2,5,10]\n",
    "Ns = [1000, 10000, 100]\n",
    "bs = [20,50,2]\n",
    "hs = [50,500,5]\n",
    "p = Pool(4)\n",
    "inputs=range(1,reps+1)\n",
    "\n",
    "\n",
    "t0 = time()\n",
    "for i in xrange(2):\n",
    "    for pnum in Ps:\n",
    "        nnum= Ns[i]\n",
    "        print pnum, '\\n'\n",
    "        tstart = time()\n",
    "        f = lambda x: offline(x[1],x[2]+1,5,0.5, x[3], x[4],x[0])\n",
    "        keywords = zip([j*hs[i]*nnum*seed for j in inputs],[nnum]*reps, \n",
    "                       [pnum]*reps, [bs[i]]*reps, [hs[i]]*reps)\n",
    "        results=p.map(f, keywords)\n",
    "        allpnResults05.append(results)\n",
    "        tend = time()\n",
    "        print tend-tstart, '\\n'\n",
    "        sys.stdout.flush()\n",
    "print time()-t0"
   ]
  },
  {
   "cell_type": "code",
   "execution_count": null,
   "metadata": {
    "collapsed": false
   },
   "outputs": [],
   "source": [
    "allpnResults0 = np.array(allpnResults0)\n",
    "print allpnResults0.shape\n",
    "dat = allpnResults0"
   ]
  },
  {
   "cell_type": "code",
   "execution_count": 55,
   "metadata": {
    "collapsed": false
   },
   "outputs": [],
   "source": [
    "def df_from_pn(P,N, sim, DO=5):\n",
    "    df = pd.DataFrame()\n",
    "    result = pd.DataFrame()\n",
    "    sim = np.array(sim)\n",
    "    loss = ['cost', 'roc', '01']\n",
    "    for i in range(3):\n",
    "        for data in range(sim.shape[0]):\n",
    "            p = P[data]\n",
    "            n = N[data]\n",
    "            cov = np.array([p-1]*sim.shape[1])\n",
    "            cov.shape = (100,1)\n",
    "            size = np.array([n]*sim.shape[1])\n",
    "            size.shape = (100,1)\n",
    "            r = np.array(range(100))\n",
    "            r.shape = (100,1)\n",
    "            l = np.array([i]*100)\n",
    "            l.shape = (100,1)\n",
    "            appended = np.hstack((sim[data,:,:,i],cov,size,r,l))\n",
    "            if i == 0:\n",
    "                appended = np.hstack((sim[data,:,:,i]*n,cov,size,r,l))\n",
    "            else:\n",
    "                appended = np.hstack((sim[data,:,:,i],cov,size,r,l))     \n",
    "            df = df.append(pd.DataFrame(data=appended, columns= ['AVG', 'SQN', 'SGD', 'ADAGRAD', 'RMSPROP', 'ADADELTA', 'ADMM','logistic','covariates','n', 'range','loss']))\n",
    "    \n",
    "    df1 = df.loc[df.loss==0]\n",
    "    df1 = (df1[['AVG', 'SQN', 'SGD', 'ADAGRAD', 'RMSPROP', 'ADADELTA', 'ADMM']].sub(df1['logistic'], axis=0))\n",
    "    #df1 = (df1[['AVG', 'SQN', 'SGD', 'ADAGRAD', 'RMSPROP', 'ADADELTA', 'ADMM']]).div(df1['logistic']+ 10**-10, axis=0)\n",
    "    df.loc[df.loss==0, ['AVG', 'SQN', 'SGD', 'ADAGRAD', 'RMSPROP', 'ADADELTA', 'ADMM']] = np.log(np.abs(df1[['AVG', 'SQN', 'SGD', 'ADAGRAD', 'RMSPROP', 'ADADELTA', 'ADMM']]))\n",
    "    \n",
    "    df1 = df.loc[df.loss==2]\n",
    "    df.loc[df.loss==2, ['AVG', 'SQN', 'SGD', 'ADAGRAD', 'RMSPROP', 'ADADELTA', 'ADMM']] = df1[['AVG', 'SQN', 'SGD', 'ADAGRAD', 'RMSPROP', 'ADADELTA', 'ADMM']].div(\n",
    "        df1.logistic, axis=0)\n",
    "    #df.drop(\"logistic\", axis=1,inplace=True)\n",
    "    \n",
    "    df = pd.melt(df, id_vars=[\"covariates\",\"n\",'range', 'loss'])\n",
    "    ####### TODO evaluate globally not locally \n",
    "    df = df[~np.isnan(df.value)]\n",
    "    return df\n",
    "    "
   ]
  },
  {
   "cell_type": "code",
   "execution_count": 56,
   "metadata": {
    "collapsed": false
   },
   "outputs": [],
   "source": [
    "def plot_pn(df,ylab,ylim):\n",
    "    f, (ax) = plt.subplots(1, 1, sharex=True)\n",
    "    sns.tsplot(time=\"covariates\", value=\"value\", condition=\"variable\",\n",
    "           unit=\"range\",data=df,color=colors,  err_style=\"ci_bars\",ax=ax\n",
    "           ,interpolate=True,legend=False)\n",
    "    sns.set_context(\"notebook\", font_scale=1.9, rc={\"lines.linewidth\": 2.5})\n",
    "    plt.xlabel('\\# of Covariates', fontsize=22)\n",
    "    ax.set_ylabel(ylab, fontsize=32, labelpad=0)\n",
    "    #ax.yaxis.set_label_coords(-.09, -.2)\n",
    "    ax.set_ylim(ylim)  # most of the data\n",
    "    ax.set_xlim(0.5, 10.5)  # outliers only\n",
    "    plt.legend(loc='best')\n",
    "    #ax.set(xticks=np.arange(1,10,2))\n",
    "    ax.set_xticks(np.arange(1,10,2))\n",
    "    ax.tick_params(labelsize=22)\n",
    "    sns.set_style(\"ticks\")\n",
    "    plt.tight_layout()\n",
    "    return f"
   ]
  },
  {
   "cell_type": "code",
   "execution_count": null,
   "metadata": {
    "collapsed": false
   },
   "outputs": [],
   "source": [
    "df = pd.DataFrame()\n",
    "allpnResults0 = np.array(dat)\n",
    "P = [2,3,6,11]\n",
    "P = P + P + P\n",
    "N = [1000] * 4 + [10000] * 4 + [100] * 4 \n",
    "loss = ['cost', 'roc', '01']\n",
    "i=0\n",
    "for data in range(12):\n",
    "    p = P[data]\n",
    "    n = N[data]\n",
    "    cov = np.array([p-1]*allpnResults0.shape[1])\n",
    "    cov.shape = (100,1)\n",
    "    size = np.array([n]*allpnResults0.shape[1])\n",
    "    size.shape = (100,1)\n",
    "    r = np.array(range(100))\n",
    "    r.shape = (100,1)\n",
    "    appended = np.hstack((allpnResults0[data,:,:,i],cov,size,r))\n",
    "    df = df.append(pd.DataFrame(data=appended, columns= ['AVG', 'SQN', 'SGD', 'ADAGRAD', 'RMSPROP', 'ADADELTA', 'ADMM','logistic','covariates','n', 'range']))\n",
    "df1 = df[['AVG', 'SQN', 'SGD', 'ADAGRAD', 'RMSPROP', 'ADADELTA', 'ADMM']].sub(df['logistic'], axis=0)\n",
    "df[['AVG', 'SQN', 'SGD', 'ADAGRAD', 'RMSPROP', 'ADADELTA', 'ADMM']] = df1\n",
    "df.drop(\"logistic\", axis=1,inplace=True)"
   ]
  },
  {
   "cell_type": "code",
   "execution_count": null,
   "metadata": {
    "collapsed": false
   },
   "outputs": [],
   "source": [
    "allpnResults0 = np.array(dat)\n",
    "allpnResults0.shape"
   ]
  },
  {
   "cell_type": "code",
   "execution_count": null,
   "metadata": {
    "collapsed": false
   },
   "outputs": [],
   "source": [
    "df = pd.melt(df, id_vars=[\"covariates\",\"n\",'range'])"
   ]
  },
  {
   "cell_type": "code",
   "execution_count": null,
   "metadata": {
    "collapsed": false,
    "scrolled": true
   },
   "outputs": [],
   "source": [
    "\n",
    "f, (ax, ax2) = plt.subplots(2, 1, sharex=True)\n",
    "sns.tsplot(time=\"covariates\", value=\"value\", condition=\"variable\",\n",
    "           unit=\"range\",data=df[(df.n==1000)].drop(\"n\", axis=1,inplace=False),color=colors,  err_style=\"ci_bars\",ax=ax, \n",
    "           interpolate=False)\n",
    "sns.tsplot(time=\"covariates\", value=\"value\", condition=\"variable\",\n",
    "           unit=\"range\",data=df[(df.n==1000)].drop(\"n\", axis=1,inplace=False),color=colors,  err_style=\"ci_bars\",ax=ax2\n",
    "          ,legend=False, interpolate=True)\n",
    "\n",
    "ax.axes.get_xaxis().set_visible(False)  #turnoff xaxis label for top graph\n",
    "ax2.yaxis.label.set_visible(False)\n",
    "\n",
    "\n",
    "ax.set_ylim(.05, .8)  # outliers only\n",
    "ax2.set_ylim(0, .04)  # most of the data\n",
    "ax.set_xlim(0, 10.5)  # outliers only\n",
    "ax2.set_xlim(0, 10.5)  # most of the data\n",
    "ax.spines['bottom'].set_visible(False)\n",
    "ax2.spines['top'].set_visible(False)\n",
    "ax.xaxis.tick_top()\n",
    "ax.tick_params(labeltop='off')  # don't put tick labels at the top\n",
    "ax2.xaxis.tick_bottom()\n",
    "d = .015  # how big to make the diagonal lines in axes coordinates\n",
    "# arguments to pass to plot, just so we don't keep repeating them\n",
    "kwargs = dict(transform=ax.transAxes, color='k', clip_on=False)\n",
    "\n",
    "ax.plot((-d, +d), (-d, +d), **kwargs)        # top-left diagonal\n",
    "ax.plot((1 - d, 1 + d), (-d, +d), **kwargs)  # top-right diagonal\n",
    "\n",
    "kwargs.update(transform=ax2.transAxes)  # switch to the bottom axes\n",
    "ax2.plot((-d, +d), (1 - d, 1 + d), **kwargs)  # bottom-left diagonal\n",
    "ax2.plot((1 - d, 1 + d), (1 - d, 1 + d), **kwargs)  # bottom-right diagonal\n",
    "\n",
    "plt.xlabel('# of Covariates', fontsize=18)\n",
    "ax.set_ylabel('Cost Function Difference', fontsize=16)\n",
    "ax.yaxis.set_label_coords(-.09, -.2)\n",
    "sns.plt.show()"
   ]
  },
  {
   "cell_type": "code",
   "execution_count": null,
   "metadata": {
    "collapsed": false,
    "scrolled": true
   },
   "outputs": [],
   "source": [
    "f, (ax) = plt.subplots(1, 1, sharex=True)\n",
    "sns.tsplot(time=\"covariates\", value=\"value\", condition=\"variable\",\n",
    "           unit=\"range\",data=df[(df.n==100)],color=colors,  err_style=\"ci_bars\",ax=ax\n",
    "           ,interpolate=True)\n",
    "sns.set_context(\"notebook\", font_scale=1.5, rc={\"lines.linewidth\": 2.5})\n",
    "plt.xlabel('# of Covariates', fontsize=18)\n",
    "ax.set_ylabel('Cost Function Difference', fontsize=16)\n",
    "#ax.yaxis.set_label_coords(-.09, -.2)\n",
    "ax.set_ylim(0, .03)  # most of the data\n",
    "ax.set_xlim(0.5, 10.5)  # outliers only\n",
    "plt.legend(loc='best')\n",
    "ax.set(xticks=np.arange(1,10,2))\n",
    "\n",
    "sns.plt.show()"
   ]
  },
  {
   "cell_type": "code",
   "execution_count": null,
   "metadata": {
    "collapsed": false
   },
   "outputs": [],
   "source": [
    "P = [2,3,6,11]\n",
    "P = P + P + P\n",
    "N = [1000] * 4 + [10000] * 4 + [100] * 4\n",
    "\n",
    "name, n, loss = 'allpnResults0', 100, 0\n",
    "df = df_from_pn(P,N, allpnResults0)\n",
    "ax = plot_pn(df[(df.n==n) & (df.loss==loss)& (df.variable!='logistic')& (df.range != 67)],'Cost Function Difference',[-20,5])\n",
    "ax.savefig(figSaveFile+\"p_\"+name+\"_\"+str(n)+\"_\"+str(loss)+\".png\")"
   ]
  },
  {
   "cell_type": "code",
   "execution_count": null,
   "metadata": {
    "collapsed": false
   },
   "outputs": [],
   "source": [
    "dat = np.array(allpnResults0).shape"
   ]
  },
  {
   "cell_type": "code",
   "execution_count": null,
   "metadata": {
    "collapsed": false,
    "scrolled": true
   },
   "outputs": [],
   "source": [
    "name, n, loss = 'allpnResults1', 100, 0\n",
    "df = df_from_pn(P,N, allpnResults1)\n",
    "ax = plot_pn(df[(df.n==n) & (df.loss==loss)& (df.variable!='logistic') & (df.range!=41) & (df.range != 88) ],'Cost Function Difference',[-0.005,.03])"
   ]
  },
  {
   "cell_type": "code",
   "execution_count": 58,
   "metadata": {
    "collapsed": false,
    "scrolled": false
   },
   "outputs": [
    {
     "ename": "UnboundLocalError",
     "evalue": "local variable 'x' referenced before assignment",
     "output_type": "error",
     "traceback": [
      "\u001b[0;31m---------------------------------------------------------------------------\u001b[0m",
      "\u001b[0;31mUnboundLocalError\u001b[0m                         Traceback (most recent call last)",
      "\u001b[0;32m<ipython-input-58-74c13c40c2c3>\u001b[0m in \u001b[0;36m<module>\u001b[0;34m()\u001b[0m\n\u001b[1;32m     82\u001b[0m \u001b[0mdf1\u001b[0m\u001b[0;34m.\u001b[0m\u001b[0mvalue\u001b[0m\u001b[0;34m[\u001b[0m\u001b[0mnp\u001b[0m\u001b[0;34m.\u001b[0m\u001b[0misneginf\u001b[0m\u001b[0;34m(\u001b[0m\u001b[0mdf1\u001b[0m\u001b[0;34m.\u001b[0m\u001b[0mvalue\u001b[0m\u001b[0;34m)\u001b[0m\u001b[0;34m]\u001b[0m \u001b[0;34m=\u001b[0m \u001b[0mnp\u001b[0m\u001b[0;34m.\u001b[0m\u001b[0mnan\u001b[0m\u001b[0;34m\u001b[0m\u001b[0m\n\u001b[1;32m     83\u001b[0m \u001b[0mdf1\u001b[0m\u001b[0;34m[\u001b[0m\u001b[0;34m'value'\u001b[0m\u001b[0;34m]\u001b[0m\u001b[0;34m.\u001b[0m\u001b[0mfillna\u001b[0m\u001b[0;34m(\u001b[0m\u001b[0;34m(\u001b[0m\u001b[0mdf1\u001b[0m\u001b[0;34m[\u001b[0m\u001b[0;34m'value'\u001b[0m\u001b[0;34m]\u001b[0m\u001b[0;34m.\u001b[0m\u001b[0mmean\u001b[0m\u001b[0;34m(\u001b[0m\u001b[0;34m)\u001b[0m\u001b[0;34m)\u001b[0m\u001b[0;34m,\u001b[0m \u001b[0minplace\u001b[0m\u001b[0;34m=\u001b[0m\u001b[0mTrue\u001b[0m\u001b[0;34m)\u001b[0m\u001b[0;34m\u001b[0m\u001b[0m\n\u001b[0;32m---> 84\u001b[0;31m \u001b[0max\u001b[0m \u001b[0;34m=\u001b[0m \u001b[0mplot_pn\u001b[0m\u001b[0;34m(\u001b[0m\u001b[0mdf1\u001b[0m\u001b[0;34m,\u001b[0m\u001b[0mtext\u001b[0m\u001b[0;34m,\u001b[0m\u001b[0mwindow\u001b[0m\u001b[0;34m)\u001b[0m\u001b[0;34m\u001b[0m\u001b[0m\n\u001b[0m\u001b[1;32m     85\u001b[0m \u001b[0max\u001b[0m\u001b[0;34m.\u001b[0m\u001b[0msavefig\u001b[0m\u001b[0;34m(\u001b[0m\u001b[0mfigSaveFile\u001b[0m\u001b[0;34m+\u001b[0m\u001b[0;34m\"p_\"\u001b[0m\u001b[0;34m+\u001b[0m\u001b[0mname\u001b[0m\u001b[0;34m+\u001b[0m\u001b[0;34m\"_\"\u001b[0m\u001b[0;34m+\u001b[0m\u001b[0mstr\u001b[0m\u001b[0;34m(\u001b[0m\u001b[0mn\u001b[0m\u001b[0;34m)\u001b[0m\u001b[0;34m+\u001b[0m\u001b[0;34m\"_\"\u001b[0m\u001b[0;34m+\u001b[0m\u001b[0mstr\u001b[0m\u001b[0;34m(\u001b[0m\u001b[0mloss\u001b[0m\u001b[0;34m)\u001b[0m\u001b[0;34m+\u001b[0m\u001b[0;34m\".png\"\u001b[0m\u001b[0;34m)\u001b[0m\u001b[0;34m\u001b[0m\u001b[0m\n\u001b[1;32m     86\u001b[0m \u001b[0;34m\u001b[0m\u001b[0m\n",
      "\u001b[0;32m<ipython-input-56-18eed7bc9177>\u001b[0m in \u001b[0;36mplot_pn\u001b[0;34m(df, ylab, ylim)\u001b[0m\n\u001b[1;32m      3\u001b[0m     sns.tsplot(time=\"covariates\", value=\"value\", condition=\"variable\",\n\u001b[1;32m      4\u001b[0m            \u001b[0munit\u001b[0m\u001b[0;34m=\u001b[0m\u001b[0;34m\"range\"\u001b[0m\u001b[0;34m,\u001b[0m\u001b[0mdata\u001b[0m\u001b[0;34m=\u001b[0m\u001b[0mdf\u001b[0m\u001b[0;34m,\u001b[0m\u001b[0mcolor\u001b[0m\u001b[0;34m=\u001b[0m\u001b[0mcolors\u001b[0m\u001b[0;34m,\u001b[0m  \u001b[0merr_style\u001b[0m\u001b[0;34m=\u001b[0m\u001b[0;34m\"ci_bars\"\u001b[0m\u001b[0;34m,\u001b[0m\u001b[0max\u001b[0m\u001b[0;34m=\u001b[0m\u001b[0max\u001b[0m\u001b[0;34m\u001b[0m\u001b[0m\n\u001b[0;32m----> 5\u001b[0;31m            ,interpolate=True,legend=False)\n\u001b[0m\u001b[1;32m      6\u001b[0m     \u001b[0msns\u001b[0m\u001b[0;34m.\u001b[0m\u001b[0mset_context\u001b[0m\u001b[0;34m(\u001b[0m\u001b[0;34m\"notebook\"\u001b[0m\u001b[0;34m,\u001b[0m \u001b[0mfont_scale\u001b[0m\u001b[0;34m=\u001b[0m\u001b[0;36m1.9\u001b[0m\u001b[0;34m,\u001b[0m \u001b[0mrc\u001b[0m\u001b[0;34m=\u001b[0m\u001b[0;34m{\u001b[0m\u001b[0;34m\"lines.linewidth\"\u001b[0m\u001b[0;34m:\u001b[0m \u001b[0;36m2.5\u001b[0m\u001b[0;34m}\u001b[0m\u001b[0;34m)\u001b[0m\u001b[0;34m\u001b[0m\u001b[0m\n\u001b[1;32m      7\u001b[0m     \u001b[0mplt\u001b[0m\u001b[0;34m.\u001b[0m\u001b[0mxlabel\u001b[0m\u001b[0;34m(\u001b[0m\u001b[0;34m'\\# of Covariates'\u001b[0m\u001b[0;34m,\u001b[0m \u001b[0mfontsize\u001b[0m\u001b[0;34m=\u001b[0m\u001b[0;36m22\u001b[0m\u001b[0;34m)\u001b[0m\u001b[0;34m\u001b[0m\u001b[0m\n",
      "\u001b[0;32m/Users/armin/miniconda/lib/python2.7/site-packages/seaborn/timeseries.pyc\u001b[0m in \u001b[0;36mtsplot\u001b[0;34m(data, time, unit, condition, value, err_style, ci, interpolate, color, estimator, n_boot, err_palette, err_kws, legend, ax, **kwargs)\u001b[0m\n\u001b[1;32m    329\u001b[0m \u001b[0;34m\u001b[0m\u001b[0m\n\u001b[1;32m    330\u001b[0m     \u001b[0;31m# Pad the sides of the plot only when not interpolating\u001b[0m\u001b[0;34m\u001b[0m\u001b[0;34m\u001b[0m\u001b[0m\n\u001b[0;32m--> 331\u001b[0;31m     \u001b[0max\u001b[0m\u001b[0;34m.\u001b[0m\u001b[0mset_xlim\u001b[0m\u001b[0;34m(\u001b[0m\u001b[0mx\u001b[0m\u001b[0;34m.\u001b[0m\u001b[0mmin\u001b[0m\u001b[0;34m(\u001b[0m\u001b[0;34m)\u001b[0m\u001b[0;34m,\u001b[0m \u001b[0mx\u001b[0m\u001b[0;34m.\u001b[0m\u001b[0mmax\u001b[0m\u001b[0;34m(\u001b[0m\u001b[0;34m)\u001b[0m\u001b[0;34m)\u001b[0m\u001b[0;34m\u001b[0m\u001b[0m\n\u001b[0m\u001b[1;32m    332\u001b[0m     \u001b[0mx_diff\u001b[0m \u001b[0;34m=\u001b[0m \u001b[0mx\u001b[0m\u001b[0;34m[\u001b[0m\u001b[0;36m1\u001b[0m\u001b[0;34m]\u001b[0m \u001b[0;34m-\u001b[0m \u001b[0mx\u001b[0m\u001b[0;34m[\u001b[0m\u001b[0;36m0\u001b[0m\u001b[0;34m]\u001b[0m\u001b[0;34m\u001b[0m\u001b[0m\n\u001b[1;32m    333\u001b[0m     \u001b[0;32mif\u001b[0m \u001b[0;32mnot\u001b[0m \u001b[0minterpolate\u001b[0m\u001b[0;34m:\u001b[0m\u001b[0;34m\u001b[0m\u001b[0m\n",
      "\u001b[0;31mUnboundLocalError\u001b[0m: local variable 'x' referenced before assignment"
     ]
    },
    {
     "data": {
      "image/png": "[encoded data removed]",
      "text/plain": [
       "<matplotlib.figure.Figure at 0x1090641d0>"
      ]
     },
     "metadata": {},
     "output_type": "display_data"
    },
    {
     "data": {
      "image/png": "[encoded data removed]",
      "text/plain": [
       "<matplotlib.figure.Figure at 0x1037e4650>"
      ]
     },
     "metadata": {},
     "output_type": "display_data"
    },
    {
     "data": {
      "image/png": "[encoded data removed]",
      "text/plain": [
       "<matplotlib.figure.Figure at 0x109dcf850>"
      ]
     },
     "metadata": {},
     "output_type": "display_data"
    },
    {
     "data": {
      "image/png": "[encoded data removed]",
      "text/plain": [
       "<matplotlib.figure.Figure at 0x10a81c790>"
      ]
     },
     "metadata": {},
     "output_type": "display_data"
    },
    {
     "data": {
      "image/png": "[encoded data removed]",
      "text/plain": [
       "<matplotlib.figure.Figure at 0x10adcfe90>"
      ]
     },
     "metadata": {},
     "output_type": "display_data"
    },
    {
     "data": {
      "image/png": "[encoded data removed]",
      "text/plain": [
       "<matplotlib.figure.Figure at 0x10a07c1d0>"
      ]
     },
     "metadata": {},
     "output_type": "display_data"
    },
    {
     "data": {
      "image/png": "[encoded data removed]",
      "text/plain": [
       "<matplotlib.figure.Figure at 0x103762e90>"
      ]
     },
     "metadata": {},
     "output_type": "display_data"
    },
    {
     "data": {
      "image/png": "[encoded data removed]",
      "text/plain": [
       "<matplotlib.figure.Figure at 0x103762a90>"
      ]
     },
     "metadata": {},
     "output_type": "display_data"
    }
   ],
   "source": [
    "#Plotting \n",
    "plt.rc('text', usetex=True)\n",
    "\n",
    "P = [2,3,6,11]\n",
    "P = P + P + P\n",
    "N = [1000] * 4 + [10000] * 4 + [100] * 4\n",
    "text = r\"$\\log(\\ell_{C} - \\ell_{D})$\"\n",
    "window = [-30,5]\n",
    "\n",
    "name, n, loss = 'allpnResults0', 1000, 0\n",
    "df = df_from_pn(P,N, allpnResults0)\n",
    "df1 = df[(df.n==n) & (df.loss==loss)& (df.variable!='logistic')]\n",
    "df1.value[np.isneginf(df1.value)] = np.nan \n",
    "df1['value'].fillna((df1['value'].mean()), inplace=True)\n",
    "\n",
    "ax = plot_pn(df1,text,window)\n",
    "ax.savefig(figSaveFile+\"p_\"+name+\"_\"+str(n)+\"_\"+str(loss)+\".png\")\n",
    "\n",
    "name, n, loss = 'allpnResults0', 10000, 0\n",
    "df = df_from_pn(P,N, allpnResults0)\n",
    "df1 = df[(df.n==n) & (df.loss==loss)& (df.variable!='logistic')]\n",
    "df1.value[np.isneginf(df1.value)] = np.nan \n",
    "df1['value'].fillna((df1['value'].mean()), inplace=True)\n",
    "ax = plot_pn(df1,text,window)\n",
    "ax.savefig(figSaveFile+\"p_\"+name+\"_\"+str(n)+\"_\"+str(loss)+\".png\")\n",
    "\n",
    "name, n, loss = 'allpnResults0', 100, 0\n",
    "df = df_from_pn(P,N, allpnResults0)\n",
    "df1 = df[(df.n==n) & (df.loss==loss)& (df.variable!='logistic') & (df.range != 67)]\n",
    "df1.value[np.isneginf(df1.value)] = np.nan \n",
    "df1['value'].fillna((df1['value'].mean()), inplace=True)\n",
    "ax = plot_pn(df1,text,window)\n",
    "ax.savefig(figSaveFile+\"p_\"+name+\"_\"+str(n)+\"_\"+str(loss)+\".png\")\n",
    "\n",
    "#  this one needs special attention, one of the values ended up being nan, so we will delete that and relvant counts\n",
    "\n",
    "name, n, loss = 'allpnResults1', 1000, 0\n",
    "df = df_from_pn(P,N, allpnResults1)\n",
    "df = df[(df.n==1000)& (df.loss==loss)& (df['range']!=79)]\n",
    "df1 = df[(df.n==n) & (df.loss==loss)& (df.variable!='logistic')]\n",
    "df1.value[np.isneginf(df1.value)] = np.nan \n",
    "df1['value'].fillna((df1['value'].mean()), inplace=True)\n",
    "ax = plot_pn(df1,text,window)\n",
    "ax.savefig(figSaveFile+\"p_\"+name+\"_\"+str(n)+\"_\"+str(loss)+\".png\")\n",
    "\n",
    "name, n, loss = 'allpnResults1', 10000, 0\n",
    "df = df_from_pn(P,N, allpnResults1)\n",
    "df1 = df[(df.n==n) & (df.loss==loss)& (df.variable!='logistic')]\n",
    "df1.value[np.isneginf(df1.value)] = np.nan \n",
    "df1['value'].fillna((df1['value'].mean()), inplace=True)\n",
    "ax = plot_pn(df1,text,window)\n",
    "ax.savefig(figSaveFile+\"p_\"+name+\"_\"+str(n)+\"_\"+str(loss)+\".png\")\n",
    "\n",
    "# name, n, loss = 'allpnResults1', 100, 0\n",
    "# df = df_from_pn(P,N, allpnResults1)\n",
    "# df1 = df[(df.n==n) & (df.loss==loss)& (df.variable!='logistic')& (df.range!=41) & (df.range != 88)]\n",
    "# df1.value[np.isneginf(df1.value)] = np.nan \n",
    "# df1['value'].fillna((df1['value'].mean()), inplace=True)\n",
    "# ax = plot_pn(df1,text,window)\n",
    "# ax.savefig(figSaveFile+\"p_\"+name+\"_\"+str(n)+\"_\"+str(loss)+\".png\")\n",
    "\n",
    "\n",
    "name, n, loss = 'allpnResults05', 1000, 0\n",
    "df = df_from_pn(P,N, allpnResults05)\n",
    "df1 = df[(df.n==n) & (df.loss==loss)& (df.variable!='logistic')]\n",
    "df1.value[np.isneginf(df1.value)] = np.nan \n",
    "df1['value'].fillna((df1['value'].mean()), inplace=True)\n",
    "ax = plot_pn(df1,text,window)\n",
    "ax.savefig(figSaveFile+\"p_\"+name+\"_\"+str(n)+\"_\"+str(loss)+\".png\")\n",
    "\n",
    "name, n, loss = 'allpnResults05', 10000, 0\n",
    "df = df_from_pn(P,N, allpnResults05)\n",
    "df1 = df[(df.n==n) & (df.loss==loss)& (df.variable!='logistic')]\n",
    "df1.value[np.isneginf(df1.value)] = np.nan \n",
    "df1['value'].fillna((df1['value'].mean()), inplace=True)\n",
    "ax = plot_pn(df1,text,window)\n",
    "ax.savefig(figSaveFile+\"p_\"+name+\"_\"+str(n)+\"_\"+str(loss)+\".png\")\n",
    "\n",
    "name, n, loss = 'allpnResults05', 100, 0\n",
    "df = df_from_pn(P,N, allpnResults05)\n",
    "df1 = df[(df.n==n) & (df.loss==loss)& (df.variable!='logistic')]\n",
    "df1.value[np.isneginf(df1.value)] = np.nan \n",
    "df1['value'].fillna((df1['value'].mean()), inplace=True)\n",
    "ax = plot_pn(df1,text,window)\n",
    "ax.savefig(figSaveFile+\"p_\"+name+\"_\"+str(n)+\"_\"+str(loss)+\".png\")\n",
    "\n"
   ]
  },
  {
   "cell_type": "markdown",
   "metadata": {},
   "source": [
    "# Time to convergence "
   ]
  },
  {
   "cell_type": "code",
   "execution_count": 19,
   "metadata": {
    "collapsed": true
   },
   "outputs": [],
   "source": [
    "totDOs = 5\n",
    "def timeoffline(totCount, p, totDOs,f, bs, hs,x): # f is for fraction of categorical covariates \n",
    "    np.random.seed(1235641343*x%4294967295)\n",
    "    dim = p - 1\n",
    "    beta = np.random.normal(0,1,p)\n",
    "    #beta[0] = 0\n",
    "    DOs = []\n",
    "    num = None\n",
    "    # check that no DO gets less than 10% of the data \n",
    "    while (num == None or any(num < totCount/10.0)):\n",
    "        num = np.random.poisson(totCount/float(totDOs), totDOs-1)\n",
    "        num = np.append(num,totCount - sum(num))\n",
    "        center = DataCenter(dim)\n",
    "    #pdb.set_trace()\n",
    "    for i,n in enumerate(num):\n",
    "        DOs.append(DataRepo(n, 'm', dim, beta, center, f))\n",
    "        #center.add_repo(DOs[i])\n",
    "        \n",
    "    iters = 1000\n",
    "    center.count_data()\n",
    "    center.scale()\n",
    "    betaL,cost,roc, zeroone = all_logistic(center)\n",
    "    betas = np.zeros((7,betaL.shape[0],iters/10+1))\n",
    "    \n",
    "    #betas[0,:,:] = center.avgLogistic()     # averaging \n",
    "    betas[1,:,:] = center.SQN(50,10,.01,bs,hs, max_iters=iters,verbose=True)   #SQN beta\n",
    "    betas[2,:,:] = center.batch_SGD(bs,0.0001, max_iters=iters, step=200.0,verbose=True)     # simple sgd \n",
    "    betas[3,:,:] = center.batch_SGD(bs,0.0001, max_iters=iters, adagrad=1, step=5.0,verbose=True)   #adagrad \n",
    "    betas[4,:,:] = center.batch_SGD(bs,0.0001, max_iters=iters, adagrad=2, step=0.05,verbose=True)    #rms prop \n",
    "    betas[5,:,:] = center.batch_SGD(bs,0.0001, max_iters=iters, adagrad=3, step=.1,verbose=True)     #adadelta \n",
    "    betas[6,:,:] = center.ADMM(1.0, max_iters=iters,verbose=True)    # admm \n",
    "    costs = np.zeros((8,3,iters/10+1))\n",
    "    for i in xrange(7):\n",
    "        for j in xrange(iters/10+1):\n",
    "            costs[i,:,j] = center.evaluate(betas[i,:,j])\n",
    "    for j in xrange(iters/10+1):\n",
    "        costs[7,:,j] = cost, roc, zeroone\n",
    "    return costs"
   ]
  },
  {
   "cell_type": "code",
   "execution_count": 20,
   "metadata": {
    "collapsed": false
   },
   "outputs": [
    {
     "name": "stdout",
     "output_type": "stream",
     "text": [
      "[Saved variables alltimeResults0 to file '/Users/armin/Documents/Bust_lab/online-regression/alltimeResults0.pkl'.]\n",
      "1 \n",
      "\n",
      "2 \n",
      "\n",
      "5 \n",
      "\n",
      "10 \n",
      "\n",
      "1 \n",
      "\n",
      "2 \n",
      "\n",
      "5 \n",
      "\n",
      "10 \n",
      "\n",
      "1 \n",
      "\n",
      "2 \n",
      "\n",
      "5 \n",
      "\n",
      "10 \n",
      "\n",
      "4532.51225495\n"
     ]
    }
   ],
   "source": [
    "%%cache alltimeResults0.pkl alltimeResults0 \n",
    "s = \"PNexp\"\n",
    "seed = int(''.join(str(ord(c)) for c in s))%4294967295\n",
    "reps = 100\n",
    "alltimeResults0 = []\n",
    "Ps = [1,2,5,10]\n",
    "Ns = [1000, 10000, 100]\n",
    "bs = [20,50,2]\n",
    "hs = [50,500,5]\n",
    "p = Pool(4)\n",
    "inputs=range(1,reps+1)\n",
    "\n",
    "\n",
    "t0 = time()\n",
    "for i in xrange(3):\n",
    "    temp = []\n",
    "    for pnum in Ps:\n",
    "        nnum= Ns[i]\n",
    "        print pnum, '\\n'\n",
    "        f = lambda x: timeoffline(x[1],x[2]+1,5,0.0, x[3], x[4],x[0])\n",
    "        keywords = zip([j*hs[i]*nnum*seed for j in inputs],[nnum]*reps, \n",
    "                       [pnum]*reps, [bs[i]]*reps, [hs[i]]*reps)\n",
    "        results=p.map(f, keywords)\n",
    "        temp.append(results)\n",
    "        sys.stdout.flush()\n",
    "    alltimeResults0.append(temp)\n",
    "print time()-t0"
   ]
  },
  {
   "cell_type": "code",
   "execution_count": 27,
   "metadata": {
    "collapsed": false
   },
   "outputs": [
    {
     "name": "stdout",
     "output_type": "stream",
     "text": [
      "[Saved variables alltimeResults1 to file '/Users/armin/Documents/Bust_lab/online-regression/alltimeResults1.pkl'.]\n",
      "1 \n",
      "\n",
      "2 \n",
      "\n",
      "5 \n",
      "\n",
      "10 \n",
      "\n",
      "1 \n",
      "\n",
      "2 \n",
      "\n",
      "5 \n",
      "\n",
      "10 \n",
      "\n",
      "1 \n",
      "\n",
      "2 \n",
      "\n",
      "5 \n",
      "\n",
      "10 \n",
      "\n",
      "4076.33474302\n"
     ]
    }
   ],
   "source": [
    "%%cache alltimeResults1.pkl alltimeResults1 \n",
    "s = \"PNexp\"\n",
    "seed = int(''.join(str(ord(c)) for c in s))%4294967295\n",
    "reps = 100\n",
    "alltimeResults1 = []\n",
    "Ps = [1,2,5,10]\n",
    "Ns = [1000, 10000, 100]\n",
    "bs = [20,50,2]\n",
    "hs = [50,500,5]\n",
    "p = Pool(4)\n",
    "inputs=range(1,reps+1)\n",
    "\n",
    "\n",
    "t0 = time()\n",
    "for i in xrange(3):\n",
    "    temp = []\n",
    "    for pnum in Ps:\n",
    "        nnum= Ns[i]\n",
    "        print pnum, '\\n'\n",
    "        f = lambda x: timeoffline(x[1],x[2]+1,5,1.0, x[3], x[4],x[0])\n",
    "        keywords = zip([j*hs[i]*nnum*seed for j in inputs],[nnum]*reps, \n",
    "                       [pnum]*reps, [bs[i]]*reps, [hs[i]]*reps)\n",
    "        results=p.map(f, keywords)\n",
    "        temp.append(results)\n",
    "        sys.stdout.flush()\n",
    "    alltimeResults1.append(temp)\n",
    "print time()-t0"
   ]
  },
  {
   "cell_type": "code",
   "execution_count": 28,
   "metadata": {
    "collapsed": false
   },
   "outputs": [
    {
     "name": "stdout",
     "output_type": "stream",
     "text": [
      "[Saved variables alltimeResults05 to file '/Users/armin/Documents/Bust_lab/online-regression/alltimeResults05.pkl'.]\n",
      "1 \n",
      "\n",
      "2 \n",
      "\n",
      "5 \n",
      "\n",
      "10 \n",
      "\n",
      "1 \n",
      "\n",
      "2 \n",
      "\n",
      "5 \n",
      "\n",
      "10 \n",
      "\n",
      "1 \n",
      "\n",
      "2 \n",
      "\n",
      "5 \n",
      "\n",
      "10 \n",
      "\n",
      "4834.24504805\n"
     ]
    }
   ],
   "source": [
    "%%cache alltimeResults05.pkl alltimeResults05 \n",
    "s = \"PNexp\"\n",
    "seed = int(''.join(str(ord(c)) for c in s))%4294967295\n",
    "reps = 100\n",
    "alltimeResults05 = []\n",
    "Ps = [1,2,5,10]\n",
    "Ns = [1000, 10000, 100]\n",
    "bs = [20,50,2]\n",
    "hs = [50,500,5]\n",
    "p = Pool(4)\n",
    "inputs=range(1,reps+1)\n",
    "\n",
    "\n",
    "t0 = time()\n",
    "for i in xrange(3):\n",
    "    temp = []\n",
    "    for pnum in Ps:\n",
    "        nnum= Ns[i]\n",
    "        print pnum, '\\n'\n",
    "        f = lambda x: timeoffline(x[1],x[2]+1,5,0.5, x[3], x[4],x[0])\n",
    "        keywords = zip([j*hs[i]*nnum*seed for j in inputs],[nnum]*reps, \n",
    "                       [pnum]*reps, [bs[i]]*reps, [hs[i]]*reps)\n",
    "        results=p.map(f, keywords)\n",
    "        temp.append(results)\n",
    "        sys.stdout.flush()\n",
    "    alltimeResults05.append(temp)\n",
    "print time()-t0"
   ]
  },
  {
   "cell_type": "code",
   "execution_count": null,
   "metadata": {
    "collapsed": true
   },
   "outputs": [],
   "source": [
    "reps = 100\n",
    "alltimeResults05 = []\n",
    "Ps = [1,2,5,10]\n",
    "Ns = [1000, 10000, 100]\n",
    "bs = [20,50,2]\n",
    "hs = [50,500,5]\n",
    "p = Pool(4)\n",
    "inputs=range(1,reps+1)"
   ]
  },
  {
   "cell_type": "code",
   "execution_count": null,
   "metadata": {
    "collapsed": false
   },
   "outputs": [],
   "source": [
    "np.array(alltimeResults0).shape"
   ]
  },
  {
   "cell_type": "code",
   "execution_count": 71,
   "metadata": {
    "collapsed": false
   },
   "outputs": [],
   "source": [
    "def df_convergance(P,N, sim, DO=5):\n",
    "    df = pd.DataFrame()\n",
    "    sim = np.array(sim)\n",
    "    exps = sim.shape[2]\n",
    "    tp = sim.shape[5]\n",
    "    reshaped = np.empty((exps * tp,10))\n",
    "\n",
    "    for k in range(1):\n",
    "        for i,n in enumerate(N):\n",
    "            for j,p in enumerate(P):\n",
    "                for l in range(exps):\n",
    "                    reshaped[l*tp:((l+1)*tp),:8] = sim[i,j,l,:,k,:].T\n",
    "                    reshaped[l*tp:((l+1)*tp),8] = [l]*tp\n",
    "                    reshaped[l*tp:((l+1)*tp),9] = range(0,tp*10,10)\n",
    "                cov = np.array([p-1]*exps*tp,ndmin=2).T\n",
    "                size = np.array([n]*exps*tp,ndmin=2).T\n",
    "                #timepoint = np.array([np.array(range(100))]*tp,ndmin=2).reshape(10100,1)\n",
    "                r = np.repeat(range(tp),exps).reshape(tp*exps,1)\n",
    "                #l = np.array([i]*100,ndmin=2).T\n",
    "                appended = np.hstack((reshaped,cov,size))\n",
    "                df = df.append(pd.DataFrame(data=appended, columns= ['AVG', 'SQN', 'SGD', 'ADAGRAD', 'RMSPROP', 'ADADELTA', 'ADMM',\n",
    "                                                                 'logistic', 'range', 'tps','covariates','n']))\n",
    "    df1 = df\n",
    "    df1 = (df1[['AVG', 'SQN', 'SGD', 'ADAGRAD', 'RMSPROP', 'ADADELTA', 'ADMM']].sub(df1['logistic'], axis=0))\n",
    "    #df1 = (df1[['AVG', 'SQN', 'SGD', 'ADAGRAD', 'RMSPROP', 'ADADELTA', 'ADMM']]).div(df1['logistic']+ 10**-10, axis=0)\n",
    "    df.loc[:, ['AVG', 'SQN', 'SGD', 'ADAGRAD', 'RMSPROP', 'ADADELTA', 'ADMM']] = df1[['AVG', 'SQN', 'SGD', 'ADAGRAD', 'RMSPROP', 'ADADELTA', 'ADMM']]\n",
    "    df = pd.melt(df, id_vars=[\"covariates\",\"n\",'range','tps'])\n",
    "    logs = np.log(df.value)\n",
    "    df.value = logs\n",
    "    df.value[np.isnan(logs) & ~np.isfinite(logs)] = min(logs[~np.isnan(logs) & np.isfinite(logs)])\n",
    "    return df"
   ]
  },
  {
   "cell_type": "code",
   "execution_count": 22,
   "metadata": {
    "collapsed": true
   },
   "outputs": [],
   "source": [
    "def plot_time(df,ylab,ylim):\n",
    "    f, (ax) = plt.subplots(1, 1, sharex=True)\n",
    "    sns.tsplot(time=\"tps\", value=\"value\", condition=\"variable\",\n",
    "           unit=\"range\",data=df,color=colors[1:],  err_style=\"ci_band\",ax=ax\n",
    "           ,interpolate=True,legend=False)\n",
    "    sns.set_context(\"notebook\", font_scale=1.9, rc={\"lines.linewidth\": 2.5})\n",
    "    plt.xlabel('Iterations', fontsize=22)\n",
    "    ax.set_ylabel(ylab, fontsize=32, labelpad=-2)\n",
    "    #ax.yaxis.set_label_coords(-.09, -.2)\n",
    "    ax.set_ylim(ylim)  # most of the data\n",
    "    ax.set_xlim(0, 1000)  # outliers only\n",
    "    plt.legend(loc='best')\n",
    "    ax.set_xticks(np.arange(0,1000,100))\n",
    "    ax.tick_params(labelsize=22)\n",
    "    sns.set_style(\"ticks\")\n",
    "    plt.tight_layout()\n",
    "    return f"
   ]
  },
  {
   "cell_type": "code",
   "execution_count": null,
   "metadata": {
    "collapsed": false
   },
   "outputs": [],
   "source": [
    "df = df_convergance(Ps,Ns, alltimeResults05)"
   ]
  },
  {
   "cell_type": "code",
   "execution_count": null,
   "metadata": {
    "collapsed": false
   },
   "outputs": [],
   "source": [
    "plt.rc('text', usetex=True)\n",
    "\n",
    "P = [2,3,6,11]\n",
    "P = P + P + P\n",
    "N = [1000] * 4 + [10000] * 4 + [100] * 4\n",
    "text = r\"$\\log(\\ell_{C} - \\ell_{D})$\"\n",
    "window = [-30,5]\n",
    "\n",
    "\n",
    "plot_time(df[(df.covariates==4)&(df.n==1000) & (df.variable!='logistic')],text,window)"
   ]
  },
  {
   "cell_type": "code",
   "execution_count": 100,
   "metadata": {
    "collapsed": false
   },
   "outputs": [
    {
     "data": {
      "image/png": "[encoded data removed]",
      "text/plain": [
       "<matplotlib.figure.Figure at 0x10977ead0>"
      ]
     },
     "metadata": {},
     "output_type": "display_data"
    },
    {
     "data": {
      "image/png": "[encoded data removed]",
      "text/plain": [
       "<matplotlib.figure.Figure at 0x1097b6bd0>"
      ]
     },
     "metadata": {},
     "output_type": "display_data"
    },
    {
     "data": {
      "image/png": "[encoded data removed]",
      "text/plain": [
       "<matplotlib.figure.Figure at 0x1037dccd0>"
      ]
     },
     "metadata": {},
     "output_type": "display_data"
    }
   ],
   "source": [
    "#Plotting \n",
    "plt.rc('text', usetex=True)\n",
    "\n",
    "Ps = [1,2,5,10]\n",
    "#N = [1000] * 4 + [10000] * 4 + [100] * 4\n",
    "Ns = [1000, 10000, 100]\n",
    "text = r\"$\\log(\\ell_{C} - \\ell_{D})$\"\n",
    "window = [-30,5]\n",
    "\n",
    "name, n, p= 'alltimeResults1', 1000, 4\n",
    "df = df_convergance(Ps,Ns, alltimeResults1)\n",
    "ax = plot_time(df[(df.covariates==p)&(df.n==n) & (df.variable!='logistic') & (df.variable!='AVG')],text,window)\n",
    "ax.savefig(figSaveFile+str(p)+name+\"_\"+str(n)+\".png\")\n",
    "\n",
    "name, n, p= 'alltimeResults1', 10000, 4\n",
    "df = df_convergance(Ps,Ns, alltimeResults1)\n",
    "ax = plot_time(df[(df.covariates==p)&(df.n==n) & (df.variable!='logistic') & (df.variable!='AVG')],text,window)\n",
    "ax.savefig(figSaveFile+str(p)+name+\"_\"+str(n)+\".png\")\n",
    "\n",
    "name, n, p= 'alltimeResults1', 100, 4\n",
    "df = df_convergance(Ps,Ns, alltimeResults1)\n",
    "ax = plot_time(df[(df.covariates==p)&(df.n==n) & (df.variable!='logistic') & (df.variable!='AVG')],text,window)\n",
    "ax.savefig(figSaveFile+str(p)+name+\"_\"+str(n)+\".png\")"
   ]
  },
  {
   "cell_type": "code",
   "execution_count": null,
   "metadata": {
    "collapsed": false
   },
   "outputs": [],
   "source": [
    "f, (ax) = plt.subplots(1, 1, sharex=True)\n",
    "sns.tsplot(time=\"covariates\", value=\"value\", condition=\"variable\",\n",
    "           unit=\"range\",data=df[(df.n==1000)& (df.loss==loss)& (df['range']>80)],color=colors,  err_style=\"ci_bars\",ax=ax\n",
    "          ,interpolate=True)\n",
    "sns.set_context(\"notebook\", font_scale=1.5, rc={\"lines.linewidth\": 2.5})\n",
    "ax.set_xlim(0.5, 10.5)  # outliers only\n",
    "ax.set_ylim(-0.001, .03) \n",
    "\n"
   ]
  },
  {
   "cell_type": "code",
   "execution_count": null,
   "metadata": {
    "collapsed": false,
    "scrolled": false
   },
   "outputs": [],
   "source": [
    "ax = sns.factorplot(x=\"covariates\", y=\"value\", hue=\"variable\", data=df[(df.variable!=\"AVG\") & (df.n==1000)]\n",
    "               ,palette=colors[1:], legend=False)\n",
    "ax.despine(left=True)\n",
    "plt.legend(loc='upper left')\n",
    "ax.set(xlabel='# of covariates', ylabel='Cross-entropy difference')\n",
    "ax.savefig(figSaveFile+\"p0_1000.png\")"
   ]
  },
  {
   "cell_type": "code",
   "execution_count": null,
   "metadata": {
    "collapsed": false
   },
   "outputs": [],
   "source": [
    "ind = [1,3,6]\n",
    "sns.factorplot(x=\"covariates\", y=\"value\", hue=\"variable\", \n",
    "               data=df[(df.variable!=\"RMSPROP\") &(df.variable!=\"SGD\") \n",
    "                       &(df.variable!=\"ADADELTA\") &(df.variable!=\"AVG\") & (df.n==1000)],\n",
    "               palette=colors[ind])"
   ]
  },
  {
   "cell_type": "code",
   "execution_count": null,
   "metadata": {
    "collapsed": false
   },
   "outputs": [],
   "source": [
    "ax = sns.factorplot(x=\"covariates\", y=\"value\", hue=\"variable\", \n",
    "               data=df[(df.n==10000)],\n",
    "               palette=colors, legend=False)\n",
    "ax.despine(left=True)\n",
    "plt.legend(loc='upper left')\n",
    "ax.set(xlabel='# of covariates', ylabel='Cross-entropy difference')\n",
    "ax.savefig(figSaveFile+\"p0_10000.png\")"
   ]
  },
  {
   "cell_type": "code",
   "execution_count": null,
   "metadata": {
    "collapsed": false
   },
   "outputs": [],
   "source": [
    "ind=[0,2,3,6]\n",
    "sns.factorplot(x=\"covariates\", y=\"value\", hue=\"variable\", \n",
    "               data=df[(df.n==10000)&(df.variable!=\"SGD\")&(df.variable!=\"ADADELTA\")&(df.variable!=\"RMSPROP\")],\n",
    "               palette=colors[ind])"
   ]
  },
  {
   "cell_type": "code",
   "execution_count": 105,
   "metadata": {
    "collapsed": true
   },
   "outputs": [],
   "source": [
    "totDOs = 5\n",
    "def timejustone(totCount, p, totDOs,f, bs, hs,x): # f is for fraction of categorical covariates \n",
    "    np.random.seed(1235641343*x%4294967295)\n",
    "    dim = p - 1\n",
    "    beta = np.random.normal(0,1,p)\n",
    "    #beta[0] = 0\n",
    "    DOs = []\n",
    "    num = None\n",
    "    # check that no DO gets less than 10% of the data \n",
    "    while (num == None or any(num < totCount/10.0)):\n",
    "        num = np.random.poisson(totCount/float(totDOs), totDOs-1)\n",
    "        num = np.append(num,totCount - sum(num))\n",
    "        center = DataCenter(dim)\n",
    "    #pdb.set_trace()\n",
    "    for i,n in enumerate(num):\n",
    "        DOs.append(DataRepo(n, 'm', dim, beta, center, f))\n",
    "        #center.add_repo(DOs[i])\n",
    "        \n",
    "    iters = 10000\n",
    "    center.count_data()\n",
    "    center.scale()\n",
    "    betaL,cost,roc, zeroone = all_logistic(center)\n",
    "    betas = np.zeros((2,betaL.shape[0],iters/10+1))\n",
    "    \n",
    "    #betas[0,:,:] = center.avgLogistic()     # averaging \n",
    "    #betas[1,:,:] = center.SQN(50,10,.01,bs,hs, max_iters=iters,verbose=True)   #SQN beta\n",
    "    #betas[2,:,:] = center.batch_SGD(bs,0.0001, max_iters=iters, step=200.0,verbose=True)     # simple sgd \n",
    "    betas[0,:,:] = center.batch_SGD(bs,0.0001, max_iters=iters, adagrad=1, step=5.0,verbose=True)   #adagrad \n",
    "    #betas[4,:,:] = center.batch_SGD(bs,0.0001, max_iters=iters, adagrad=2, step=0.05,verbose=True)    #rms prop \n",
    "    #betas[5,:,:] = center.batch_SGD(bs,0.0001, max_iters=iters, adagrad=3, step=.1,verbose=True)     #adadelta \n",
    "    #betas[6,:,:] = center.ADMM(1.0, max_iters=iters,verbose=True)    # admm \n",
    "    costs = np.zeros((2,3,iters/10+1))\n",
    "    for i in xrange(1):\n",
    "        for j in xrange(iters/10+1):\n",
    "            costs[i,:,j] = center.evaluate(betas[i,:,j])\n",
    "    for j in xrange(iters/10+1):\n",
    "        costs[1,:,j] = cost, roc, zeroone\n",
    "    return costs"
   ]
  },
  {
   "cell_type": "code",
   "execution_count": null,
   "metadata": {
    "collapsed": false
   },
   "outputs": [],
   "source": [
    "s = \"test\"\n",
    "seed = int(''.join(str(ord(c)) for c in s))%4294967295\n",
    "reps = 100\n",
    "longtest= []\n",
    "Ps = [2,10]\n",
    "Ns = [1000, 10000, 100]\n",
    "bs = [20,50,2]\n",
    "hs = [50,500,5]\n",
    "p = Pool(4)\n",
    "inputs=range(1,reps+1)\n",
    "\n",
    "\n",
    "t0 = time()\n",
    "for i in xrange(3):\n",
    "    temp = []\n",
    "    for pnum in Ps:\n",
    "        nnum= Ns[i]\n",
    "        print pnum\n",
    "        f = lambda x: timejustone(x[1],x[2]+1,5,0.5, x[3], x[4],x[0])\n",
    "        keywords = zip([j*hs[i]*nnum*seed for j in inputs],[nnum]*reps, \n",
    "                       [pnum]*reps, [bs[i]]*reps, [hs[i]]*reps)\n",
    "        results=p.map(f, keywords)\n",
    "        temp.append(results)\n",
    "        sys.stdout.flush()\n",
    "    longtest.append(temp)\n",
    "print time()-t0"
   ]
  },
  {
   "cell_type": "markdown",
   "metadata": {},
   "source": [
    "## Half and half"
   ]
  },
  {
   "cell_type": "code",
   "execution_count": null,
   "metadata": {
    "collapsed": false
   },
   "outputs": [],
   "source": [
    "df = pd.DataFrame()\n",
    "allpnResults05 = np.array(allpnResults05)\n",
    "P = [2,3,6,11]\n",
    "P = P + P\n",
    "N = [1000] * 4 + [10000] * 4\n",
    "\n",
    "for data in range(8):\n",
    "    p = P[data]\n",
    "    n = N[data]\n",
    "    cov = np.array([p]*allpnResults05.shape[1])\n",
    "    cov.shape = (100,1)\n",
    "    size = np.array([n]*allpnResults05.shape[1])\n",
    "    size.shape = (100,1)\n",
    "    appended = np.hstack((allpnResults05[data],cov,size))\n",
    "    df = df.append(pd.DataFrame(data=appended, columns= ['AVG', 'SQN', 'SGD', 'ADAGRAD', 'RMSPROP', 'ADADELTA', 'ADMM','logistic','covariates','n']))\n",
    "df1 = df[['AVG', 'SQN', 'SGD', 'ADAGRAD', 'RMSPROP', 'ADADELTA', 'ADMM']].sub(df['logistic'], axis=0)\n",
    "df[['AVG', 'SQN', 'SGD', 'ADAGRAD', 'RMSPROP', 'ADADELTA', 'ADMM']] = df1\n",
    "df.drop(\"logistic\", axis=1,inplace=True)\n",
    "df = pd.melt(df, id_vars=[\"covariates\",\"n\"])"
   ]
  },
  {
   "cell_type": "code",
   "execution_count": null,
   "metadata": {
    "collapsed": false
   },
   "outputs": [],
   "source": [
    "ax = sns.factorplot(x=\"covariates\", y=\"value\", hue=\"variable\", \n",
    "               data=df[(df.n==1000)&(df.variable!=\"AVG\")],\n",
    "               palette=colors[1:], legend=False)\n",
    "ax.despine(left=True)\n",
    "plt.legend(loc='upper left')\n",
    "ax.set(xlabel='# of covariates', ylabel='Cross-entropy difference')\n",
    "ax.savefig(figSaveFile+\"p05_1000.png\")"
   ]
  },
  {
   "cell_type": "code",
   "execution_count": null,
   "metadata": {
    "collapsed": false
   },
   "outputs": [],
   "source": [
    "ax = sns.factorplot(x=\"covariates\", y=\"value\", hue=\"variable\", \n",
    "               data=df[(df.n==10000)],\n",
    "               palette=colors, legend=False)\n",
    "ax.despine(left=True)\n",
    "plt.legend(loc='upper left')\n",
    "ax.set(xlabel='# of covariates', ylabel='Cross-entropy difference')\n",
    "ax.savefig(figSaveFile+\"p05_10000.png\")"
   ]
  },
  {
   "cell_type": "markdown",
   "metadata": {},
   "source": [
    "## All dosage "
   ]
  },
  {
   "cell_type": "code",
   "execution_count": null,
   "metadata": {
    "collapsed": false
   },
   "outputs": [],
   "source": [
    "df = pd.DataFrame()\n",
    "allpnResults1 = np.array(allpnResults1)\n",
    "P = [2,3,6,11]\n",
    "P = P + P\n",
    "N = [1000] * 4 + [10000] * 4\n",
    "\n",
    "for data in range(8):\n",
    "    p = P[data]\n",
    "    n = N[data]\n",
    "    cov = np.array([p]*allpnResults1.shape[1])\n",
    "    cov.shape = (100,1)\n",
    "    size = np.array([n]*allpnResults1.shape[1])\n",
    "    size.shape = (100,1)\n",
    "    appended = np.hstack((allpnResults1[data],cov,size))\n",
    "    df = df.append(pd.DataFrame(data=appended, columns= ['AVG', 'SQN', 'SGD', 'ADAGRAD', 'RMSPROP', 'ADADELTA', 'ADMM','logistic','covariates','n']))\n",
    "df1 = df[['AVG', 'SQN', 'SGD', 'ADAGRAD', 'RMSPROP', 'ADADELTA', 'ADMM']].sub(df['logistic'], axis=0)\n",
    "df[['AVG', 'SQN', 'SGD', 'ADAGRAD', 'RMSPROP', 'ADADELTA', 'ADMM']] = df1\n",
    "df.drop(\"logistic\", axis=1,inplace=True)\n",
    "df = pd.melt(df, id_vars=[\"covariates\",\"n\"])"
   ]
  },
  {
   "cell_type": "code",
   "execution_count": null,
   "metadata": {
    "collapsed": false
   },
   "outputs": [],
   "source": [
    "ax = sns.factorplot(x=\"covariates\", y=\"value\", hue=\"variable\", \n",
    "               data=df[(df.n==1000)&(df.variable!=\"AVG\")],\n",
    "               palette=colors[1:], legend=False)\n",
    "ax.despine(left=True)\n",
    "plt.legend(loc='upper left')\n",
    "ax.set(xlabel='# of covariates', ylabel='Cross-entropy difference')\n",
    "ax.savefig(figSaveFile+\"p1_1000.png\")"
   ]
  },
  {
   "cell_type": "code",
   "execution_count": null,
   "metadata": {
    "collapsed": false
   },
   "outputs": [],
   "source": [
    "ax = sns.factorplot(x=\"covariates\", y=\"value\", hue=\"variable\", \n",
    "               data=df[(df.n==10000)],\n",
    "               palette=colors, legend=False)\n",
    "ax.despine(left=True)\n",
    "plt.legend(loc='upper left')\n",
    "ax.set(xlabel='# of covariates', ylabel='Cross-entropy difference')\n",
    "ax.savefig(figSaveFile+\"p1_10000.png\")"
   ]
  },
  {
   "cell_type": "markdown",
   "metadata": {},
   "source": [
    "# P2,5  N=1000: 10,000; 3,5,7,9"
   ]
  },
  {
   "cell_type": "code",
   "execution_count": null,
   "metadata": {
    "collapsed": false,
    "scrolled": true
   },
   "outputs": [],
   "source": [
    "%%cache allnResults0.pkl allnResults0\n",
    "s = \"repoexp\"\n",
    "seed = int(''.join(str(ord(c)) for c in s))%4294967295\n",
    "reps = 100\n",
    "allnResults0 = []\n",
    "Ps = [1,2,5,10]\n",
    "RepoSize = [3,5,7,9]\n",
    "nnum = 10000\n",
    "bs = 50\n",
    "hs = 500\n",
    "p = Pool(4)\n",
    "inputs=range(1,reps+1)\n",
    "\n",
    "\n",
    "t0 = time()\n",
    "for i in xrange(len(RepoSize)):\n",
    "    for pnum in Ps:\n",
    "        s = RepoSize[i]\n",
    "        print s, '\\n'\n",
    "        tstart = time()\n",
    "        f = lambda x: offline(10000,x[2]+1,x[1],0.0, x[3], x[4],x[0])\n",
    "        keywords = zip([j*hs*RepoSize[i]*pnum*seed for j in inputs],[s]*reps, \n",
    "                       [pnum]*reps, [bs]*reps, [hs]*reps)\n",
    "        results=p.map(f, keywords)\n",
    "        allnResults0.append(results)\n",
    "        tend = time()\n",
    "        print tend-tstart, '\\n'\n",
    "        sys.stdout.flush()\n",
    "print time()-t0"
   ]
  },
  {
   "cell_type": "code",
   "execution_count": null,
   "metadata": {
    "collapsed": false,
    "scrolled": true
   },
   "outputs": [],
   "source": [
    "%%cache allnResults05.pkl allnResults05\n",
    "s = \"repo5exp\"\n",
    "seed = int(''.join(str(ord(c)) for c in s))%4294967295\n",
    "reps = 100\n",
    "allnResults05 = []\n",
    "Ps = [1,2,5,10]\n",
    "RepoSize = [3,5,7,9]\n",
    "nnum = 10000\n",
    "bs = 50\n",
    "hs = 500\n",
    "p = Pool(4)\n",
    "inputs=range(1,reps+1)\n",
    "\n",
    "\n",
    "t0 = time()\n",
    "for i in xrange(len(RepoSize)):\n",
    "    for pnum in Ps:\n",
    "        s = RepoSize[i]\n",
    "        print s, '\\n'\n",
    "        tstart = time()\n",
    "        f = lambda x: offline(10000,x[2]+1,x[1],0.5, x[3], x[4],x[0])\n",
    "        keywords = zip([j*hs*RepoSize[i]*pnum*seed for j in inputs],[s]*reps, \n",
    "                       [pnum]*reps, [bs]*reps, [hs]*reps)\n",
    "        results=p.map(f, keywords)\n",
    "        allnResults05.append(results)\n",
    "        tend = time()\n",
    "        print tend-tstart, '\\n'\n",
    "        sys.stdout.flush()\n",
    "print time()-t0"
   ]
  },
  {
   "cell_type": "code",
   "execution_count": null,
   "metadata": {
    "collapsed": false,
    "scrolled": true
   },
   "outputs": [],
   "source": [
    "%%cache allnResults1.pkl allnResults1\n",
    "s = \"rep1exp\"\n",
    "seed = int(''.join(str(ord(c)) for c in s))%4294967295\n",
    "reps = 100\n",
    "allnResults1 = []\n",
    "Ps = [1,2,5,10]\n",
    "RepoSize = [3,5,7,9]\n",
    "nnum = 10000\n",
    "bs = 50\n",
    "hs = 500\n",
    "p = Pool(4)\n",
    "inputs=range(1,reps+1)\n",
    "\n",
    "\n",
    "t0 = time()\n",
    "for i in xrange(len(RepoSize)):\n",
    "    for pnum in Ps:\n",
    "        s = RepoSize[i]\n",
    "        print s, '\\n'\n",
    "        tstart = time()\n",
    "        f = lambda x: offline(10000,x[2]+1,x[1],0.5, x[3], x[4],x[0])\n",
    "        keywords = zip([j*hs*RepoSize[i]*pnum*seed for j in inputs],[s]*reps, \n",
    "                       [pnum]*reps, [bs]*reps, [hs]*reps)\n",
    "        results=p.map(f, keywords)\n",
    "        allnResults1.append(results)\n",
    "        tend = time()\n",
    "        print tend-tstart, '\\n'\n",
    "        sys.stdout.flush()\n",
    "print time()-t0"
   ]
  },
  {
   "cell_type": "code",
   "execution_count": null,
   "metadata": {
    "collapsed": false
   },
   "outputs": [],
   "source": [
    "df = pd.DataFrame()\n",
    "allpnResults1 = np.array(allnResults0)[:,:,:,0]\n",
    "P = [2,3,6,11]\n",
    "P = P + P + P + P \n",
    "N = np.repeat(RepoSize,4)\n",
    "\n",
    "for data in range(16):\n",
    "    p = P[data]\n",
    "    n = N[data]\n",
    "    cov = np.array([p]*allpnResults1.shape[1])\n",
    "    cov.shape = (100,1)\n",
    "    size = np.array([n]*allpnResults1.shape[1])\n",
    "    size.shape = (100,1)\n",
    "    appended = np.hstack((allpnResults1[data],cov,size))\n",
    "    df = df.append(pd.DataFrame(data=appended, columns= ['AVG', 'SQN', 'SGD', 'ADAGRAD', 'RMSPROP', 'ADADELTA', 'ADMM','logistic','covariates','n']))\n",
    "df1 = df[['AVG', 'SQN', 'SGD', 'ADAGRAD', 'RMSPROP', 'ADADELTA', 'ADMM']].sub(df['logistic'], axis=0)\n",
    "df[['AVG', 'SQN', 'SGD', 'ADAGRAD', 'RMSPROP', 'ADADELTA', 'ADMM']] = df1\n",
    "df.drop(\"logistic\", axis=1,inplace=True)\n",
    "df = pd.melt(df, id_vars=[\"covariates\",\"n\"])"
   ]
  },
  {
   "cell_type": "code",
   "execution_count": null,
   "metadata": {
    "collapsed": false
   },
   "outputs": [],
   "source": [
    "ax = sns.factorplot(x=\"n\", y=\"value\", hue=\"variable\", \n",
    "               data=df[(df.covariates==11)],\n",
    "               palette=colors, legend=True)\n",
    "ax.despine(left=True)\n",
    "#plt.legend(loc='right')\n",
    "ax.set(xlabel=\"# of DO's\", ylabel='Cross-entropy difference')\n",
    "ax.savefig(figSaveFile+\"repos_p11_type0_size_10000.png\")"
   ]
  },
  {
   "cell_type": "code",
   "execution_count": null,
   "metadata": {
    "collapsed": true
   },
   "outputs": [],
   "source": [
    "def df_from_results(P,N, sim, DO=[]):\n",
    "    df = pd.DataFrame()\n",
    "    result = pd.DataFrame()\n",
    "    sim = np.array(sim)\n",
    "    loss = ['cost', 'roc', '01']\n",
    "    exps = sim.shape[0]\n",
    "    if len(DO) == 0:\n",
    "        DO = [5] * exps \n",
    "    for i in range(3):\n",
    "        for data in range(exps):\n",
    "            p = P[data]\n",
    "            n = N[data]\n",
    "            do = DO[data]\n",
    "            cov = np.array([p-1]*sim.shape[1],ndmin=2).T\n",
    "            size = np.array([n]*sim.shape[1],ndmin=2).T\n",
    "            r = np.array(range(100),ndmin=2).T\n",
    "            l = np.array([i]*100,ndmin=2).T\n",
    "            num_do = np.array([do]*100,ndmin=2).T\n",
    "            appended = np.hstack((sim[data,:,:,i],cov,size,r,l,num_do))\n",
    "            df = df.append(pd.DataFrame(data=appended, columns= ['AVG', 'SQN', 'SGD', 'ADAGRAD', 'RMSPROP', 'ADADELTA', 'ADMM',\n",
    "                                                                 'logistic','covariates','n', 'range','loss','do']))\n",
    "    df1 = df.loc[df.loss==0]\n",
    "    df1 = df1[['AVG', 'SQN', 'SGD', 'ADAGRAD', 'RMSPROP', 'ADADELTA', 'ADMM']].sub(df1['logistic'], axis=0)\n",
    "    df.loc[df.loss==0, ['AVG', 'SQN', 'SGD', 'ADAGRAD', 'RMSPROP', 'ADADELTA', 'ADMM']] = df1[['AVG', 'SQN', 'SGD', 'ADAGRAD', 'RMSPROP', 'ADADELTA', 'ADMM']]\n",
    "    \n",
    "    df1 = df.loc[df.loss==2]\n",
    "    df.loc[df.loss==2, ['AVG', 'SQN', 'SGD', 'ADAGRAD', 'RMSPROP', 'ADADELTA', 'ADMM']] = df1[['AVG', 'SQN', 'SGD', 'ADAGRAD', 'RMSPROP', 'ADADELTA', \n",
    "                                                                                               'ADMM']].div(df1.logistic, axis=0)\n",
    "    #df.drop(\"logistic\", axis=1,inplace=True)\n",
    "    df = pd.melt(df, id_vars=[\"covariates\",\"n\",'range', 'loss', 'do'])\n",
    "    return df"
   ]
  },
  {
   "cell_type": "code",
   "execution_count": null,
   "metadata": {
    "collapsed": false
   },
   "outputs": [],
   "source": [
    "#Plotting \n",
    "P = [2,3,6,11]\n",
    "P = P + P + P + P\n",
    "N = [10000] * 16\n",
    "DO = np.sort(RepoSize * 4)\n",
    "df = df_from_results(P,N, allnResults0, DO=DO)\n",
    "\n",
    "name, n, loss = 'allpnResults0', 1000, 0\n",
    "ax = plot_pn(df[(df.n==n) & (df.loss==loss)& (df.variable!='logistic')],'Cost Function Difference',[-0.005,.03])\n",
    "ax.savefig(figSaveFile+\"p_\"+name+\"_\"+str(n)+\"_\"+str(loss)+\".png\")"
   ]
  },
  {
   "cell_type": "code",
   "execution_count": null,
   "metadata": {
    "collapsed": false
   },
   "outputs": [],
   "source": [
    "np.sort(RepoSize * 4)"
   ]
  },
  {
   "cell_type": "code",
   "execution_count": null,
   "metadata": {
    "collapsed": false
   },
   "outputs": [],
   "source": [
    "a = np.array([5]*100,ndmin=2).T\n",
    "print a.shape"
   ]
  },
  {
   "cell_type": "code",
   "execution_count": null,
   "metadata": {
    "collapsed": true
   },
   "outputs": [],
   "source": [
    "df = pd.DataFrame()\n",
    "allpnResults1 = np.array(allnResults05)\n",
    "P = [2,3,6,11]\n",
    "P = P + P + P + P \n",
    "N = np.repeat(RepoSize,4)\n",
    "\n",
    "for data in range(16):\n",
    "    p = P[data]\n",
    "    n = N[data]\n",
    "    cov = np.array([p]*allpnResults1.shape[1])\n",
    "    cov.shape = (100,1)\n",
    "    size = np.array([n]*allpnResults1.shape[1])\n",
    "    size.shape = (100,1)\n",
    "    appended = np.hstack((allpnResults1[data],cov,size))\n",
    "    df = df.append(pd.DataFrame(data=appended, columns= ['AVG', 'SQN', 'SGD', 'ADAGRAD', 'RMSPROP', 'ADADELTA', 'ADMM','logistic','covariates','n']))\n",
    "df1 = df[['AVG', 'SQN', 'SGD', 'ADAGRAD', 'RMSPROP', 'ADADELTA', 'ADMM']].sub(df['logistic'], axis=0)\n",
    "df[['AVG', 'SQN', 'SGD', 'ADAGRAD', 'RMSPROP', 'ADADELTA', 'ADMM']] = df1\n",
    "df.drop(\"logistic\", axis=1,inplace=True)\n",
    "df = pd.melt(df, id_vars=[\"covariates\",\"n\"])"
   ]
  },
  {
   "cell_type": "code",
   "execution_count": null,
   "metadata": {
    "collapsed": false,
    "scrolled": true
   },
   "outputs": [],
   "source": [
    "ax = sns.factorplot(x=\"n\", y=\"value\", hue=\"variable\", \n",
    "               data=df[(df.covariates==2)],\n",
    "               palette=colors, legend=True)\n",
    "ax.despine(left=True)\n",
    "#plt.legend(loc='right')\n",
    "ax.set(xlabel=\"# of DO's\", ylabel='Cross-entropy difference')\n",
    "ax.savefig(figSaveFile+\"repos_p2_type05_size_10000.png\")"
   ]
  },
  {
   "cell_type": "code",
   "execution_count": null,
   "metadata": {
    "collapsed": false
   },
   "outputs": [],
   "source": [
    "%%cache allnResults05_1000.pkl allnResults05_1000\n",
    "s = \"repo5exp\"\n",
    "seed = int(''.join(str(ord(c)) for c in s))%4294967295\n",
    "reps = 100\n",
    "allnResults05_1000 = []\n",
    "Ps = [1,2,5,10]\n",
    "RepoSize = [3,5,7,9]\n",
    "nnum = 1000\n",
    "bs = 20\n",
    "hs = 50\n",
    "p = Pool(4)\n",
    "inputs=range(1,reps+1)\n",
    "\n",
    "\n",
    "t0 = time()\n",
    "for i in xrange(len(RepoSize)):\n",
    "    for pnum in Ps:\n",
    "        s = RepoSize[i]\n",
    "        print s, '\\n'\n",
    "        tstart = time()\n",
    "        f = lambda x: offline(1000,x[2]+1,x[1],0.5, x[3], x[4],x[0])\n",
    "        keywords = zip([j*hs*RepoSize[i]*pnum*seed for j in inputs],[s]*reps, \n",
    "                       [pnum]*reps, [bs]*reps, [hs]*reps)\n",
    "        results=p.map(f, keywords)\n",
    "        allnResults05_1000.append(results)\n",
    "        tend = time()\n",
    "        print tend-tstart, '\\n'\n",
    "        sys.stdout.flush()\n",
    "print time()-t0"
   ]
  },
  {
   "cell_type": "code",
   "execution_count": null,
   "metadata": {
    "collapsed": false
   },
   "outputs": [],
   "source": [
    "df = pd.DataFrame()\n",
    "allpnResults1 = np.array(allnResults05_1000)\n",
    "P = [2,3,6,11]\n",
    "P = P + P + P + P \n",
    "N = np.repeat(RepoSize,4)\n",
    "\n",
    "for data in range(16):\n",
    "    p = P[data]\n",
    "    n = N[data]\n",
    "    cov = np.array([p]*allpnResults1.shape[1])\n",
    "    cov.shape = (100,1)\n",
    "    size = np.array([n]*allpnResults1.shape[1])\n",
    "    size.shape = (100,1)\n",
    "    appended = np.hstack((allpnResults1[data],cov,size))\n",
    "    df = df.append(pd.DataFrame(data=appended, columns= ['AVG', 'SQN', 'SGD', 'ADAGRAD', 'RMSPROP', 'ADADELTA', 'ADMM','logistic','covariates','n']))\n",
    "df1 = df[['AVG', 'SQN', 'SGD', 'ADAGRAD', 'RMSPROP', 'ADADELTA', 'ADMM']].sub(df['logistic'], axis=0)\n",
    "df[['AVG', 'SQN', 'SGD', 'ADAGRAD', 'RMSPROP', 'ADADELTA', 'ADMM']] = df1\n",
    "df.drop(\"logistic\", axis=1,inplace=True)\n",
    "df = pd.melt(df, id_vars=[\"covariates\",\"n\"])"
   ]
  },
  {
   "cell_type": "code",
   "execution_count": null,
   "metadata": {
    "collapsed": false
   },
   "outputs": [],
   "source": [
    "ax = sns.factorplot(x=\"n\", y=\"value\", hue=\"variable\", \n",
    "               data=df[(df.covariates==2)],\n",
    "               palette=colors, legend=True)\n",
    "ax.despine(left=True)\n",
    "#plt.legend(loc='right')\n",
    "ax.set(xlabel=\"# of DO's\", ylabel='Cross-entropy difference')\n",
    "ax.savefig(figSaveFile+\"repos_p2_type05_size_1000.png\")"
   ]
  },
  {
   "cell_type": "markdown",
   "metadata": {},
   "source": [
    "# Extreme cases"
   ]
  },
  {
   "cell_type": "code",
   "execution_count": null,
   "metadata": {
    "collapsed": false,
    "scrolled": true
   },
   "outputs": [],
   "source": [
    "%%cache allpnResults0_100.pkl allpnResults0_100\n",
    "s = \"PNexp0100\"\n",
    "seed = int(''.join(str(ord(c)) for c in s))%4294967295\n",
    "reps = 100\n",
    "allpnResults0_100 = []\n",
    "Ps = [1,2,5,10]\n",
    "Ns = [100]\n",
    "bs = [5]\n",
    "hs = [10]\n",
    "p = Pool(4)\n",
    "inputs=range(1,reps+1)\n",
    "\n",
    "\n",
    "t0 = time()\n",
    "for i in xrange(2):\n",
    "    for pnum in Ps:\n",
    "        nnum= Ns[i]\n",
    "        print pnum, '\\n'\n",
    "        tstart = time()\n",
    "        f = lambda x: offline(x[1],x[2]+1,5,0.0, x[3], x[4],x[0])\n",
    "        keywords = zip([j*hs[i]*nnum*seed for j in inputs],[nnum]*reps, \n",
    "                       [pnum]*reps, [bs[i]]*reps, [hs[i]]*reps)\n",
    "        results=p.map(f, keywords)\n",
    "        allpnResults0_100.append(results)\n",
    "        tend = time()\n",
    "        print tend-tstart, '\\n'\n",
    "        sys.stdout.flush()\n",
    "print time()-t0"
   ]
  },
  {
   "cell_type": "code",
   "execution_count": null,
   "metadata": {
    "collapsed": false
   },
   "outputs": [],
   "source": [
    "df = pd.DataFrame()\n",
    "allpnResults05 = np.array(allpnResults0_100)\n",
    "P = [2,3,6,11]\n",
    "P = P \n",
    "N = [100] * 4 \n",
    "\n",
    "for data in range(4):\n",
    "    p = P[data]\n",
    "    n = N[data]\n",
    "    cov = np.array([p]*allpnResults05.shape[1])\n",
    "    cov.shape = (100,1)\n",
    "    size = np.array([n]*allpnResults05.shape[1])\n",
    "    size.shape = (100,1)\n",
    "    appended = np.hstack((allpnResults05[data],cov,size))\n",
    "    df = df.append(pd.DataFrame(data=appended, columns= ['AVG', 'SQN', 'SGD', 'ADAGRAD', 'RMSPROP', 'ADADELTA', 'ADMM','logistic','covariates','n']))\n",
    "df1 = df[['AVG', 'SQN', 'SGD', 'ADAGRAD', 'RMSPROP', 'ADADELTA', 'ADMM']].sub(df['logistic'], axis=0)\n",
    "df[['AVG', 'SQN', 'SGD', 'ADAGRAD', 'RMSPROP', 'ADADELTA', 'ADMM']] = df1\n",
    "df.drop(\"logistic\", axis=1,inplace=True)\n",
    "df = pd.melt(df, id_vars=[\"covariates\",\"n\"])"
   ]
  },
  {
   "cell_type": "code",
   "execution_count": null,
   "metadata": {
    "collapsed": false
   },
   "outputs": [],
   "source": [
    "ax = sns.factorplot(x=\"covariates\", y=\"value\", hue=\"variable\", data=df[(df.variable!=\"AVG\") & (df.n==100)]\n",
    "               ,palette=colors[1:], legend=False)\n",
    "ax.despine(left=True)\n",
    "plt.legend(loc='upper left')\n",
    "ax.set(xlabel='# of covariates', ylabel='Cross-entropy difference')\n",
    "#ax.savefig(figSaveFile+\"p0_1000.png\")"
   ]
  },
  {
   "cell_type": "markdown",
   "metadata": {},
   "source": [
    "# Linear Regression"
   ]
  },
  {
   "cell_type": "code",
   "execution_count": null,
   "metadata": {
    "collapsed": true
   },
   "outputs": [],
   "source": [
    "totDOs = 5\n",
    "def offlineLasso(totCount, p, totDOs,f, bs, hs,x,logistic=False): # f is for fraction of categorical covariates \n",
    "    np.random.seed(1235641343*x%4294967295)\n",
    "    dim = p - 1\n",
    "    beta = np.random.normal(0,1,p)\n",
    "    #beta[0] = 0\n",
    "    DOs = []\n",
    "    num = None\n",
    "    # check that no DO gets less than 10% of the data \n",
    "    while (num == None or any(num < totCount/10.0)):\n",
    "        num = np.random.poisson(totCount/float(totDOs), totDOs-1)\n",
    "        num = np.append(num,totCount - sum(num))\n",
    "        center = DataCenter(dim)\n",
    "    for i,n in enumerate(num):\n",
    "        DOs.append(DataRepo(n, 'm', dim, beta, center, f))\n",
    "        #center.add_repo(DOs[i])\n",
    "    \n",
    "    betaL,cost = all_logistic(center, False)\n",
    "    betas = np.zeros((7,betaL.shape[0]))\n",
    "    #pdb.set_trace()\n",
    "    betas[0,:] = center.avgLinearReg()     # averaging \n",
    "    betas[1,:] = center.SQN(50,10,.05,bs,hs, max_iters=1000)   #SQN beta\n",
    "    betas[2,:] = center.batch_SGD(bs,0.0001, max_iters=1000, step=0.1, logistic=False)[0]      # simple sgd \n",
    "    betas[3,:] = center.batch_SGD(bs,0.0001, max_iters=1000, adagrad=1, step=0.1, logistic=False)[0]    #adagrad \n",
    "    betas[4,:] = center.batch_SGD(bs,0.0001, max_iters=1000, adagrad=2, step=0.01,logistic=False)[0]     #rms prop \n",
    "    betas[5,:] = center.batch_SGD(bs,0.0001, max_iters=1000, adagrad=3, step=0.1,logistic=False)[0]     #adadelta \n",
    "    betas[6,:] = center.ADMM(1.0, max_iters=1000,logistic=False)    # admm \n",
    "    print betas\n",
    "    print betaL\n",
    "    print beta\n",
    "    costs = np.zeros(7)\n",
    "    for i in xrange(7):\n",
    "        costs[i] = center.evaluate(betas[i,:], logistic=False)\n",
    "    return np.append(costs,cost)\n",
    "\n"
   ]
  },
  {
   "cell_type": "code",
   "execution_count": null,
   "metadata": {
    "collapsed": false
   },
   "outputs": [],
   "source": [
    "offlineLasso(1000, 5, totDOs,1.0, 20, 50,123)"
   ]
  }
 ],
 "metadata": {
  "kernelspec": {
   "display_name": "Python 2",
   "language": "python",
   "name": "python2"
  },
  "language_info": {
   "codemirror_mode": {
    "name": "ipython",
    "version": 2
   },
   "file_extension": ".py",
   "mimetype": "text/x-python",
   "name": "python",
   "nbconvert_exporter": "python",
   "pygments_lexer": "ipython2",
   "version": "2.7.13"
  }
 },
 "nbformat": 4,
 "nbformat_minor": 0
}
